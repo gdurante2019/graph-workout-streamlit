{
 "cells": [
  {
   "cell_type": "markdown",
   "id": "80909fc8",
   "metadata": {},
   "source": [
    "# Recreating Zwift ride powerplot"
   ]
  },
  {
   "cell_type": "markdown",
   "id": "b9b1655d",
   "metadata": {},
   "source": [
    "## Import .fit file and convert to pandas dataframe"
   ]
  },
  {
   "cell_type": "code",
   "execution_count": 1,
   "id": "ccc516cb",
   "metadata": {},
   "outputs": [],
   "source": [
    "import os\n",
    "import datetime\n",
    "from fitparse import FitFile    # https://github.com/dtcooper/python-fitparse\n",
    "import pandas as pd\n",
    "import numpy as np\n",
    "import streamlit as st\n",
    "import matplotlib.pyplot as plt\n",
    "from tqdm import tqdm\n",
    "from smooth import smooth\n",
    "from matplotlib.offsetbox import (TextArea, DrawingArea, OffsetImage,\n",
    "                                  AnnotationBbox, AnchoredText, AnchoredOffsetbox)\n",
    "from matplotlib.text import Annotation\n"
   ]
  },
  {
   "cell_type": "markdown",
   "id": "ef9f129e",
   "metadata": {},
   "source": [
    "## Title of Streamlit app"
   ]
  },
  {
   "cell_type": "code",
   "execution_count": 2,
   "id": "14d8a2e4",
   "metadata": {},
   "outputs": [
    {
     "name": "stderr",
     "output_type": "stream",
     "text": [
      "2022-12-11 11:24:38.556 \n",
      "  \u001b[33m\u001b[1mWarning:\u001b[0m to view this Streamlit app on a browser, run it with the following\n",
      "  command:\n",
      "\n",
      "    streamlit run /Users/ginadurante/miniforge3/envs/py39/lib/python3.9/site-packages/ipykernel_launcher.py [ARGUMENTS]\n"
     ]
    },
    {
     "data": {
      "text/plain": [
       "DeltaGenerator(_root_container=0, _provided_cursor=None, _parent=None, _block_type=None, _form_data=None)"
      ]
     },
     "execution_count": 2,
     "metadata": {},
     "output_type": "execute_result"
    }
   ],
   "source": [
    "st.title('Workout Graph in Zwift Style')"
   ]
  },
  {
   "cell_type": "markdown",
   "id": "ea163459",
   "metadata": {},
   "source": [
    "##  Obtain FTP value from user to determine workout zones in graph"
   ]
  },
  {
   "cell_type": "code",
   "execution_count": 25,
   "id": "2e8ac9dc",
   "metadata": {
    "scrolled": true
   },
   "outputs": [
    {
     "name": "stdout",
     "output_type": "stream",
     "text": [
      "Enter FTP in watts (whole numbers only):  256\n",
      "\n",
      "Your FTP has been recorded as 256 watts.\n"
     ]
    }
   ],
   "source": [
    "# set up try / except loop:\n",
    "n = 0\n",
    "while n < 3: \n",
    "    try:\n",
    "        ftp = int(input(\"Enter FTP in watts (whole numbers only):  \"))\n",
    "        print(f\"\\nYour FTP has been recorded as {ftp} watts.\")\n",
    "        break\n",
    "    except ValueError:\n",
    "        n += 1\n",
    "        print(\"\\nYour FTP value cannot contain letters, be left blank, or be entered as a decimal value. \\n\")\n"
   ]
  },
  {
   "cell_type": "markdown",
   "id": "1a7cc0b0",
   "metadata": {},
   "source": [
    "## Have user enter file name / upload file"
   ]
  },
  {
   "cell_type": "markdown",
   "id": "1dba4956",
   "metadata": {},
   "source": [
    "The code for importing .fit files and converting to a pandas dataframe is from http://johannesjacob.com/analyze-your-cycling-data-python/.\n",
    "To install the python packages, type 'pip install pandas numpy fitparse matplotlib tqdm' on the command line.\n"
   ]
  },
  {
   "cell_type": "code",
   "execution_count": 26,
   "id": "71a85da9",
   "metadata": {},
   "outputs": [
    {
     "name": "stdout",
     "output_type": "stream",
     "text": [
      "Type filename, including .fit extension:  activity_export_fit_221211110639-zvhW.fit\n"
     ]
    }
   ],
   "source": [
    "filename = input(\"Type filename, including .fit extension:  \")\n",
    "# 2021-10-05-10-54-32.fit\n",
    "\n",
    "fitfile = FitFile(filename)"
   ]
  },
  {
   "cell_type": "markdown",
   "id": "c35f2ad9",
   "metadata": {},
   "source": [
    "#### From Johannes Jacob's blog post (http://johannesjacob.com/2019/03/13/analyze-your-cycling-data-python/):  \n",
    "_\"Now we are ready to import the workout file and transform the data into a \n",
    "pandas dataframe. Unfortunately we have to use an ugly hack with this \"while\" \n",
    "loop to avoid timing issues. Then we are looping through the file, append \n",
    "the records to a list and convert the list to a pandas dataframe.\"_"
   ]
  },
  {
   "cell_type": "code",
   "execution_count": 27,
   "id": "6d97a83e",
   "metadata": {},
   "outputs": [],
   "source": [
    "def parse_fitfile(uploaded_file):\n",
    "    fitfile = FitFile(uploaded_file)\n",
    "    while True:\n",
    "        try:\n",
    "            fitfile.messages\n",
    "            break\n",
    "        except KeyError:\n",
    "            continue\n",
    "    workout = []\n",
    "    for record in fitfile.get_messages('record'):\n",
    "        r = {}\n",
    "        for record_data in record:\n",
    "            r[record_data.name] = record_data.value\n",
    "        workout.append(r)\n",
    "    df = pd.DataFrame(workout)\n",
    "    \n",
    "    return df"
   ]
  },
  {
   "cell_type": "code",
   "execution_count": 28,
   "id": "73477ec7",
   "metadata": {},
   "outputs": [],
   "source": [
    "df = parse_fitfile(filename)"
   ]
  },
  {
   "cell_type": "code",
   "execution_count": 29,
   "id": "0793d869",
   "metadata": {
    "scrolled": false
   },
   "outputs": [
    {
     "data": {
      "text/html": [
       "<div>\n",
       "<style scoped>\n",
       "    .dataframe tbody tr th:only-of-type {\n",
       "        vertical-align: middle;\n",
       "    }\n",
       "\n",
       "    .dataframe tbody tr th {\n",
       "        vertical-align: top;\n",
       "    }\n",
       "\n",
       "    .dataframe thead th {\n",
       "        text-align: right;\n",
       "    }\n",
       "</style>\n",
       "<table border=\"1\" class=\"dataframe\">\n",
       "  <thead>\n",
       "    <tr style=\"text-align: right;\">\n",
       "      <th></th>\n",
       "      <th>altitude</th>\n",
       "      <th>cadence</th>\n",
       "      <th>distance</th>\n",
       "      <th>enhanced_altitude</th>\n",
       "      <th>enhanced_speed</th>\n",
       "      <th>left_right_balance</th>\n",
       "      <th>position_lat</th>\n",
       "      <th>position_long</th>\n",
       "      <th>power</th>\n",
       "      <th>speed</th>\n",
       "      <th>timestamp</th>\n",
       "    </tr>\n",
       "  </thead>\n",
       "  <tbody>\n",
       "    <tr>\n",
       "      <th>0</th>\n",
       "      <td>209.8</td>\n",
       "      <td>NaN</td>\n",
       "      <td>0.05</td>\n",
       "      <td>209.8</td>\n",
       "      <td>0.463</td>\n",
       "      <td>NaN</td>\n",
       "      <td>520785169</td>\n",
       "      <td>66641630</td>\n",
       "      <td>46.0</td>\n",
       "      <td>0.463</td>\n",
       "      <td>2022-12-11 09:05:21</td>\n",
       "    </tr>\n",
       "    <tr>\n",
       "      <th>1</th>\n",
       "      <td>209.8</td>\n",
       "      <td>NaN</td>\n",
       "      <td>1.09</td>\n",
       "      <td>209.8</td>\n",
       "      <td>1.595</td>\n",
       "      <td>NaN</td>\n",
       "      <td>520785162</td>\n",
       "      <td>66641477</td>\n",
       "      <td>95.0</td>\n",
       "      <td>1.595</td>\n",
       "      <td>2022-12-11 09:05:22</td>\n",
       "    </tr>\n",
       "    <tr>\n",
       "      <th>2</th>\n",
       "      <td>209.8</td>\n",
       "      <td>NaN</td>\n",
       "      <td>3.13</td>\n",
       "      <td>209.8</td>\n",
       "      <td>2.370</td>\n",
       "      <td>NaN</td>\n",
       "      <td>520785148</td>\n",
       "      <td>66641174</td>\n",
       "      <td>95.0</td>\n",
       "      <td>2.370</td>\n",
       "      <td>2022-12-11 09:05:32</td>\n",
       "    </tr>\n",
       "    <tr>\n",
       "      <th>3</th>\n",
       "      <td>209.8</td>\n",
       "      <td>NaN</td>\n",
       "      <td>5.77</td>\n",
       "      <td>209.8</td>\n",
       "      <td>2.966</td>\n",
       "      <td>NaN</td>\n",
       "      <td>520785130</td>\n",
       "      <td>66640784</td>\n",
       "      <td>109.0</td>\n",
       "      <td>2.966</td>\n",
       "      <td>2022-12-11 09:05:33</td>\n",
       "    </tr>\n",
       "    <tr>\n",
       "      <th>4</th>\n",
       "      <td>209.8</td>\n",
       "      <td>NaN</td>\n",
       "      <td>9.01</td>\n",
       "      <td>209.8</td>\n",
       "      <td>3.496</td>\n",
       "      <td>NaN</td>\n",
       "      <td>520785107</td>\n",
       "      <td>66640306</td>\n",
       "      <td>109.0</td>\n",
       "      <td>3.496</td>\n",
       "      <td>2022-12-11 09:05:34</td>\n",
       "    </tr>\n",
       "    <tr>\n",
       "      <th>...</th>\n",
       "      <td>...</td>\n",
       "      <td>...</td>\n",
       "      <td>...</td>\n",
       "      <td>...</td>\n",
       "      <td>...</td>\n",
       "      <td>...</td>\n",
       "      <td>...</td>\n",
       "      <td>...</td>\n",
       "      <td>...</td>\n",
       "      <td>...</td>\n",
       "      <td>...</td>\n",
       "    </tr>\n",
       "    <tr>\n",
       "      <th>7221</th>\n",
       "      <td>292.2</td>\n",
       "      <td>0.0</td>\n",
       "      <td>60363.30</td>\n",
       "      <td>292.2</td>\n",
       "      <td>3.045</td>\n",
       "      <td>NaN</td>\n",
       "      <td>519164376</td>\n",
       "      <td>68052355</td>\n",
       "      <td>0.0</td>\n",
       "      <td>3.045</td>\n",
       "      <td>2022-12-11 11:06:41</td>\n",
       "    </tr>\n",
       "    <tr>\n",
       "      <th>7222</th>\n",
       "      <td>292.2</td>\n",
       "      <td>0.0</td>\n",
       "      <td>60366.16</td>\n",
       "      <td>292.2</td>\n",
       "      <td>2.689</td>\n",
       "      <td>NaN</td>\n",
       "      <td>519164474</td>\n",
       "      <td>68051954</td>\n",
       "      <td>0.0</td>\n",
       "      <td>2.689</td>\n",
       "      <td>2022-12-11 11:06:42</td>\n",
       "    </tr>\n",
       "    <tr>\n",
       "      <th>7223</th>\n",
       "      <td>292.2</td>\n",
       "      <td>0.0</td>\n",
       "      <td>60368.67</td>\n",
       "      <td>292.2</td>\n",
       "      <td>2.337</td>\n",
       "      <td>NaN</td>\n",
       "      <td>519164560</td>\n",
       "      <td>68051603</td>\n",
       "      <td>0.0</td>\n",
       "      <td>2.337</td>\n",
       "      <td>2022-12-11 11:06:43</td>\n",
       "    </tr>\n",
       "    <tr>\n",
       "      <th>7224</th>\n",
       "      <td>292.2</td>\n",
       "      <td>0.0</td>\n",
       "      <td>60370.82</td>\n",
       "      <td>292.2</td>\n",
       "      <td>1.989</td>\n",
       "      <td>NaN</td>\n",
       "      <td>519164634</td>\n",
       "      <td>68051300</td>\n",
       "      <td>0.0</td>\n",
       "      <td>1.989</td>\n",
       "      <td>2022-12-11 11:06:44</td>\n",
       "    </tr>\n",
       "    <tr>\n",
       "      <th>7225</th>\n",
       "      <td>292.2</td>\n",
       "      <td>0.0</td>\n",
       "      <td>60370.99</td>\n",
       "      <td>292.2</td>\n",
       "      <td>1.960</td>\n",
       "      <td>NaN</td>\n",
       "      <td>519164640</td>\n",
       "      <td>68051277</td>\n",
       "      <td>0.0</td>\n",
       "      <td>1.960</td>\n",
       "      <td>2022-12-11 11:06:45</td>\n",
       "    </tr>\n",
       "  </tbody>\n",
       "</table>\n",
       "<p>7226 rows × 11 columns</p>\n",
       "</div>"
      ],
      "text/plain": [
       "      altitude  cadence  distance  enhanced_altitude  enhanced_speed  \\\n",
       "0        209.8      NaN      0.05              209.8           0.463   \n",
       "1        209.8      NaN      1.09              209.8           1.595   \n",
       "2        209.8      NaN      3.13              209.8           2.370   \n",
       "3        209.8      NaN      5.77              209.8           2.966   \n",
       "4        209.8      NaN      9.01              209.8           3.496   \n",
       "...        ...      ...       ...                ...             ...   \n",
       "7221     292.2      0.0  60363.30              292.2           3.045   \n",
       "7222     292.2      0.0  60366.16              292.2           2.689   \n",
       "7223     292.2      0.0  60368.67              292.2           2.337   \n",
       "7224     292.2      0.0  60370.82              292.2           1.989   \n",
       "7225     292.2      0.0  60370.99              292.2           1.960   \n",
       "\n",
       "      left_right_balance  position_lat  position_long  power  speed  \\\n",
       "0                    NaN     520785169       66641630   46.0  0.463   \n",
       "1                    NaN     520785162       66641477   95.0  1.595   \n",
       "2                    NaN     520785148       66641174   95.0  2.370   \n",
       "3                    NaN     520785130       66640784  109.0  2.966   \n",
       "4                    NaN     520785107       66640306  109.0  3.496   \n",
       "...                  ...           ...            ...    ...    ...   \n",
       "7221                 NaN     519164376       68052355    0.0  3.045   \n",
       "7222                 NaN     519164474       68051954    0.0  2.689   \n",
       "7223                 NaN     519164560       68051603    0.0  2.337   \n",
       "7224                 NaN     519164634       68051300    0.0  1.989   \n",
       "7225                 NaN     519164640       68051277    0.0  1.960   \n",
       "\n",
       "               timestamp  \n",
       "0    2022-12-11 09:05:21  \n",
       "1    2022-12-11 09:05:22  \n",
       "2    2022-12-11 09:05:32  \n",
       "3    2022-12-11 09:05:33  \n",
       "4    2022-12-11 09:05:34  \n",
       "...                  ...  \n",
       "7221 2022-12-11 11:06:41  \n",
       "7222 2022-12-11 11:06:42  \n",
       "7223 2022-12-11 11:06:43  \n",
       "7224 2022-12-11 11:06:44  \n",
       "7225 2022-12-11 11:06:45  \n",
       "\n",
       "[7226 rows x 11 columns]"
      ]
     },
     "execution_count": 29,
     "metadata": {},
     "output_type": "execute_result"
    }
   ],
   "source": [
    "df"
   ]
  },
  {
   "cell_type": "code",
   "execution_count": 30,
   "id": "cdfd551d",
   "metadata": {},
   "outputs": [
    {
     "data": {
      "text/plain": [
       "['altitude',\n",
       " 'cadence',\n",
       " 'distance',\n",
       " 'enhanced_altitude',\n",
       " 'enhanced_speed',\n",
       " 'left_right_balance',\n",
       " 'position_lat',\n",
       " 'position_long',\n",
       " 'power',\n",
       " 'speed',\n",
       " 'timestamp']"
      ]
     },
     "execution_count": 30,
     "metadata": {},
     "output_type": "execute_result"
    }
   ],
   "source": [
    "column_list = list(df.columns)\n",
    "column_list"
   ]
  },
  {
   "cell_type": "markdown",
   "id": "8fb899ed",
   "metadata": {},
   "source": [
    "##  Remove unnecessary columns and remove null values"
   ]
  },
  {
   "cell_type": "code",
   "execution_count": 31,
   "id": "fa1b30bf",
   "metadata": {},
   "outputs": [],
   "source": [
    "def df_clean_trim(df):\n",
    "    # Set up new dataframe with only necessary columns\n",
    "    # First, check to see if heart rate data is present\n",
    "    if ('heart_rate' in column_list):\n",
    "        df_cleaned = df[['heart_rate', 'power', 'timestamp']].copy()\n",
    "        # Insert a column 'data_points' to enable selection of max hr and watts by index\n",
    "        df_cleaned.insert(loc=0, column='data_points', value=np.arange(len(df)))\n",
    "        df_cleaned.rename(columns = {'power':'watts'}, inplace = True)\n",
    "        df_cleaned['watts'].fillna(0, inplace=True)\n",
    "        df_cleaned['heart_rate'].fillna(0, inplace=True)\n",
    "    else:\n",
    "        df_cleaned = df[['power', 'timestamp']].copy()\n",
    "        # Insert a column 'data_points' to enable selection of max hr and watts by index\n",
    "        df_cleaned.insert(loc=0, column='data_points', value=np.arange(len(df)))\n",
    "        df_cleaned.rename(columns = {'power':'watts'}, inplace = True)\n",
    "        df_cleaned['watts'].fillna(0, inplace=True)\n",
    "\n",
    "    return df_cleaned"
   ]
  },
  {
   "cell_type": "code",
   "execution_count": 32,
   "id": "ee5ceef8",
   "metadata": {},
   "outputs": [
    {
     "data": {
      "text/html": [
       "<div>\n",
       "<style scoped>\n",
       "    .dataframe tbody tr th:only-of-type {\n",
       "        vertical-align: middle;\n",
       "    }\n",
       "\n",
       "    .dataframe tbody tr th {\n",
       "        vertical-align: top;\n",
       "    }\n",
       "\n",
       "    .dataframe thead th {\n",
       "        text-align: right;\n",
       "    }\n",
       "</style>\n",
       "<table border=\"1\" class=\"dataframe\">\n",
       "  <thead>\n",
       "    <tr style=\"text-align: right;\">\n",
       "      <th></th>\n",
       "      <th>data_points</th>\n",
       "      <th>watts</th>\n",
       "      <th>timestamp</th>\n",
       "    </tr>\n",
       "  </thead>\n",
       "  <tbody>\n",
       "    <tr>\n",
       "      <th>0</th>\n",
       "      <td>0</td>\n",
       "      <td>46.0</td>\n",
       "      <td>2022-12-11 09:05:21</td>\n",
       "    </tr>\n",
       "    <tr>\n",
       "      <th>1</th>\n",
       "      <td>1</td>\n",
       "      <td>95.0</td>\n",
       "      <td>2022-12-11 09:05:22</td>\n",
       "    </tr>\n",
       "    <tr>\n",
       "      <th>2</th>\n",
       "      <td>2</td>\n",
       "      <td>95.0</td>\n",
       "      <td>2022-12-11 09:05:32</td>\n",
       "    </tr>\n",
       "    <tr>\n",
       "      <th>3</th>\n",
       "      <td>3</td>\n",
       "      <td>109.0</td>\n",
       "      <td>2022-12-11 09:05:33</td>\n",
       "    </tr>\n",
       "    <tr>\n",
       "      <th>4</th>\n",
       "      <td>4</td>\n",
       "      <td>109.0</td>\n",
       "      <td>2022-12-11 09:05:34</td>\n",
       "    </tr>\n",
       "    <tr>\n",
       "      <th>...</th>\n",
       "      <td>...</td>\n",
       "      <td>...</td>\n",
       "      <td>...</td>\n",
       "    </tr>\n",
       "    <tr>\n",
       "      <th>7221</th>\n",
       "      <td>7221</td>\n",
       "      <td>0.0</td>\n",
       "      <td>2022-12-11 11:06:41</td>\n",
       "    </tr>\n",
       "    <tr>\n",
       "      <th>7222</th>\n",
       "      <td>7222</td>\n",
       "      <td>0.0</td>\n",
       "      <td>2022-12-11 11:06:42</td>\n",
       "    </tr>\n",
       "    <tr>\n",
       "      <th>7223</th>\n",
       "      <td>7223</td>\n",
       "      <td>0.0</td>\n",
       "      <td>2022-12-11 11:06:43</td>\n",
       "    </tr>\n",
       "    <tr>\n",
       "      <th>7224</th>\n",
       "      <td>7224</td>\n",
       "      <td>0.0</td>\n",
       "      <td>2022-12-11 11:06:44</td>\n",
       "    </tr>\n",
       "    <tr>\n",
       "      <th>7225</th>\n",
       "      <td>7225</td>\n",
       "      <td>0.0</td>\n",
       "      <td>2022-12-11 11:06:45</td>\n",
       "    </tr>\n",
       "  </tbody>\n",
       "</table>\n",
       "<p>7226 rows × 3 columns</p>\n",
       "</div>"
      ],
      "text/plain": [
       "      data_points  watts           timestamp\n",
       "0               0   46.0 2022-12-11 09:05:21\n",
       "1               1   95.0 2022-12-11 09:05:22\n",
       "2               2   95.0 2022-12-11 09:05:32\n",
       "3               3  109.0 2022-12-11 09:05:33\n",
       "4               4  109.0 2022-12-11 09:05:34\n",
       "...           ...    ...                 ...\n",
       "7221         7221    0.0 2022-12-11 11:06:41\n",
       "7222         7222    0.0 2022-12-11 11:06:42\n",
       "7223         7223    0.0 2022-12-11 11:06:43\n",
       "7224         7224    0.0 2022-12-11 11:06:44\n",
       "7225         7225    0.0 2022-12-11 11:06:45\n",
       "\n",
       "[7226 rows x 3 columns]"
      ]
     },
     "execution_count": 32,
     "metadata": {},
     "output_type": "execute_result"
    }
   ],
   "source": [
    "df_cleaned = df_clean_trim(df)\n",
    "df_cleaned"
   ]
  },
  {
   "cell_type": "markdown",
   "id": "a00ea909",
   "metadata": {},
   "source": [
    "## Get date of workout and length of workout in seconds/minutes "
   ]
  },
  {
   "cell_type": "code",
   "execution_count": 33,
   "id": "1b18dc1c",
   "metadata": {},
   "outputs": [],
   "source": [
    "def workout_date_time_freq(df):\n",
    "    # Get date\n",
    "    df1 = df.copy()\n",
    "    timestamp = df1['timestamp'][:1]\n",
    "    date = np.datetime_as_string(timestamp, unit='D')\n",
    "    date_str = str(date)\n",
    "    date_str = date_str.strip(\"[\")\n",
    "    date_str = date_str.strip(\"]\")\n",
    "    date_str = date_str.strip(\"'\")\n",
    "    \n",
    "    # Get workout length in minutes\n",
    "    num_datapoints = int(len(df1['timestamp']))\n",
    "    workout_timelength = df1['timestamp'][num_datapoints-1] - df1['timestamp'][0]\n",
    "    workout_seconds = int(workout_timelength.total_seconds())\n",
    "    workout_minutes = workout_seconds/60\n",
    "\n",
    "    # Compute frequency of data recording from number of seconds in workout divided by the number of data points\n",
    "    rec_freq = round(workout_seconds/num_datapoints)\n",
    "    freq = 60 / rec_freq\n",
    "\n",
    "    return date_str, num_datapoints, workout_minutes, rec_freq, freq\n"
   ]
  },
  {
   "cell_type": "code",
   "execution_count": 34,
   "id": "a409ab29",
   "metadata": {},
   "outputs": [],
   "source": [
    "date_str, num_datapoints, workout_minutes, rec_freq, freq = workout_date_time_freq(df_cleaned)"
   ]
  },
  {
   "cell_type": "code",
   "execution_count": 35,
   "id": "41f55263",
   "metadata": {},
   "outputs": [
    {
     "data": {
      "text/plain": [
       "('2022-12-11', 7226, 121.4, 1, 60.0)"
      ]
     },
     "execution_count": 35,
     "metadata": {},
     "output_type": "execute_result"
    }
   ],
   "source": [
    "date_str, num_datapoints, workout_minutes, rec_freq, freq"
   ]
  },
  {
   "cell_type": "code",
   "execution_count": 36,
   "id": "133f08b6",
   "metadata": {},
   "outputs": [
    {
     "data": {
      "text/html": [
       "<div>\n",
       "<style scoped>\n",
       "    .dataframe tbody tr th:only-of-type {\n",
       "        vertical-align: middle;\n",
       "    }\n",
       "\n",
       "    .dataframe tbody tr th {\n",
       "        vertical-align: top;\n",
       "    }\n",
       "\n",
       "    .dataframe thead th {\n",
       "        text-align: right;\n",
       "    }\n",
       "</style>\n",
       "<table border=\"1\" class=\"dataframe\">\n",
       "  <thead>\n",
       "    <tr style=\"text-align: right;\">\n",
       "      <th></th>\n",
       "      <th>data_points</th>\n",
       "      <th>watts</th>\n",
       "      <th>timestamp</th>\n",
       "    </tr>\n",
       "  </thead>\n",
       "  <tbody>\n",
       "    <tr>\n",
       "      <th>0</th>\n",
       "      <td>0</td>\n",
       "      <td>46.0</td>\n",
       "      <td>2022-12-11 09:05:21</td>\n",
       "    </tr>\n",
       "    <tr>\n",
       "      <th>1</th>\n",
       "      <td>1</td>\n",
       "      <td>95.0</td>\n",
       "      <td>2022-12-11 09:05:22</td>\n",
       "    </tr>\n",
       "    <tr>\n",
       "      <th>2</th>\n",
       "      <td>2</td>\n",
       "      <td>95.0</td>\n",
       "      <td>2022-12-11 09:05:32</td>\n",
       "    </tr>\n",
       "    <tr>\n",
       "      <th>3</th>\n",
       "      <td>3</td>\n",
       "      <td>109.0</td>\n",
       "      <td>2022-12-11 09:05:33</td>\n",
       "    </tr>\n",
       "    <tr>\n",
       "      <th>4</th>\n",
       "      <td>4</td>\n",
       "      <td>109.0</td>\n",
       "      <td>2022-12-11 09:05:34</td>\n",
       "    </tr>\n",
       "    <tr>\n",
       "      <th>...</th>\n",
       "      <td>...</td>\n",
       "      <td>...</td>\n",
       "      <td>...</td>\n",
       "    </tr>\n",
       "    <tr>\n",
       "      <th>7221</th>\n",
       "      <td>7221</td>\n",
       "      <td>0.0</td>\n",
       "      <td>2022-12-11 11:06:41</td>\n",
       "    </tr>\n",
       "    <tr>\n",
       "      <th>7222</th>\n",
       "      <td>7222</td>\n",
       "      <td>0.0</td>\n",
       "      <td>2022-12-11 11:06:42</td>\n",
       "    </tr>\n",
       "    <tr>\n",
       "      <th>7223</th>\n",
       "      <td>7223</td>\n",
       "      <td>0.0</td>\n",
       "      <td>2022-12-11 11:06:43</td>\n",
       "    </tr>\n",
       "    <tr>\n",
       "      <th>7224</th>\n",
       "      <td>7224</td>\n",
       "      <td>0.0</td>\n",
       "      <td>2022-12-11 11:06:44</td>\n",
       "    </tr>\n",
       "    <tr>\n",
       "      <th>7225</th>\n",
       "      <td>7225</td>\n",
       "      <td>0.0</td>\n",
       "      <td>2022-12-11 11:06:45</td>\n",
       "    </tr>\n",
       "  </tbody>\n",
       "</table>\n",
       "<p>7226 rows × 3 columns</p>\n",
       "</div>"
      ],
      "text/plain": [
       "      data_points  watts           timestamp\n",
       "0               0   46.0 2022-12-11 09:05:21\n",
       "1               1   95.0 2022-12-11 09:05:22\n",
       "2               2   95.0 2022-12-11 09:05:32\n",
       "3               3  109.0 2022-12-11 09:05:33\n",
       "4               4  109.0 2022-12-11 09:05:34\n",
       "...           ...    ...                 ...\n",
       "7221         7221    0.0 2022-12-11 11:06:41\n",
       "7222         7222    0.0 2022-12-11 11:06:42\n",
       "7223         7223    0.0 2022-12-11 11:06:43\n",
       "7224         7224    0.0 2022-12-11 11:06:44\n",
       "7225         7225    0.0 2022-12-11 11:06:45\n",
       "\n",
       "[7226 rows x 3 columns]"
      ]
     },
     "execution_count": 36,
     "metadata": {},
     "output_type": "execute_result"
    }
   ],
   "source": [
    "df_cleaned"
   ]
  },
  {
   "cell_type": "markdown",
   "id": "0e74af28",
   "metadata": {},
   "source": [
    "## Convert dataframe to NumPy array"
   ]
  },
  {
   "cell_type": "code",
   "execution_count": 37,
   "id": "449e7c17",
   "metadata": {},
   "outputs": [],
   "source": [
    "def convert_to_arr(df_cleaned):\n",
    "    workout_data = df_cleaned.to_records(index=False)\n",
    "    watts = workout_data['watts']\n",
    "    max_watts = max(watts)\n",
    "\n",
    "    # Find maximum power value and time stamp\n",
    "    minutes = workout_data['data_points']/freq\n",
    "    max_watts_idx = np.argmax(workout_data['watts'])\n",
    "    max_watts_timestamp = minutes[max_watts_idx]\n",
    "\n",
    "    # Find maximum heart rate value and time stamp\n",
    "    hr = workout_data['heart_rate']\n",
    "    max_hr = max(hr)\n",
    "    max_hr_idx = np.argmax(workout_data['heart_rate'])\n",
    "    max_hr_timestamp = minutes[max_hr_idx]\n",
    "\n",
    "    return watts, max_watts, minutes, max_pwr_timestamp, hr, max_hr, max_hr_timestamp\n"
   ]
  },
  {
   "cell_type": "code",
   "execution_count": 38,
   "id": "4cf6172f",
   "metadata": {},
   "outputs": [],
   "source": [
    "workout_data = df_cleaned.to_records(index=False)"
   ]
  },
  {
   "cell_type": "code",
   "execution_count": 39,
   "id": "1013c70c",
   "metadata": {
    "scrolled": true
   },
   "outputs": [
    {
     "data": {
      "text/plain": [
       "rec.array([(   0, 46., '2022-12-11T09:05:21.000000000'),\n",
       "           (   1, 95., '2022-12-11T09:05:22.000000000'),\n",
       "           (   2, 95., '2022-12-11T09:05:32.000000000'), ...,\n",
       "           (7223,  0., '2022-12-11T11:06:43.000000000'),\n",
       "           (7224,  0., '2022-12-11T11:06:44.000000000'),\n",
       "           (7225,  0., '2022-12-11T11:06:45.000000000')],\n",
       "          dtype=[('data_points', '<i8'), ('watts', '<f8'), ('timestamp', '<M8[ns]')])"
      ]
     },
     "execution_count": 39,
     "metadata": {},
     "output_type": "execute_result"
    }
   ],
   "source": [
    "workout_data"
   ]
  },
  {
   "cell_type": "code",
   "execution_count": 40,
   "id": "d40746fc",
   "metadata": {},
   "outputs": [],
   "source": [
    "watts = workout_data['watts']"
   ]
  },
  {
   "cell_type": "code",
   "execution_count": 41,
   "id": "5096efac",
   "metadata": {},
   "outputs": [
    {
     "data": {
      "text/plain": [
       "array([46., 95., 95., ...,  0.,  0.,  0.])"
      ]
     },
     "execution_count": 41,
     "metadata": {},
     "output_type": "execute_result"
    }
   ],
   "source": [
    "watts"
   ]
  },
  {
   "cell_type": "code",
   "execution_count": 42,
   "id": "ba8263b4",
   "metadata": {
    "scrolled": true
   },
   "outputs": [
    {
     "data": {
      "text/plain": [
       "7226"
      ]
     },
     "execution_count": 42,
     "metadata": {},
     "output_type": "execute_result"
    }
   ],
   "source": [
    "len(watts)"
   ]
  },
  {
   "cell_type": "code",
   "execution_count": 43,
   "id": "97ad7456",
   "metadata": {},
   "outputs": [
    {
     "data": {
      "text/plain": [
       "379"
      ]
     },
     "execution_count": 43,
     "metadata": {},
     "output_type": "execute_result"
    }
   ],
   "source": [
    "max_watts = int(max(watts))\n",
    "max_watts"
   ]
  },
  {
   "cell_type": "code",
   "execution_count": 44,
   "id": "f5512a72",
   "metadata": {},
   "outputs": [
    {
     "data": {
      "text/plain": [
       "7146"
      ]
     },
     "execution_count": 44,
     "metadata": {},
     "output_type": "execute_result"
    }
   ],
   "source": [
    "np.argmax(watts)"
   ]
  },
  {
   "cell_type": "markdown",
   "id": "756fa2ab",
   "metadata": {},
   "source": [
    "## Smooth power curve"
   ]
  },
  {
   "cell_type": "code",
   "execution_count": 45,
   "id": "1501760c",
   "metadata": {
    "scrolled": true
   },
   "outputs": [
    {
     "name": "stdout",
     "output_type": "stream",
     "text": [
      "7226\n"
     ]
    }
   ],
   "source": [
    "# using helper function 'smooth.py'\n",
    "\n",
    "watts_smoothed = smooth(watts, window_len=10)\n",
    "print(len(watts_smoothed))"
   ]
  },
  {
   "cell_type": "code",
   "execution_count": 46,
   "id": "26ada510",
   "metadata": {},
   "outputs": [
    {
     "data": {
      "text/plain": [
       "array([46.        , 66.37658241, 84.18541204, ...,  0.        ,\n",
       "        0.        ,  0.        ])"
      ]
     },
     "execution_count": 46,
     "metadata": {},
     "output_type": "execute_result"
    }
   ],
   "source": [
    "watts_smoothed"
   ]
  },
  {
   "cell_type": "code",
   "execution_count": 47,
   "id": "e16ee041",
   "metadata": {},
   "outputs": [
    {
     "data": {
      "text/plain": [
       "377.05917285697626"
      ]
     },
     "execution_count": 47,
     "metadata": {},
     "output_type": "execute_result"
    }
   ],
   "source": [
    "max(watts_smoothed)"
   ]
  },
  {
   "cell_type": "code",
   "execution_count": 48,
   "id": "15d0e412",
   "metadata": {},
   "outputs": [
    {
     "data": {
      "text/plain": [
       "237.10322389934413"
      ]
     },
     "execution_count": 48,
     "metadata": {},
     "output_type": "execute_result"
    }
   ],
   "source": [
    "watts_smoothed[2134]"
   ]
  },
  {
   "cell_type": "markdown",
   "id": "beb72b24",
   "metadata": {},
   "source": [
    "##  Convert workout x-axis time values to minutes"
   ]
  },
  {
   "cell_type": "code",
   "execution_count": 49,
   "id": "d5e7078b",
   "metadata": {},
   "outputs": [
    {
     "data": {
      "text/plain": [
       "60.0"
      ]
     },
     "execution_count": 49,
     "metadata": {},
     "output_type": "execute_result"
    }
   ],
   "source": [
    "# converting recording data into minutes  \n",
    "# freq represents how many rows of data are contained in 1 minute of workout time\n",
    "# For example, if data is recorded every 5 seconds, then there will be 12 rows of data \n",
    "# per every one minute of workout time\n",
    "\n",
    "freq = 60 / rec_freq\n",
    "freq\n"
   ]
  },
  {
   "cell_type": "code",
   "execution_count": 50,
   "id": "9b40956c",
   "metadata": {
    "scrolled": true
   },
   "outputs": [
    {
     "name": "stdout",
     "output_type": "stream",
     "text": [
      "[0.00000000e+00 1.66666667e-02 3.33333333e-02 ... 1.20383333e+02\n",
      " 1.20400000e+02 1.20416667e+02]\n"
     ]
    }
   ],
   "source": [
    "minutes = workout_data['data_points']/freq\n",
    "print(minutes)"
   ]
  },
  {
   "cell_type": "markdown",
   "id": "3e78411b",
   "metadata": {},
   "source": [
    "## Find maximum power value and time stamp"
   ]
  },
  {
   "cell_type": "code",
   "execution_count": 51,
   "id": "2818df89",
   "metadata": {},
   "outputs": [],
   "source": [
    "max_pwr_idx = np.argmax(workout_data['watts'])"
   ]
  },
  {
   "cell_type": "code",
   "execution_count": 52,
   "id": "1046ca27",
   "metadata": {
    "scrolled": true
   },
   "outputs": [
    {
     "data": {
      "text/plain": [
       "7146"
      ]
     },
     "execution_count": 52,
     "metadata": {},
     "output_type": "execute_result"
    }
   ],
   "source": [
    "max_pwr_idx"
   ]
  },
  {
   "cell_type": "code",
   "execution_count": 53,
   "id": "4140f03f",
   "metadata": {},
   "outputs": [
    {
     "data": {
      "text/plain": [
       "119.1"
      ]
     },
     "execution_count": 53,
     "metadata": {},
     "output_type": "execute_result"
    }
   ],
   "source": [
    "max_pwr_timestamp = round(minutes[max_pwr_idx], ndigits=3)\n",
    "max_pwr_timestamp"
   ]
  },
  {
   "cell_type": "code",
   "execution_count": 54,
   "id": "a835b8c2",
   "metadata": {},
   "outputs": [
    {
     "data": {
      "text/plain": [
       "(7146, 379., '2022-12-11T11:05:26.000000000')"
      ]
     },
     "execution_count": 54,
     "metadata": {},
     "output_type": "execute_result"
    }
   ],
   "source": [
    "workout_data[max_pwr_idx]"
   ]
  },
  {
   "cell_type": "markdown",
   "id": "f0e75cdb",
   "metadata": {},
   "source": [
    "## Find maximum heart rate value and time stamp"
   ]
  },
  {
   "cell_type": "markdown",
   "id": "718b914c",
   "metadata": {},
   "source": [
    "Note:  if no heart rate data is available, this section will be skipped, as will the heart rate graphing section"
   ]
  },
  {
   "cell_type": "code",
   "execution_count": 60,
   "id": "7a944e21",
   "metadata": {},
   "outputs": [],
   "source": [
    "# Function to find max HR & time stamp, if applicable\n",
    "\n",
    "def max_hr_stamp(workout_data):\n",
    "    if ('heart_rate' in column_list):\n",
    "        print('File contains HR data')\n",
    "        hr = workout_data['heart_rate']\n",
    "        max_hr = int(max(hr))\n",
    "        max_hr_idx = np.argmax(workout_data['heart_rate'])\n",
    "        max_hr_timestamp = minutes[max_hr_idx]\n",
    "    else:\n",
    "        print('File does not contain HR data')\n",
    "        hr = 0\n",
    "        max_hr = 0\n",
    "        max_hr_idx = 0\n",
    "        max_hr_timestamp = 0\n",
    "    return hr, max_hr, max_hr_idx, max_hr_timestamp\n"
   ]
  },
  {
   "cell_type": "code",
   "execution_count": 61,
   "id": "635881bb",
   "metadata": {},
   "outputs": [
    {
     "name": "stdout",
     "output_type": "stream",
     "text": [
      "File does not contain HR data\n"
     ]
    }
   ],
   "source": [
    "hr, max_hr, max_hr_idx, max_hr_timestamp = max_hr_stamp(workout_data)"
   ]
  },
  {
   "cell_type": "code",
   "execution_count": 62,
   "id": "0cfae785",
   "metadata": {},
   "outputs": [
    {
     "data": {
      "text/plain": [
       "0"
      ]
     },
     "execution_count": 62,
     "metadata": {},
     "output_type": "execute_result"
    }
   ],
   "source": [
    "hr"
   ]
  },
  {
   "cell_type": "code",
   "execution_count": 63,
   "id": "db48d296",
   "metadata": {},
   "outputs": [
    {
     "data": {
      "text/plain": [
       "0"
      ]
     },
     "execution_count": 63,
     "metadata": {},
     "output_type": "execute_result"
    }
   ],
   "source": [
    "max_hr"
   ]
  },
  {
   "cell_type": "code",
   "execution_count": 64,
   "id": "79c530cd",
   "metadata": {},
   "outputs": [
    {
     "data": {
      "text/plain": [
       "0"
      ]
     },
     "execution_count": 64,
     "metadata": {},
     "output_type": "execute_result"
    }
   ],
   "source": [
    "max_hr_idx"
   ]
  },
  {
   "cell_type": "code",
   "execution_count": 65,
   "id": "1871f3b6",
   "metadata": {},
   "outputs": [
    {
     "data": {
      "text/plain": [
       "0"
      ]
     },
     "execution_count": 65,
     "metadata": {},
     "output_type": "execute_result"
    }
   ],
   "source": [
    "max_hr_timestamp"
   ]
  },
  {
   "cell_type": "markdown",
   "id": "a46d574f",
   "metadata": {},
   "source": [
    "## Plot data"
   ]
  },
  {
   "cell_type": "code",
   "execution_count": 69,
   "id": "5632baca",
   "metadata": {
    "scrolled": false
   },
   "outputs": [
    {
     "data": {
      "image/png": "[encoded data removed]",
      "text/plain": [
       "<Figure size 2016x864 with 1 Axes>"
      ]
     },
     "metadata": {
      "needs_background": "light"
     },
     "output_type": "display_data"
    }
   ],
   "source": [
    "if ftp != None:\n",
    "    figsize = (28, 12)    \n",
    "    img, ax1 = plt.subplots(figsize=figsize)\n",
    "    ax1.set_facecolor(color='#252525')\n",
    "    ax1.set_xlabel(\"Minutes\", fontsize=22.0)\n",
    "    ax1.set_ylabel(\"Watts\", fontsize=22.0)\n",
    "    ax1.tick_params(labelsize=22.0)\n",
    "\n",
    "    # This expands the top of the graph to 80% beyond max watts\n",
    "    ax1.set_ylim(top=max(watts)*1.80)\n",
    "\n",
    "    # logic for color under the graph based on % of FTP (thanks to Jonas Häggqvist for this code)\n",
    "    ax1.grid(which='major', axis='y', alpha=0.1, linewidth=1)\n",
    "    plt.fill_between(minutes, watts_smoothed, where=watts_smoothed > 0.00*ftp, color='#646464')\n",
    "    plt.fill_between(minutes, watts_smoothed, where=watts_smoothed > 0.60*ftp, color='#328bff')\n",
    "    plt.fill_between(minutes, watts_smoothed, where=watts_smoothed > 0.75*ftp, color='#59bf59')\n",
    "    plt.fill_between(minutes, watts_smoothed, where=watts_smoothed > 0.90*ftp, color='#ffcc3f')\n",
    "    plt.fill_between(minutes, watts_smoothed, where=watts_smoothed > 1.05*ftp, color='#ff663a')\n",
    "    plt.fill_between(minutes, watts_smoothed, where=watts_smoothed > 1.18*ftp, color='#ff340c')\n",
    "\n",
    "    # Setting workout date annotation (thanks to Phil Daws for the code that helped me get started)\n",
    "    # Note:  xy for the purposes of workout date label is set using 'data' for coordinates \n",
    "    xmin, xmax = ax1.get_xlim()\n",
    "    ymin, ymax = ax1.get_ylim()\n",
    "    xy = [xmax-(xmax*0.05), ymax-(ymax*0.05)]\n",
    "    \n",
    "    # Adding the workout date to the graph\n",
    "    workout_date = Annotation(f'Workout date: {date_str}', xy=[xmax//2, ymax-(ymax*0.08)], \n",
    "                              ha='center', color='white', fontweight='bold', fontsize=22.0)\n",
    "    ax1.add_artist(workout_date)\n",
    "    \n",
    "    # Plot smoothed power, line color, and thickness\n",
    "    plt.plot(minutes, watts_smoothed, color='white', linewidth=1.25)\n",
    "    \n",
    "    # Annotate max power \n",
    "    max_power = Annotation(f'{max_watts}w', xy=(max_pwr_timestamp, max_watts), xytext=(0, 15), \n",
    "                           textcoords=\"offset pixels\", ha='center', color='white', fontweight='bold', \n",
    "                           fontsize=22.0, arrowprops=dict(arrowstyle='wedge', color='yellow'))\n",
    "    ax1.add_artist(max_power)\n",
    "    \n",
    "    plt.vlines(x=max_pwr_timestamp, ymin=0, ymax=max_watts, color='white', linewidth=1.5)\n",
    "    \n",
    "    # Add HR data to graph\n",
    "    if ('heart_rate' in column_list):\n",
    "        # Instantiate second y axis for heart rate graph\n",
    "        ax2 = ax1.twinx()\n",
    "        ax2.set_ylabel(\"Heart Rate\", fontsize=22.0)    \n",
    "        ax2.set_ylim(top=max(hr)*1.20)\n",
    "        ax2.tick_params(labelsize=22.0)\n",
    "\n",
    "        # Plot heart rate\n",
    "        ax2.plot(minutes, hr, color='red', linewidth=1.2)\n",
    "\n",
    "        # Annotate max heart rate\n",
    "        max_hr_annt = Annotation(f'{max_hr}bpm', xy=(max_hr_timestamp, max_hr), xytext=(0, 15), \n",
    "                               textcoords=\"offset pixels\", ha='center', color='white', fontweight='bold', \n",
    "                               fontsize=22.0, arrowprops=dict(arrowstyle='wedge', color='red'))\n",
    "        ax2.add_artist(max_hr_annt)\n",
    "    \n",
    "    plt.show()\n",
    "\n",
    "else:\n",
    "    print(f\"\\nThe graph cannot be drawn; no valid FTP was provided.\")\n",
    "    print(f\"If you wish to try again, please have your FTP value ready and then reload this page.\")\n"
   ]
  },
  {
   "cell_type": "code",
   "execution_count": null,
   "id": "e88bcdaf",
   "metadata": {},
   "outputs": [],
   "source": []
  }
 ],
 "metadata": {
  "kernelspec": {
   "display_name": "Python 3 (ipykernel)",
   "language": "python",
   "name": "python3"
  },
  "language_info": {
   "codemirror_mode": {
    "name": "ipython",
    "version": 3
   },
   "file_extension": ".py",
   "mimetype": "text/x-python",
   "name": "python",
   "nbconvert_exporter": "python",
   "pygments_lexer": "ipython3",
   "version": "3.9.5"
  },
  "toc": {
   "base_numbering": 1,
   "nav_menu": {},
   "number_sections": true,
   "sideBar": true,
   "skip_h1_title": true,
   "title_cell": "Table of Contents",
   "title_sidebar": "Contents",
   "toc_cell": false,
   "toc_position": {
    "height": "calc(100% - 180px)",
    "left": "10px",
    "top": "150px",
    "width": "165px"
   },
   "toc_section_display": true,
   "toc_window_display": true
  }
 },
 "nbformat": 4,
 "nbformat_minor": 5
}
