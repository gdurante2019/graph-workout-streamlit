{
 "cells": [
  {
   "cell_type": "markdown",
   "id": "80909fc8",
   "metadata": {},
   "source": [
    "# Recreating Zwift ride powerplot"
   ]
  },
  {
   "cell_type": "markdown",
   "id": "b9b1655d",
   "metadata": {},
   "source": [
    "## Import .fit file and convert to pandas dataframe"
   ]
  },
  {
   "cell_type": "code",
   "execution_count": 1,
   "id": "ccc516cb",
   "metadata": {},
   "outputs": [],
   "source": [
    "import os\n",
    "import datetime\n",
    "from fitparse import FitFile    # https://github.com/dtcooper/python-fitparse\n",
    "import pandas as pd\n",
    "import numpy as np\n",
    "import streamlit as st\n",
    "import matplotlib.pyplot as plt\n",
    "from tqdm import tqdm\n",
    "from smooth import smooth\n",
    "from matplotlib.offsetbox import (TextArea, DrawingArea, OffsetImage,\n",
    "                                  AnnotationBbox, AnchoredText, AnchoredOffsetbox)\n",
    "from matplotlib.text import Annotation\n"
   ]
  },
  {
   "cell_type": "markdown",
   "id": "ef9f129e",
   "metadata": {},
   "source": [
    "## Title of Streamlit app"
   ]
  },
  {
   "cell_type": "code",
   "execution_count": 2,
   "id": "14d8a2e4",
   "metadata": {},
   "outputs": [
    {
     "name": "stderr",
     "output_type": "stream",
     "text": [
      "2022-07-28 13:43:43.687 \n",
      "  \u001b[33m\u001b[1mWarning:\u001b[0m to view this Streamlit app on a browser, run it with the following\n",
      "  command:\n",
      "\n",
      "    streamlit run /Users/ginadurante/miniforge3/envs/py39/lib/python3.9/site-packages/ipykernel_launcher.py [ARGUMENTS]\n"
     ]
    },
    {
     "data": {
      "text/plain": [
       "DeltaGenerator(_root_container=0, _provided_cursor=None, _parent=None, _block_type=None, _form_data=None)"
      ]
     },
     "execution_count": 2,
     "metadata": {},
     "output_type": "execute_result"
    }
   ],
   "source": [
    "st.title('Workout Graph in Zwift Style')"
   ]
  },
  {
   "cell_type": "markdown",
   "id": "ea163459",
   "metadata": {},
   "source": [
    "##  Obtain FTP value from user to determine workout zones in graph"
   ]
  },
  {
   "cell_type": "code",
   "execution_count": 3,
   "id": "2e8ac9dc",
   "metadata": {
    "scrolled": true
   },
   "outputs": [
    {
     "name": "stdout",
     "output_type": "stream",
     "text": [
      "Enter FTP in watts (whole numbers only):  126\n",
      "\n",
      "Your FTP has been recorded as 126 watts.\n"
     ]
    }
   ],
   "source": [
    "# set up try / except loop:\n",
    "n = 0\n",
    "while n < 3: \n",
    "    try:\n",
    "        ftp = int(input(\"Enter FTP in watts (whole numbers only):  \"))\n",
    "        print(f\"\\nYour FTP has been recorded as {ftp} watts.\")\n",
    "        break\n",
    "    except ValueError:\n",
    "        n += 1\n",
    "        print(\"\\nYour FTP value cannot contain letters, be left blank, or be entered as a decimal value. \\n\")\n"
   ]
  },
  {
   "cell_type": "markdown",
   "id": "1a7cc0b0",
   "metadata": {},
   "source": [
    "## Have user enter file name / upload file"
   ]
  },
  {
   "cell_type": "markdown",
   "id": "1dba4956",
   "metadata": {},
   "source": [
    "The code for importing .fit files and converting to a pandas dataframe is from http://johannesjacob.com/analyze-your-cycling-data-python/.\n",
    "To install the python packages, type 'pip install pandas numpy fitparse matplotlib tqdm' on the command line.\n"
   ]
  },
  {
   "cell_type": "code",
   "execution_count": 4,
   "id": "71a85da9",
   "metadata": {},
   "outputs": [
    {
     "name": "stdout",
     "output_type": "stream",
     "text": [
      "Type filename, including .fit extension:  2022-07-14-16-58-23.fit\n"
     ]
    }
   ],
   "source": [
    "filename = input(\"Type filename, including .fit extension:  \")\n",
    "# 2021-10-05-10-54-32.fit\n",
    "\n",
    "fitfile = FitFile(filename)"
   ]
  },
  {
   "cell_type": "markdown",
   "id": "c35f2ad9",
   "metadata": {},
   "source": [
    "#### From Johannes Jacob's blog post (http://johannesjacob.com/2019/03/13/analyze-your-cycling-data-python/):  \n",
    "_\"Now we are ready to import the workout file and transform the data into a \n",
    "pandas dataframe. Unfortunately we have to use an ugly hack with this \"while\" \n",
    "loop to avoid timing issues. Then we are looping through the file, append \n",
    "the records to a list and convert the list to a pandas dataframe.\"_"
   ]
  },
  {
   "cell_type": "code",
   "execution_count": 5,
   "id": "6d97a83e",
   "metadata": {},
   "outputs": [],
   "source": [
    "def parse_fitfile(uploaded_file):\n",
    "    fitfile = FitFile(uploaded_file)\n",
    "    while True:\n",
    "        try:\n",
    "            fitfile.messages\n",
    "            break\n",
    "        except KeyError:\n",
    "            continue\n",
    "    workout = []\n",
    "    for record in fitfile.get_messages('record'):\n",
    "        r = {}\n",
    "        for record_data in record:\n",
    "            r[record_data.name] = record_data.value\n",
    "        workout.append(r)\n",
    "    df = pd.DataFrame(workout)\n",
    "    \n",
    "    return df"
   ]
  },
  {
   "cell_type": "code",
   "execution_count": 6,
   "id": "73477ec7",
   "metadata": {},
   "outputs": [],
   "source": [
    "df = parse_fitfile(filename)"
   ]
  },
  {
   "cell_type": "code",
   "execution_count": 7,
   "id": "0793d869",
   "metadata": {
    "scrolled": true
   },
   "outputs": [
    {
     "data": {
      "text/html": [
       "<div>\n",
       "<style scoped>\n",
       "    .dataframe tbody tr th:only-of-type {\n",
       "        vertical-align: middle;\n",
       "    }\n",
       "\n",
       "    .dataframe tbody tr th {\n",
       "        vertical-align: top;\n",
       "    }\n",
       "\n",
       "    .dataframe thead th {\n",
       "        text-align: right;\n",
       "    }\n",
       "</style>\n",
       "<table border=\"1\" class=\"dataframe\">\n",
       "  <thead>\n",
       "    <tr style=\"text-align: right;\">\n",
       "      <th></th>\n",
       "      <th>altitude</th>\n",
       "      <th>cadence</th>\n",
       "      <th>compressed_speed_distance</th>\n",
       "      <th>cycle_length</th>\n",
       "      <th>distance</th>\n",
       "      <th>enhanced_altitude</th>\n",
       "      <th>enhanced_speed</th>\n",
       "      <th>grade</th>\n",
       "      <th>heart_rate</th>\n",
       "      <th>position_lat</th>\n",
       "      <th>position_long</th>\n",
       "      <th>power</th>\n",
       "      <th>resistance</th>\n",
       "      <th>speed</th>\n",
       "      <th>temperature</th>\n",
       "      <th>time_from_course</th>\n",
       "      <th>timestamp</th>\n",
       "    </tr>\n",
       "  </thead>\n",
       "  <tbody>\n",
       "    <tr>\n",
       "      <th>0</th>\n",
       "      <td>13.0</td>\n",
       "      <td>84</td>\n",
       "      <td>None</td>\n",
       "      <td>None</td>\n",
       "      <td>None</td>\n",
       "      <td>13.0</td>\n",
       "      <td>7.770</td>\n",
       "      <td>None</td>\n",
       "      <td>125</td>\n",
       "      <td>-259330911</td>\n",
       "      <td>1982623715</td>\n",
       "      <td>117</td>\n",
       "      <td>None</td>\n",
       "      <td>7.770</td>\n",
       "      <td>None</td>\n",
       "      <td>None</td>\n",
       "      <td>2022-07-15 00:00:38</td>\n",
       "    </tr>\n",
       "    <tr>\n",
       "      <th>1</th>\n",
       "      <td>13.0</td>\n",
       "      <td>85</td>\n",
       "      <td>None</td>\n",
       "      <td>None</td>\n",
       "      <td>None</td>\n",
       "      <td>13.0</td>\n",
       "      <td>7.868</td>\n",
       "      <td>None</td>\n",
       "      <td>125</td>\n",
       "      <td>-259330127</td>\n",
       "      <td>1982623382</td>\n",
       "      <td>119</td>\n",
       "      <td>None</td>\n",
       "      <td>7.868</td>\n",
       "      <td>None</td>\n",
       "      <td>None</td>\n",
       "      <td>2022-07-15 00:00:39</td>\n",
       "    </tr>\n",
       "    <tr>\n",
       "      <th>2</th>\n",
       "      <td>13.0</td>\n",
       "      <td>85</td>\n",
       "      <td>None</td>\n",
       "      <td>None</td>\n",
       "      <td>None</td>\n",
       "      <td>13.0</td>\n",
       "      <td>7.968</td>\n",
       "      <td>None</td>\n",
       "      <td>127</td>\n",
       "      <td>-259329342</td>\n",
       "      <td>1982623023</td>\n",
       "      <td>125</td>\n",
       "      <td>None</td>\n",
       "      <td>7.968</td>\n",
       "      <td>None</td>\n",
       "      <td>None</td>\n",
       "      <td>2022-07-15 00:00:40</td>\n",
       "    </tr>\n",
       "    <tr>\n",
       "      <th>3</th>\n",
       "      <td>13.0</td>\n",
       "      <td>85</td>\n",
       "      <td>None</td>\n",
       "      <td>None</td>\n",
       "      <td>None</td>\n",
       "      <td>13.0</td>\n",
       "      <td>8.068</td>\n",
       "      <td>None</td>\n",
       "      <td>127</td>\n",
       "      <td>-259328602</td>\n",
       "      <td>1982622550</td>\n",
       "      <td>123</td>\n",
       "      <td>None</td>\n",
       "      <td>8.068</td>\n",
       "      <td>None</td>\n",
       "      <td>None</td>\n",
       "      <td>2022-07-15 00:00:41</td>\n",
       "    </tr>\n",
       "    <tr>\n",
       "      <th>4</th>\n",
       "      <td>13.0</td>\n",
       "      <td>85</td>\n",
       "      <td>None</td>\n",
       "      <td>None</td>\n",
       "      <td>None</td>\n",
       "      <td>13.0</td>\n",
       "      <td>8.153</td>\n",
       "      <td>None</td>\n",
       "      <td>128</td>\n",
       "      <td>-259328093</td>\n",
       "      <td>1982621798</td>\n",
       "      <td>113</td>\n",
       "      <td>None</td>\n",
       "      <td>8.153</td>\n",
       "      <td>None</td>\n",
       "      <td>None</td>\n",
       "      <td>2022-07-15 00:00:42</td>\n",
       "    </tr>\n",
       "    <tr>\n",
       "      <th>...</th>\n",
       "      <td>...</td>\n",
       "      <td>...</td>\n",
       "      <td>...</td>\n",
       "      <td>...</td>\n",
       "      <td>...</td>\n",
       "      <td>...</td>\n",
       "      <td>...</td>\n",
       "      <td>...</td>\n",
       "      <td>...</td>\n",
       "      <td>...</td>\n",
       "      <td>...</td>\n",
       "      <td>...</td>\n",
       "      <td>...</td>\n",
       "      <td>...</td>\n",
       "      <td>...</td>\n",
       "      <td>...</td>\n",
       "      <td>...</td>\n",
       "    </tr>\n",
       "    <tr>\n",
       "      <th>9167</th>\n",
       "      <td>233.0</td>\n",
       "      <td>0</td>\n",
       "      <td>None</td>\n",
       "      <td>None</td>\n",
       "      <td>None</td>\n",
       "      <td>233.0</td>\n",
       "      <td>1.200</td>\n",
       "      <td>None</td>\n",
       "      <td>129</td>\n",
       "      <td>-259104489</td>\n",
       "      <td>1983099802</td>\n",
       "      <td>0</td>\n",
       "      <td>None</td>\n",
       "      <td>1.200</td>\n",
       "      <td>None</td>\n",
       "      <td>None</td>\n",
       "      <td>2022-07-15 02:33:25</td>\n",
       "    </tr>\n",
       "    <tr>\n",
       "      <th>9168</th>\n",
       "      <td>233.0</td>\n",
       "      <td>0</td>\n",
       "      <td>None</td>\n",
       "      <td>None</td>\n",
       "      <td>None</td>\n",
       "      <td>233.0</td>\n",
       "      <td>0.737</td>\n",
       "      <td>None</td>\n",
       "      <td>128</td>\n",
       "      <td>-259104459</td>\n",
       "      <td>1983099694</td>\n",
       "      <td>0</td>\n",
       "      <td>None</td>\n",
       "      <td>0.737</td>\n",
       "      <td>None</td>\n",
       "      <td>None</td>\n",
       "      <td>2022-07-15 02:33:26</td>\n",
       "    </tr>\n",
       "    <tr>\n",
       "      <th>9169</th>\n",
       "      <td>233.0</td>\n",
       "      <td>0</td>\n",
       "      <td>None</td>\n",
       "      <td>None</td>\n",
       "      <td>None</td>\n",
       "      <td>233.0</td>\n",
       "      <td>0.211</td>\n",
       "      <td>None</td>\n",
       "      <td>127</td>\n",
       "      <td>-259104444</td>\n",
       "      <td>1983099640</td>\n",
       "      <td>0</td>\n",
       "      <td>None</td>\n",
       "      <td>0.211</td>\n",
       "      <td>None</td>\n",
       "      <td>None</td>\n",
       "      <td>2022-07-15 02:33:27</td>\n",
       "    </tr>\n",
       "    <tr>\n",
       "      <th>9170</th>\n",
       "      <td>233.0</td>\n",
       "      <td>0</td>\n",
       "      <td>None</td>\n",
       "      <td>None</td>\n",
       "      <td>None</td>\n",
       "      <td>233.0</td>\n",
       "      <td>0.000</td>\n",
       "      <td>None</td>\n",
       "      <td>125</td>\n",
       "      <td>-259104443</td>\n",
       "      <td>1983099635</td>\n",
       "      <td>0</td>\n",
       "      <td>None</td>\n",
       "      <td>0.000</td>\n",
       "      <td>None</td>\n",
       "      <td>None</td>\n",
       "      <td>2022-07-15 02:33:28</td>\n",
       "    </tr>\n",
       "    <tr>\n",
       "      <th>9171</th>\n",
       "      <td>233.0</td>\n",
       "      <td>0</td>\n",
       "      <td>None</td>\n",
       "      <td>None</td>\n",
       "      <td>None</td>\n",
       "      <td>233.0</td>\n",
       "      <td>0.000</td>\n",
       "      <td>None</td>\n",
       "      <td>125</td>\n",
       "      <td>-259104443</td>\n",
       "      <td>1983099635</td>\n",
       "      <td>0</td>\n",
       "      <td>None</td>\n",
       "      <td>0.000</td>\n",
       "      <td>None</td>\n",
       "      <td>None</td>\n",
       "      <td>2022-07-15 02:33:29</td>\n",
       "    </tr>\n",
       "  </tbody>\n",
       "</table>\n",
       "<p>9172 rows × 17 columns</p>\n",
       "</div>"
      ],
      "text/plain": [
       "      altitude  cadence compressed_speed_distance cycle_length distance  \\\n",
       "0         13.0       84                      None         None     None   \n",
       "1         13.0       85                      None         None     None   \n",
       "2         13.0       85                      None         None     None   \n",
       "3         13.0       85                      None         None     None   \n",
       "4         13.0       85                      None         None     None   \n",
       "...        ...      ...                       ...          ...      ...   \n",
       "9167     233.0        0                      None         None     None   \n",
       "9168     233.0        0                      None         None     None   \n",
       "9169     233.0        0                      None         None     None   \n",
       "9170     233.0        0                      None         None     None   \n",
       "9171     233.0        0                      None         None     None   \n",
       "\n",
       "      enhanced_altitude  enhanced_speed grade  heart_rate  position_lat  \\\n",
       "0                  13.0           7.770  None         125    -259330911   \n",
       "1                  13.0           7.868  None         125    -259330127   \n",
       "2                  13.0           7.968  None         127    -259329342   \n",
       "3                  13.0           8.068  None         127    -259328602   \n",
       "4                  13.0           8.153  None         128    -259328093   \n",
       "...                 ...             ...   ...         ...           ...   \n",
       "9167              233.0           1.200  None         129    -259104489   \n",
       "9168              233.0           0.737  None         128    -259104459   \n",
       "9169              233.0           0.211  None         127    -259104444   \n",
       "9170              233.0           0.000  None         125    -259104443   \n",
       "9171              233.0           0.000  None         125    -259104443   \n",
       "\n",
       "      position_long  power resistance  speed temperature time_from_course  \\\n",
       "0        1982623715    117       None  7.770        None             None   \n",
       "1        1982623382    119       None  7.868        None             None   \n",
       "2        1982623023    125       None  7.968        None             None   \n",
       "3        1982622550    123       None  8.068        None             None   \n",
       "4        1982621798    113       None  8.153        None             None   \n",
       "...             ...    ...        ...    ...         ...              ...   \n",
       "9167     1983099802      0       None  1.200        None             None   \n",
       "9168     1983099694      0       None  0.737        None             None   \n",
       "9169     1983099640      0       None  0.211        None             None   \n",
       "9170     1983099635      0       None  0.000        None             None   \n",
       "9171     1983099635      0       None  0.000        None             None   \n",
       "\n",
       "               timestamp  \n",
       "0    2022-07-15 00:00:38  \n",
       "1    2022-07-15 00:00:39  \n",
       "2    2022-07-15 00:00:40  \n",
       "3    2022-07-15 00:00:41  \n",
       "4    2022-07-15 00:00:42  \n",
       "...                  ...  \n",
       "9167 2022-07-15 02:33:25  \n",
       "9168 2022-07-15 02:33:26  \n",
       "9169 2022-07-15 02:33:27  \n",
       "9170 2022-07-15 02:33:28  \n",
       "9171 2022-07-15 02:33:29  \n",
       "\n",
       "[9172 rows x 17 columns]"
      ]
     },
     "execution_count": 7,
     "metadata": {},
     "output_type": "execute_result"
    }
   ],
   "source": [
    "df"
   ]
  },
  {
   "cell_type": "markdown",
   "id": "8fb899ed",
   "metadata": {},
   "source": [
    "##  Remove unnecessary columns and remove null values"
   ]
  },
  {
   "cell_type": "code",
   "execution_count": 8,
   "id": "fa1b30bf",
   "metadata": {},
   "outputs": [],
   "source": [
    "def df_clean_trim(df):\n",
    "    #Drop unnecessary columns\n",
    "    df_cleaned = df[['heart_rate', 'power', 'timestamp']].copy()\n",
    "    # Insert a column 'data_points' to enable selection of max hr and watts by index\n",
    "    df_cleaned.insert(loc=0, column='data_points', value=np.arange(len(df)))\n",
    "    df_cleaned.rename(columns = {'power':'watts'}, inplace = True)\n",
    "    df_cleaned['watts'].fillna(0, inplace=True)\n",
    "    df_cleaned['heart_rate'].fillna(0, inplace=True)\n",
    "\n",
    "    return df_cleaned"
   ]
  },
  {
   "cell_type": "code",
   "execution_count": 9,
   "id": "ee5ceef8",
   "metadata": {},
   "outputs": [
    {
     "data": {
      "text/html": [
       "<div>\n",
       "<style scoped>\n",
       "    .dataframe tbody tr th:only-of-type {\n",
       "        vertical-align: middle;\n",
       "    }\n",
       "\n",
       "    .dataframe tbody tr th {\n",
       "        vertical-align: top;\n",
       "    }\n",
       "\n",
       "    .dataframe thead th {\n",
       "        text-align: right;\n",
       "    }\n",
       "</style>\n",
       "<table border=\"1\" class=\"dataframe\">\n",
       "  <thead>\n",
       "    <tr style=\"text-align: right;\">\n",
       "      <th></th>\n",
       "      <th>data_points</th>\n",
       "      <th>heart_rate</th>\n",
       "      <th>watts</th>\n",
       "      <th>timestamp</th>\n",
       "    </tr>\n",
       "  </thead>\n",
       "  <tbody>\n",
       "    <tr>\n",
       "      <th>0</th>\n",
       "      <td>0</td>\n",
       "      <td>125</td>\n",
       "      <td>117</td>\n",
       "      <td>2022-07-15 00:00:38</td>\n",
       "    </tr>\n",
       "    <tr>\n",
       "      <th>1</th>\n",
       "      <td>1</td>\n",
       "      <td>125</td>\n",
       "      <td>119</td>\n",
       "      <td>2022-07-15 00:00:39</td>\n",
       "    </tr>\n",
       "    <tr>\n",
       "      <th>2</th>\n",
       "      <td>2</td>\n",
       "      <td>127</td>\n",
       "      <td>125</td>\n",
       "      <td>2022-07-15 00:00:40</td>\n",
       "    </tr>\n",
       "    <tr>\n",
       "      <th>3</th>\n",
       "      <td>3</td>\n",
       "      <td>127</td>\n",
       "      <td>123</td>\n",
       "      <td>2022-07-15 00:00:41</td>\n",
       "    </tr>\n",
       "    <tr>\n",
       "      <th>4</th>\n",
       "      <td>4</td>\n",
       "      <td>128</td>\n",
       "      <td>113</td>\n",
       "      <td>2022-07-15 00:00:42</td>\n",
       "    </tr>\n",
       "    <tr>\n",
       "      <th>...</th>\n",
       "      <td>...</td>\n",
       "      <td>...</td>\n",
       "      <td>...</td>\n",
       "      <td>...</td>\n",
       "    </tr>\n",
       "    <tr>\n",
       "      <th>9167</th>\n",
       "      <td>9167</td>\n",
       "      <td>129</td>\n",
       "      <td>0</td>\n",
       "      <td>2022-07-15 02:33:25</td>\n",
       "    </tr>\n",
       "    <tr>\n",
       "      <th>9168</th>\n",
       "      <td>9168</td>\n",
       "      <td>128</td>\n",
       "      <td>0</td>\n",
       "      <td>2022-07-15 02:33:26</td>\n",
       "    </tr>\n",
       "    <tr>\n",
       "      <th>9169</th>\n",
       "      <td>9169</td>\n",
       "      <td>127</td>\n",
       "      <td>0</td>\n",
       "      <td>2022-07-15 02:33:27</td>\n",
       "    </tr>\n",
       "    <tr>\n",
       "      <th>9170</th>\n",
       "      <td>9170</td>\n",
       "      <td>125</td>\n",
       "      <td>0</td>\n",
       "      <td>2022-07-15 02:33:28</td>\n",
       "    </tr>\n",
       "    <tr>\n",
       "      <th>9171</th>\n",
       "      <td>9171</td>\n",
       "      <td>125</td>\n",
       "      <td>0</td>\n",
       "      <td>2022-07-15 02:33:29</td>\n",
       "    </tr>\n",
       "  </tbody>\n",
       "</table>\n",
       "<p>9172 rows × 4 columns</p>\n",
       "</div>"
      ],
      "text/plain": [
       "      data_points  heart_rate  watts           timestamp\n",
       "0               0         125    117 2022-07-15 00:00:38\n",
       "1               1         125    119 2022-07-15 00:00:39\n",
       "2               2         127    125 2022-07-15 00:00:40\n",
       "3               3         127    123 2022-07-15 00:00:41\n",
       "4               4         128    113 2022-07-15 00:00:42\n",
       "...           ...         ...    ...                 ...\n",
       "9167         9167         129      0 2022-07-15 02:33:25\n",
       "9168         9168         128      0 2022-07-15 02:33:26\n",
       "9169         9169         127      0 2022-07-15 02:33:27\n",
       "9170         9170         125      0 2022-07-15 02:33:28\n",
       "9171         9171         125      0 2022-07-15 02:33:29\n",
       "\n",
       "[9172 rows x 4 columns]"
      ]
     },
     "execution_count": 9,
     "metadata": {},
     "output_type": "execute_result"
    }
   ],
   "source": [
    "df_cleaned = df_clean_trim(df)\n",
    "df_cleaned"
   ]
  },
  {
   "cell_type": "markdown",
   "id": "a00ea909",
   "metadata": {},
   "source": [
    "## Get date of workout and length of workout in seconds/minutes "
   ]
  },
  {
   "cell_type": "code",
   "execution_count": 10,
   "id": "1b18dc1c",
   "metadata": {},
   "outputs": [],
   "source": [
    "def workout_date_time_freq(df):\n",
    "    # Get date\n",
    "    df1 = df.copy()\n",
    "    timestamp = df1['timestamp'][:1]\n",
    "    date = np.datetime_as_string(timestamp, unit='D')\n",
    "    date_str = str(date)\n",
    "    date_str = date_str.strip(\"[\")\n",
    "    date_str = date_str.strip(\"]\")\n",
    "    date_str = date_str.strip(\"'\")\n",
    "    \n",
    "    # Get workout length in minutes\n",
    "    num_datapoints = int(len(df1['timestamp']))\n",
    "    workout_timelength = df1['timestamp'][num_datapoints-1] - df1['timestamp'][0]\n",
    "    workout_seconds = int(workout_timelength.total_seconds())\n",
    "    workout_minutes = workout_seconds/60\n",
    "\n",
    "    # Compute frequency of data recording from number of seconds in workout divided by the number of data points\n",
    "    rec_freq = round(workout_seconds/num_datapoints)\n",
    "    freq = 60 / rec_freq\n",
    "\n",
    "    return date_str, num_datapoints, workout_minutes, rec_freq, freq\n"
   ]
  },
  {
   "cell_type": "code",
   "execution_count": 11,
   "id": "a409ab29",
   "metadata": {},
   "outputs": [],
   "source": [
    "date_str, num_datapoints, workout_minutes, rec_freq, freq = workout_date_time_freq(df_cleaned)"
   ]
  },
  {
   "cell_type": "code",
   "execution_count": 12,
   "id": "41f55263",
   "metadata": {},
   "outputs": [
    {
     "data": {
      "text/plain": [
       "('2022-07-15', 9172, 152.85, 1, 60.0)"
      ]
     },
     "execution_count": 12,
     "metadata": {},
     "output_type": "execute_result"
    }
   ],
   "source": [
    "date_str, num_datapoints, workout_minutes, rec_freq, freq"
   ]
  },
  {
   "cell_type": "code",
   "execution_count": 13,
   "id": "133f08b6",
   "metadata": {},
   "outputs": [
    {
     "data": {
      "text/html": [
       "<div>\n",
       "<style scoped>\n",
       "    .dataframe tbody tr th:only-of-type {\n",
       "        vertical-align: middle;\n",
       "    }\n",
       "\n",
       "    .dataframe tbody tr th {\n",
       "        vertical-align: top;\n",
       "    }\n",
       "\n",
       "    .dataframe thead th {\n",
       "        text-align: right;\n",
       "    }\n",
       "</style>\n",
       "<table border=\"1\" class=\"dataframe\">\n",
       "  <thead>\n",
       "    <tr style=\"text-align: right;\">\n",
       "      <th></th>\n",
       "      <th>data_points</th>\n",
       "      <th>heart_rate</th>\n",
       "      <th>watts</th>\n",
       "      <th>timestamp</th>\n",
       "    </tr>\n",
       "  </thead>\n",
       "  <tbody>\n",
       "    <tr>\n",
       "      <th>0</th>\n",
       "      <td>0</td>\n",
       "      <td>125</td>\n",
       "      <td>117</td>\n",
       "      <td>2022-07-15 00:00:38</td>\n",
       "    </tr>\n",
       "    <tr>\n",
       "      <th>1</th>\n",
       "      <td>1</td>\n",
       "      <td>125</td>\n",
       "      <td>119</td>\n",
       "      <td>2022-07-15 00:00:39</td>\n",
       "    </tr>\n",
       "    <tr>\n",
       "      <th>2</th>\n",
       "      <td>2</td>\n",
       "      <td>127</td>\n",
       "      <td>125</td>\n",
       "      <td>2022-07-15 00:00:40</td>\n",
       "    </tr>\n",
       "    <tr>\n",
       "      <th>3</th>\n",
       "      <td>3</td>\n",
       "      <td>127</td>\n",
       "      <td>123</td>\n",
       "      <td>2022-07-15 00:00:41</td>\n",
       "    </tr>\n",
       "    <tr>\n",
       "      <th>4</th>\n",
       "      <td>4</td>\n",
       "      <td>128</td>\n",
       "      <td>113</td>\n",
       "      <td>2022-07-15 00:00:42</td>\n",
       "    </tr>\n",
       "    <tr>\n",
       "      <th>...</th>\n",
       "      <td>...</td>\n",
       "      <td>...</td>\n",
       "      <td>...</td>\n",
       "      <td>...</td>\n",
       "    </tr>\n",
       "    <tr>\n",
       "      <th>9167</th>\n",
       "      <td>9167</td>\n",
       "      <td>129</td>\n",
       "      <td>0</td>\n",
       "      <td>2022-07-15 02:33:25</td>\n",
       "    </tr>\n",
       "    <tr>\n",
       "      <th>9168</th>\n",
       "      <td>9168</td>\n",
       "      <td>128</td>\n",
       "      <td>0</td>\n",
       "      <td>2022-07-15 02:33:26</td>\n",
       "    </tr>\n",
       "    <tr>\n",
       "      <th>9169</th>\n",
       "      <td>9169</td>\n",
       "      <td>127</td>\n",
       "      <td>0</td>\n",
       "      <td>2022-07-15 02:33:27</td>\n",
       "    </tr>\n",
       "    <tr>\n",
       "      <th>9170</th>\n",
       "      <td>9170</td>\n",
       "      <td>125</td>\n",
       "      <td>0</td>\n",
       "      <td>2022-07-15 02:33:28</td>\n",
       "    </tr>\n",
       "    <tr>\n",
       "      <th>9171</th>\n",
       "      <td>9171</td>\n",
       "      <td>125</td>\n",
       "      <td>0</td>\n",
       "      <td>2022-07-15 02:33:29</td>\n",
       "    </tr>\n",
       "  </tbody>\n",
       "</table>\n",
       "<p>9172 rows × 4 columns</p>\n",
       "</div>"
      ],
      "text/plain": [
       "      data_points  heart_rate  watts           timestamp\n",
       "0               0         125    117 2022-07-15 00:00:38\n",
       "1               1         125    119 2022-07-15 00:00:39\n",
       "2               2         127    125 2022-07-15 00:00:40\n",
       "3               3         127    123 2022-07-15 00:00:41\n",
       "4               4         128    113 2022-07-15 00:00:42\n",
       "...           ...         ...    ...                 ...\n",
       "9167         9167         129      0 2022-07-15 02:33:25\n",
       "9168         9168         128      0 2022-07-15 02:33:26\n",
       "9169         9169         127      0 2022-07-15 02:33:27\n",
       "9170         9170         125      0 2022-07-15 02:33:28\n",
       "9171         9171         125      0 2022-07-15 02:33:29\n",
       "\n",
       "[9172 rows x 4 columns]"
      ]
     },
     "execution_count": 13,
     "metadata": {},
     "output_type": "execute_result"
    }
   ],
   "source": [
    "df_cleaned"
   ]
  },
  {
   "cell_type": "markdown",
   "id": "0e74af28",
   "metadata": {},
   "source": [
    "## Convert dataframe to NumPy array"
   ]
  },
  {
   "cell_type": "code",
   "execution_count": 14,
   "id": "449e7c17",
   "metadata": {},
   "outputs": [],
   "source": [
    "def convert_to_arr(df_cleaned):\n",
    "    workout_data = df_cleaned.to_records(index=False)\n",
    "    watts = workout_data['watts']\n",
    "    max_watts = max(watts)\n",
    "\n",
    "    # Find maximum power value and time stamp\n",
    "    minutes = workout_data['data_points']/freq\n",
    "    max_watts_idx = np.argmax(workout_data['watts'])\n",
    "    max_watts_timestamp = minutes[max_watts_idx]\n",
    "\n",
    "    # Find maximum heart rate value and time stamp\n",
    "    hr = workout_data['heart_rate']\n",
    "    max_hr = max(hr)\n",
    "    max_hr_idx = np.argmax(workout_data['heart_rate'])\n",
    "    max_hr_timestamp = minutes[max_hr_idx]\n",
    "\n",
    "    return watts, max_watts, minutes, max_pwr_timestamp, hr, max_hr, max_hr_timestamp\n"
   ]
  },
  {
   "cell_type": "code",
   "execution_count": 15,
   "id": "4cf6172f",
   "metadata": {},
   "outputs": [],
   "source": [
    "workout_data = df_cleaned.to_records(index=False)"
   ]
  },
  {
   "cell_type": "code",
   "execution_count": 16,
   "id": "1013c70c",
   "metadata": {
    "scrolled": true
   },
   "outputs": [
    {
     "data": {
      "text/plain": [
       "rec.array([(   0, 125, 117, '2022-07-15T00:00:38.000000000'),\n",
       "           (   1, 125, 119, '2022-07-15T00:00:39.000000000'),\n",
       "           (   2, 127, 125, '2022-07-15T00:00:40.000000000'), ...,\n",
       "           (9169, 127,   0, '2022-07-15T02:33:27.000000000'),\n",
       "           (9170, 125,   0, '2022-07-15T02:33:28.000000000'),\n",
       "           (9171, 125,   0, '2022-07-15T02:33:29.000000000')],\n",
       "          dtype=[('data_points', '<i8'), ('heart_rate', '<i8'), ('watts', '<i8'), ('timestamp', '<M8[ns]')])"
      ]
     },
     "execution_count": 16,
     "metadata": {},
     "output_type": "execute_result"
    }
   ],
   "source": [
    "workout_data"
   ]
  },
  {
   "cell_type": "code",
   "execution_count": 17,
   "id": "d40746fc",
   "metadata": {},
   "outputs": [],
   "source": [
    "watts = workout_data['watts']"
   ]
  },
  {
   "cell_type": "code",
   "execution_count": 18,
   "id": "5096efac",
   "metadata": {},
   "outputs": [
    {
     "data": {
      "text/plain": [
       "array([117, 119, 125, ...,   0,   0,   0])"
      ]
     },
     "execution_count": 18,
     "metadata": {},
     "output_type": "execute_result"
    }
   ],
   "source": [
    "watts"
   ]
  },
  {
   "cell_type": "code",
   "execution_count": 19,
   "id": "ba8263b4",
   "metadata": {
    "scrolled": true
   },
   "outputs": [
    {
     "data": {
      "text/plain": [
       "9172"
      ]
     },
     "execution_count": 19,
     "metadata": {},
     "output_type": "execute_result"
    }
   ],
   "source": [
    "len(watts)"
   ]
  },
  {
   "cell_type": "code",
   "execution_count": 20,
   "id": "97ad7456",
   "metadata": {},
   "outputs": [
    {
     "data": {
      "text/plain": [
       "350"
      ]
     },
     "execution_count": 20,
     "metadata": {},
     "output_type": "execute_result"
    }
   ],
   "source": [
    "max_watts = int(max(watts))\n",
    "max_watts"
   ]
  },
  {
   "cell_type": "code",
   "execution_count": 21,
   "id": "f5512a72",
   "metadata": {},
   "outputs": [
    {
     "data": {
      "text/plain": [
       "847"
      ]
     },
     "execution_count": 21,
     "metadata": {},
     "output_type": "execute_result"
    }
   ],
   "source": [
    "np.argmax(watts)"
   ]
  },
  {
   "cell_type": "markdown",
   "id": "756fa2ab",
   "metadata": {},
   "source": [
    "## Smooth power curve"
   ]
  },
  {
   "cell_type": "code",
   "execution_count": 22,
   "id": "1501760c",
   "metadata": {
    "scrolled": true
   },
   "outputs": [
    {
     "name": "stdout",
     "output_type": "stream",
     "text": [
      "9172\n"
     ]
    }
   ],
   "source": [
    "# using helper function 'smooth.py'\n",
    "\n",
    "watts_smoothed = smooth(watts, window_len=10)\n",
    "print(len(watts_smoothed))"
   ]
  },
  {
   "cell_type": "code",
   "execution_count": 23,
   "id": "26ada510",
   "metadata": {},
   "outputs": [
    {
     "data": {
      "text/plain": [
       "array([117.        , 118.81970287, 119.45001074, ...,   0.        ,\n",
       "         0.        ,   0.        ])"
      ]
     },
     "execution_count": 23,
     "metadata": {},
     "output_type": "execute_result"
    }
   ],
   "source": [
    "watts_smoothed"
   ]
  },
  {
   "cell_type": "code",
   "execution_count": 24,
   "id": "e16ee041",
   "metadata": {},
   "outputs": [
    {
     "data": {
      "text/plain": [
       "336.8775642549206"
      ]
     },
     "execution_count": 24,
     "metadata": {},
     "output_type": "execute_result"
    }
   ],
   "source": [
    "max(watts_smoothed)"
   ]
  },
  {
   "cell_type": "code",
   "execution_count": 25,
   "id": "15d0e412",
   "metadata": {},
   "outputs": [
    {
     "data": {
      "text/plain": [
       "102.42443946769812"
      ]
     },
     "execution_count": 25,
     "metadata": {},
     "output_type": "execute_result"
    }
   ],
   "source": [
    "watts_smoothed[2134]"
   ]
  },
  {
   "cell_type": "markdown",
   "id": "beb72b24",
   "metadata": {},
   "source": [
    "##  Convert workout x-axis time values to minutes"
   ]
  },
  {
   "cell_type": "code",
   "execution_count": 26,
   "id": "d5e7078b",
   "metadata": {},
   "outputs": [
    {
     "data": {
      "text/plain": [
       "60.0"
      ]
     },
     "execution_count": 26,
     "metadata": {},
     "output_type": "execute_result"
    }
   ],
   "source": [
    "# converting recording data into minutes  \n",
    "# freq represents how many rows of data are contained in 1 minute of workout time\n",
    "# For example, if data is recorded every 5 seconds, then there will be 12 rows of data \n",
    "# per every one minute of workout time\n",
    "\n",
    "freq = 60 / rec_freq\n",
    "freq\n"
   ]
  },
  {
   "cell_type": "code",
   "execution_count": 27,
   "id": "9b40956c",
   "metadata": {
    "scrolled": true
   },
   "outputs": [
    {
     "name": "stdout",
     "output_type": "stream",
     "text": [
      "[0.00000000e+00 1.66666667e-02 3.33333333e-02 ... 1.52816667e+02\n",
      " 1.52833333e+02 1.52850000e+02]\n"
     ]
    }
   ],
   "source": [
    "minutes = workout_data['data_points']/freq\n",
    "print(minutes)"
   ]
  },
  {
   "cell_type": "markdown",
   "id": "3e78411b",
   "metadata": {},
   "source": [
    "## Find maximum power value and time stamp"
   ]
  },
  {
   "cell_type": "code",
   "execution_count": 28,
   "id": "2818df89",
   "metadata": {},
   "outputs": [],
   "source": [
    "max_pwr_idx = np.argmax(workout_data['watts'])"
   ]
  },
  {
   "cell_type": "code",
   "execution_count": 29,
   "id": "1046ca27",
   "metadata": {
    "scrolled": true
   },
   "outputs": [
    {
     "data": {
      "text/plain": [
       "847"
      ]
     },
     "execution_count": 29,
     "metadata": {},
     "output_type": "execute_result"
    }
   ],
   "source": [
    "max_pwr_idx"
   ]
  },
  {
   "cell_type": "code",
   "execution_count": 30,
   "id": "4140f03f",
   "metadata": {},
   "outputs": [
    {
     "data": {
      "text/plain": [
       "14.117"
      ]
     },
     "execution_count": 30,
     "metadata": {},
     "output_type": "execute_result"
    }
   ],
   "source": [
    "max_pwr_timestamp = round(minutes[max_pwr_idx], ndigits=3)\n",
    "max_pwr_timestamp"
   ]
  },
  {
   "cell_type": "code",
   "execution_count": 31,
   "id": "a835b8c2",
   "metadata": {},
   "outputs": [
    {
     "data": {
      "text/plain": [
       "(847, 160, 350, '2022-07-15T00:14:45.000000000')"
      ]
     },
     "execution_count": 31,
     "metadata": {},
     "output_type": "execute_result"
    }
   ],
   "source": [
    "workout_data[max_pwr_idx]"
   ]
  },
  {
   "cell_type": "markdown",
   "id": "f0e75cdb",
   "metadata": {},
   "source": [
    "## Find maximum heart rate value and time stamp"
   ]
  },
  {
   "cell_type": "code",
   "execution_count": 32,
   "id": "f0cd0f99",
   "metadata": {},
   "outputs": [
    {
     "data": {
      "text/plain": [
       "array([125, 125, 127, ..., 127, 125, 125])"
      ]
     },
     "execution_count": 32,
     "metadata": {},
     "output_type": "execute_result"
    }
   ],
   "source": [
    "hr = workout_data['heart_rate']\n",
    "hr"
   ]
  },
  {
   "cell_type": "code",
   "execution_count": 33,
   "id": "e515cdcc",
   "metadata": {},
   "outputs": [
    {
     "data": {
      "text/plain": [
       "170"
      ]
     },
     "execution_count": 33,
     "metadata": {},
     "output_type": "execute_result"
    }
   ],
   "source": [
    "max_hr = int(max(hr))\n",
    "max_hr"
   ]
  },
  {
   "cell_type": "code",
   "execution_count": 34,
   "id": "5e8ab5a8",
   "metadata": {},
   "outputs": [
    {
     "data": {
      "text/plain": [
       "860"
      ]
     },
     "execution_count": 34,
     "metadata": {},
     "output_type": "execute_result"
    }
   ],
   "source": [
    "max_hr_idx = np.argmax(workout_data['heart_rate'])\n",
    "max_hr_idx"
   ]
  },
  {
   "cell_type": "code",
   "execution_count": 35,
   "id": "af8787af",
   "metadata": {},
   "outputs": [
    {
     "data": {
      "text/plain": [
       "14.333333333333334"
      ]
     },
     "execution_count": 35,
     "metadata": {},
     "output_type": "execute_result"
    }
   ],
   "source": [
    "max_hr_timestamp = minutes[max_hr_idx]\n",
    "max_hr_timestamp"
   ]
  },
  {
   "cell_type": "markdown",
   "id": "a46d574f",
   "metadata": {},
   "source": [
    "## Plot data"
   ]
  },
  {
   "cell_type": "code",
   "execution_count": 36,
   "id": "5632baca",
   "metadata": {
    "scrolled": false
   },
   "outputs": [
    {
     "data": {
      "image/png": "[encoded data removed]",
      "text/plain": [
       "<Figure size 2016x864 with 2 Axes>"
      ]
     },
     "metadata": {
      "needs_background": "light"
     },
     "output_type": "display_data"
    }
   ],
   "source": [
    "if ftp != None:\n",
    "    figsize = (28, 12)    \n",
    "    img, ax1 = plt.subplots(figsize=figsize)\n",
    "    ax1.set_facecolor(color='#252525')\n",
    "    ax1.set_xlabel(\"Minutes\", fontsize=22.0)\n",
    "    ax1.set_ylabel(\"Watts\", fontsize=22.0)\n",
    "    ax1.tick_params(labelsize=22.0)\n",
    "\n",
    "    # This expands the top of the graph to 80% beyond max watts\n",
    "    ax1.set_ylim(top=max(watts)*1.80)\n",
    "\n",
    "    # logic for color under the graph based on % of FTP (thanks to Jonas Häggqvist for this code)\n",
    "    ax1.grid(which='major', axis='y', alpha=0.1, linewidth=1)\n",
    "    plt.fill_between(minutes, watts_smoothed, where=watts_smoothed > 0.00*ftp, color='#646464')\n",
    "    plt.fill_between(minutes, watts_smoothed, where=watts_smoothed > 0.60*ftp, color='#328bff')\n",
    "    plt.fill_between(minutes, watts_smoothed, where=watts_smoothed > 0.75*ftp, color='#59bf59')\n",
    "    plt.fill_between(minutes, watts_smoothed, where=watts_smoothed > 0.90*ftp, color='#ffcc3f')\n",
    "    plt.fill_between(minutes, watts_smoothed, where=watts_smoothed > 1.05*ftp, color='#ff663a')\n",
    "    plt.fill_between(minutes, watts_smoothed, where=watts_smoothed > 1.18*ftp, color='#ff340c')\n",
    "\n",
    "    # Setting workout date annotation (thanks to Phil Daws for the code that helped me get started)\n",
    "    # Note:  xy for the purposes of workout date label is set using 'data' for coordinates \n",
    "    xmin, xmax = ax1.get_xlim()\n",
    "    ymin, ymax = ax1.get_ylim()\n",
    "    xy = [xmax-(xmax*0.05), ymax-(ymax*0.05)]\n",
    "    \n",
    "    # Adding the workout date to the graph\n",
    "    workout_date = Annotation(f'Workout date: {date_str}', xy=[xmax//2, ymax-(ymax*0.08)], \n",
    "                              ha='center', color='white', fontweight='bold', fontsize=22.0)\n",
    "    ax1.add_artist(workout_date)\n",
    "    \n",
    "    # Plot smoothed power, line color, and thickness\n",
    "    plt.plot(minutes, watts_smoothed, color='white', linewidth=1.25)\n",
    "    \n",
    "    # Annotate max power \n",
    "    max_power = Annotation(f'{max_watts}w', xy=(max_pwr_timestamp, max_watts), xytext=(0, 15), \n",
    "                           textcoords=\"offset pixels\", ha='center', color='white', fontweight='bold', \n",
    "                           fontsize=22.0, arrowprops=dict(arrowstyle='wedge', color='yellow'))\n",
    "    ax1.add_artist(max_power)\n",
    "    \n",
    "    plt.vlines(x=max_pwr_timestamp, ymin=0, ymax=max_watts, color='white', linewidth=1.5)\n",
    "    \n",
    "    \n",
    "    # Instantiate second y axis for heart rate graph\n",
    "    ax2 = ax1.twinx()\n",
    "    ax2.set_ylabel(\"Heart Rate\", fontsize=22.0)    \n",
    "    ax2.set_ylim(top=max(hr)*1.20)\n",
    "    ax2.tick_params(labelsize=22.0)\n",
    "    \n",
    "    # Plot heart rate\n",
    "    ax2.plot(minutes, hr, color='red', linewidth=1.2)\n",
    "    \n",
    "    # Annotate max heart rate\n",
    "    max_hr_annt = Annotation(f'{max_hr}bpm', xy=(max_hr_timestamp, max_hr), xytext=(0, 15), \n",
    "                           textcoords=\"offset pixels\", ha='center', color='white', fontweight='bold', \n",
    "                           fontsize=22.0, arrowprops=dict(arrowstyle='wedge', color='red'))\n",
    "    ax2.add_artist(max_hr_annt)\n",
    "    \n",
    "    plt.show()\n",
    "\n",
    "else:\n",
    "    print(f\"\\nThe graph cannot be drawn; no valid FTP was provided.\")\n",
    "    print(f\"If you wish to try again, please have your FTP value ready and then reload this page.\")\n"
   ]
  },
  {
   "cell_type": "code",
   "execution_count": null,
   "id": "e88bcdaf",
   "metadata": {},
   "outputs": [],
   "source": []
  }
 ],
 "metadata": {
  "kernelspec": {
   "display_name": "Python 3 (ipykernel)",
   "language": "python",
   "name": "python3"
  },
  "language_info": {
   "codemirror_mode": {
    "name": "ipython",
    "version": 3
   },
   "file_extension": ".py",
   "mimetype": "text/x-python",
   "name": "python",
   "nbconvert_exporter": "python",
   "pygments_lexer": "ipython3",
   "version": "3.9.5"
  },
  "toc": {
   "base_numbering": 1,
   "nav_menu": {},
   "number_sections": true,
   "sideBar": true,
   "skip_h1_title": true,
   "title_cell": "Table of Contents",
   "title_sidebar": "Contents",
   "toc_cell": false,
   "toc_position": {
    "height": "calc(100% - 180px)",
    "left": "10px",
    "top": "150px",
    "width": "165px"
   },
   "toc_section_display": true,
   "toc_window_display": true
  }
 },
 "nbformat": 4,
 "nbformat_minor": 5
}
