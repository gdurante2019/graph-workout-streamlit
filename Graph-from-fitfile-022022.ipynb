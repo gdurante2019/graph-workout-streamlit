{
 "cells": [
  {
   "cell_type": "markdown",
   "id": "80909fc8",
   "metadata": {},
   "source": [
    "# Recreating Zwift ride powerplot"
   ]
  },
  {
   "cell_type": "markdown",
   "id": "b9b1655d",
   "metadata": {},
   "source": [
    "## Import .fit file and convert to pandas dataframe\n",
    "\n",
    "The code for importing .fit files and converting to a pandas dataframe is from http://johannesjacob.com/analyze-your-cycling-data-python/.\n",
    "To install the python packages, type 'pip install pandas numpy fitparse matplotlib tqdm' on the command line.\n"
   ]
  },
  {
   "cell_type": "code",
   "execution_count": 102,
   "id": "ccc516cb",
   "metadata": {},
   "outputs": [],
   "source": [
    "import os\n",
    "import datetime\n",
    "from fitparse import FitFile\n",
    "import pandas as pd\n",
    "import numpy as np\n",
    "import matplotlib.pyplot as plt\n",
    "from tqdm import tqdm\n",
    "from smooth import smooth\n",
    "from matplotlib.offsetbox import (TextArea, DrawingArea, OffsetImage,\n",
    "                                  AnnotationBbox, AnchoredText, AnchoredOffsetbox)\n",
    "from matplotlib.text import Annotation\n"
   ]
  },
  {
   "cell_type": "markdown",
   "id": "ea163459",
   "metadata": {},
   "source": [
    "##  Obtain FTP value from user to determine workout zones in graph"
   ]
  },
  {
   "cell_type": "code",
   "execution_count": 103,
   "id": "2e8ac9dc",
   "metadata": {
    "scrolled": true
   },
   "outputs": [
    {
     "name": "stdout",
     "output_type": "stream",
     "text": [
      "Enter FTP in watts (whole numbers only):  126\n",
      "\n",
      "Your FTP has been recorded as 126 watts.\n"
     ]
    }
   ],
   "source": [
    "ftp = None\n",
    "\n",
    "# set up try / except loop:\n",
    "n = 0\n",
    "while n < 3: \n",
    "    try:\n",
    "        ftp = int(input(\"Enter FTP in watts (whole numbers only):  \"))\n",
    "        print(f\"\\nYour FTP has been recorded as {ftp} watts.\")\n",
    "        break\n",
    "    except ValueError:\n",
    "        n += 1\n",
    "        print(\"\\nYour FTP value cannot contain letters, be left blank, or be entered as a decimal value. \\n\")\n"
   ]
  },
  {
   "cell_type": "markdown",
   "id": "1a7cc0b0",
   "metadata": {},
   "source": [
    "## Have user enter file name / upload file"
   ]
  },
  {
   "cell_type": "code",
   "execution_count": 104,
   "id": "71a85da9",
   "metadata": {},
   "outputs": [
    {
     "name": "stdout",
     "output_type": "stream",
     "text": [
      "Type filename, including .fit extension:  2021-10-05-10-54-32.fit\n"
     ]
    }
   ],
   "source": [
    "filename = input(\"Type filename, including .fit extension:  \")\n",
    "# 2021-10-05-10-54-32.fit\n",
    "\n",
    "fitfile = FitFile(filename)"
   ]
  },
  {
   "cell_type": "markdown",
   "id": "c35f2ad9",
   "metadata": {},
   "source": [
    "#### From Johannes Jacob's blog post:  \n",
    "_\"Now we are ready to import the workout file and transform the data into a \n",
    "pandas dataframe. Unfortunately we have to use an ugly hack with this \"while\" \n",
    "loop to avoid timing issues. Then we are looping through the file, append \n",
    "the records to a list and convert the list to a pandas dataframe.\"_"
   ]
  },
  {
   "cell_type": "code",
   "execution_count": 105,
   "id": "4f1ba20d",
   "metadata": {},
   "outputs": [],
   "source": [
    "while True:\n",
    "    try:\n",
    "        fitfile.messages\n",
    "        break\n",
    "    except KeyError:\n",
    "        continue\n",
    "workout = []\n",
    "for record in fitfile.get_messages('record'):\n",
    "    r = {}\n",
    "    for record_data in record:\n",
    "        r[record_data.name] = record_data.value\n",
    "    workout.append(r)\n",
    "df = pd.DataFrame(workout)"
   ]
  },
  {
   "cell_type": "code",
   "execution_count": 106,
   "id": "0793d869",
   "metadata": {
    "scrolled": false
   },
   "outputs": [
    {
     "data": {
      "text/html": [
       "<div>\n",
       "<style scoped>\n",
       "    .dataframe tbody tr th:only-of-type {\n",
       "        vertical-align: middle;\n",
       "    }\n",
       "\n",
       "    .dataframe tbody tr th {\n",
       "        vertical-align: top;\n",
       "    }\n",
       "\n",
       "    .dataframe thead th {\n",
       "        text-align: right;\n",
       "    }\n",
       "</style>\n",
       "<table border=\"1\" class=\"dataframe\">\n",
       "  <thead>\n",
       "    <tr style=\"text-align: right;\">\n",
       "      <th></th>\n",
       "      <th>altitude</th>\n",
       "      <th>cadence</th>\n",
       "      <th>compressed_speed_distance</th>\n",
       "      <th>cycle_length</th>\n",
       "      <th>distance</th>\n",
       "      <th>enhanced_altitude</th>\n",
       "      <th>enhanced_speed</th>\n",
       "      <th>grade</th>\n",
       "      <th>heart_rate</th>\n",
       "      <th>position_lat</th>\n",
       "      <th>position_long</th>\n",
       "      <th>power</th>\n",
       "      <th>resistance</th>\n",
       "      <th>speed</th>\n",
       "      <th>temperature</th>\n",
       "      <th>time_from_course</th>\n",
       "      <th>timestamp</th>\n",
       "    </tr>\n",
       "  </thead>\n",
       "  <tbody>\n",
       "    <tr>\n",
       "      <th>0</th>\n",
       "      <td>5.0</td>\n",
       "      <td>108</td>\n",
       "      <td>None</td>\n",
       "      <td>None</td>\n",
       "      <td>None</td>\n",
       "      <td>5.0</td>\n",
       "      <td>9.948</td>\n",
       "      <td>None</td>\n",
       "      <td>165</td>\n",
       "      <td>-138819701</td>\n",
       "      <td>1991832102</td>\n",
       "      <td>280</td>\n",
       "      <td>None</td>\n",
       "      <td>9.948</td>\n",
       "      <td>None</td>\n",
       "      <td>None</td>\n",
       "      <td>2021-10-05 18:05:18</td>\n",
       "    </tr>\n",
       "    <tr>\n",
       "      <th>1</th>\n",
       "      <td>5.0</td>\n",
       "      <td>109</td>\n",
       "      <td>None</td>\n",
       "      <td>None</td>\n",
       "      <td>None</td>\n",
       "      <td>5.0</td>\n",
       "      <td>10.150</td>\n",
       "      <td>None</td>\n",
       "      <td>166</td>\n",
       "      <td>-138820063</td>\n",
       "      <td>1991831076</td>\n",
       "      <td>248</td>\n",
       "      <td>None</td>\n",
       "      <td>10.150</td>\n",
       "      <td>None</td>\n",
       "      <td>None</td>\n",
       "      <td>2021-10-05 18:05:19</td>\n",
       "    </tr>\n",
       "    <tr>\n",
       "      <th>2</th>\n",
       "      <td>5.0</td>\n",
       "      <td>110</td>\n",
       "      <td>None</td>\n",
       "      <td>None</td>\n",
       "      <td>None</td>\n",
       "      <td>5.0</td>\n",
       "      <td>10.311</td>\n",
       "      <td>None</td>\n",
       "      <td>167</td>\n",
       "      <td>-138820372</td>\n",
       "      <td>1991830018</td>\n",
       "      <td>245</td>\n",
       "      <td>None</td>\n",
       "      <td>10.311</td>\n",
       "      <td>None</td>\n",
       "      <td>None</td>\n",
       "      <td>2021-10-05 18:05:20</td>\n",
       "    </tr>\n",
       "    <tr>\n",
       "      <th>3</th>\n",
       "      <td>5.0</td>\n",
       "      <td>108</td>\n",
       "      <td>None</td>\n",
       "      <td>None</td>\n",
       "      <td>None</td>\n",
       "      <td>5.0</td>\n",
       "      <td>10.464</td>\n",
       "      <td>None</td>\n",
       "      <td>168</td>\n",
       "      <td>-138820865</td>\n",
       "      <td>1991828979</td>\n",
       "      <td>248</td>\n",
       "      <td>None</td>\n",
       "      <td>10.464</td>\n",
       "      <td>None</td>\n",
       "      <td>None</td>\n",
       "      <td>2021-10-05 18:05:21</td>\n",
       "    </tr>\n",
       "    <tr>\n",
       "      <th>4</th>\n",
       "      <td>4.8</td>\n",
       "      <td>107</td>\n",
       "      <td>None</td>\n",
       "      <td>None</td>\n",
       "      <td>None</td>\n",
       "      <td>4.8</td>\n",
       "      <td>10.771</td>\n",
       "      <td>None</td>\n",
       "      <td>168</td>\n",
       "      <td>-138821057</td>\n",
       "      <td>1991827881</td>\n",
       "      <td>234</td>\n",
       "      <td>None</td>\n",
       "      <td>10.771</td>\n",
       "      <td>None</td>\n",
       "      <td>None</td>\n",
       "      <td>2021-10-05 18:05:22</td>\n",
       "    </tr>\n",
       "    <tr>\n",
       "      <th>...</th>\n",
       "      <td>...</td>\n",
       "      <td>...</td>\n",
       "      <td>...</td>\n",
       "      <td>...</td>\n",
       "      <td>...</td>\n",
       "      <td>...</td>\n",
       "      <td>...</td>\n",
       "      <td>...</td>\n",
       "      <td>...</td>\n",
       "      <td>...</td>\n",
       "      <td>...</td>\n",
       "      <td>...</td>\n",
       "      <td>...</td>\n",
       "      <td>...</td>\n",
       "      <td>...</td>\n",
       "      <td>...</td>\n",
       "      <td>...</td>\n",
       "    </tr>\n",
       "    <tr>\n",
       "      <th>4671</th>\n",
       "      <td>-5.4</td>\n",
       "      <td>0</td>\n",
       "      <td>None</td>\n",
       "      <td>None</td>\n",
       "      <td>None</td>\n",
       "      <td>-5.4</td>\n",
       "      <td>1.061</td>\n",
       "      <td>None</td>\n",
       "      <td>143</td>\n",
       "      <td>-138956810</td>\n",
       "      <td>1991928451</td>\n",
       "      <td>0</td>\n",
       "      <td>None</td>\n",
       "      <td>1.061</td>\n",
       "      <td>None</td>\n",
       "      <td>None</td>\n",
       "      <td>2021-10-05 19:23:09</td>\n",
       "    </tr>\n",
       "    <tr>\n",
       "      <th>4672</th>\n",
       "      <td>-5.4</td>\n",
       "      <td>0</td>\n",
       "      <td>None</td>\n",
       "      <td>None</td>\n",
       "      <td>None</td>\n",
       "      <td>-5.4</td>\n",
       "      <td>0.330</td>\n",
       "      <td>None</td>\n",
       "      <td>142</td>\n",
       "      <td>-138956881</td>\n",
       "      <td>1991928423</td>\n",
       "      <td>0</td>\n",
       "      <td>None</td>\n",
       "      <td>0.330</td>\n",
       "      <td>None</td>\n",
       "      <td>None</td>\n",
       "      <td>2021-10-05 19:23:10</td>\n",
       "    </tr>\n",
       "    <tr>\n",
       "      <th>4673</th>\n",
       "      <td>-5.4</td>\n",
       "      <td>0</td>\n",
       "      <td>None</td>\n",
       "      <td>None</td>\n",
       "      <td>None</td>\n",
       "      <td>-5.4</td>\n",
       "      <td>0.000</td>\n",
       "      <td>None</td>\n",
       "      <td>142</td>\n",
       "      <td>-138956889</td>\n",
       "      <td>1991928420</td>\n",
       "      <td>0</td>\n",
       "      <td>None</td>\n",
       "      <td>0.000</td>\n",
       "      <td>None</td>\n",
       "      <td>None</td>\n",
       "      <td>2021-10-05 19:23:11</td>\n",
       "    </tr>\n",
       "    <tr>\n",
       "      <th>4674</th>\n",
       "      <td>-5.4</td>\n",
       "      <td>0</td>\n",
       "      <td>None</td>\n",
       "      <td>None</td>\n",
       "      <td>None</td>\n",
       "      <td>-5.4</td>\n",
       "      <td>0.000</td>\n",
       "      <td>None</td>\n",
       "      <td>141</td>\n",
       "      <td>-138956888</td>\n",
       "      <td>1991928421</td>\n",
       "      <td>0</td>\n",
       "      <td>None</td>\n",
       "      <td>0.000</td>\n",
       "      <td>None</td>\n",
       "      <td>None</td>\n",
       "      <td>2021-10-05 19:23:12</td>\n",
       "    </tr>\n",
       "    <tr>\n",
       "      <th>4675</th>\n",
       "      <td>-5.4</td>\n",
       "      <td>0</td>\n",
       "      <td>None</td>\n",
       "      <td>None</td>\n",
       "      <td>None</td>\n",
       "      <td>-5.4</td>\n",
       "      <td>0.000</td>\n",
       "      <td>None</td>\n",
       "      <td>141</td>\n",
       "      <td>-138956888</td>\n",
       "      <td>1991928421</td>\n",
       "      <td>0</td>\n",
       "      <td>None</td>\n",
       "      <td>0.000</td>\n",
       "      <td>None</td>\n",
       "      <td>None</td>\n",
       "      <td>2021-10-05 19:23:13</td>\n",
       "    </tr>\n",
       "  </tbody>\n",
       "</table>\n",
       "<p>4676 rows × 17 columns</p>\n",
       "</div>"
      ],
      "text/plain": [
       "      altitude  cadence compressed_speed_distance cycle_length distance  \\\n",
       "0          5.0      108                      None         None     None   \n",
       "1          5.0      109                      None         None     None   \n",
       "2          5.0      110                      None         None     None   \n",
       "3          5.0      108                      None         None     None   \n",
       "4          4.8      107                      None         None     None   \n",
       "...        ...      ...                       ...          ...      ...   \n",
       "4671      -5.4        0                      None         None     None   \n",
       "4672      -5.4        0                      None         None     None   \n",
       "4673      -5.4        0                      None         None     None   \n",
       "4674      -5.4        0                      None         None     None   \n",
       "4675      -5.4        0                      None         None     None   \n",
       "\n",
       "      enhanced_altitude  enhanced_speed grade  heart_rate  position_lat  \\\n",
       "0                   5.0           9.948  None         165    -138819701   \n",
       "1                   5.0          10.150  None         166    -138820063   \n",
       "2                   5.0          10.311  None         167    -138820372   \n",
       "3                   5.0          10.464  None         168    -138820865   \n",
       "4                   4.8          10.771  None         168    -138821057   \n",
       "...                 ...             ...   ...         ...           ...   \n",
       "4671               -5.4           1.061  None         143    -138956810   \n",
       "4672               -5.4           0.330  None         142    -138956881   \n",
       "4673               -5.4           0.000  None         142    -138956889   \n",
       "4674               -5.4           0.000  None         141    -138956888   \n",
       "4675               -5.4           0.000  None         141    -138956888   \n",
       "\n",
       "      position_long  power resistance   speed temperature time_from_course  \\\n",
       "0        1991832102    280       None   9.948        None             None   \n",
       "1        1991831076    248       None  10.150        None             None   \n",
       "2        1991830018    245       None  10.311        None             None   \n",
       "3        1991828979    248       None  10.464        None             None   \n",
       "4        1991827881    234       None  10.771        None             None   \n",
       "...             ...    ...        ...     ...         ...              ...   \n",
       "4671     1991928451      0       None   1.061        None             None   \n",
       "4672     1991928423      0       None   0.330        None             None   \n",
       "4673     1991928420      0       None   0.000        None             None   \n",
       "4674     1991928421      0       None   0.000        None             None   \n",
       "4675     1991928421      0       None   0.000        None             None   \n",
       "\n",
       "               timestamp  \n",
       "0    2021-10-05 18:05:18  \n",
       "1    2021-10-05 18:05:19  \n",
       "2    2021-10-05 18:05:20  \n",
       "3    2021-10-05 18:05:21  \n",
       "4    2021-10-05 18:05:22  \n",
       "...                  ...  \n",
       "4671 2021-10-05 19:23:09  \n",
       "4672 2021-10-05 19:23:10  \n",
       "4673 2021-10-05 19:23:11  \n",
       "4674 2021-10-05 19:23:12  \n",
       "4675 2021-10-05 19:23:13  \n",
       "\n",
       "[4676 rows x 17 columns]"
      ]
     },
     "execution_count": 106,
     "metadata": {},
     "output_type": "execute_result"
    }
   ],
   "source": [
    "df"
   ]
  },
  {
   "cell_type": "code",
   "execution_count": 107,
   "id": "4b113805",
   "metadata": {
    "scrolled": false
   },
   "outputs": [
    {
     "data": {
      "text/html": [
       "<div>\n",
       "<style scoped>\n",
       "    .dataframe tbody tr th:only-of-type {\n",
       "        vertical-align: middle;\n",
       "    }\n",
       "\n",
       "    .dataframe tbody tr th {\n",
       "        vertical-align: top;\n",
       "    }\n",
       "\n",
       "    .dataframe thead th {\n",
       "        text-align: right;\n",
       "    }\n",
       "</style>\n",
       "<table border=\"1\" class=\"dataframe\">\n",
       "  <thead>\n",
       "    <tr style=\"text-align: right;\">\n",
       "      <th></th>\n",
       "      <th>altitude</th>\n",
       "      <th>cadence</th>\n",
       "      <th>compressed_speed_distance</th>\n",
       "      <th>cycle_length</th>\n",
       "      <th>distance</th>\n",
       "      <th>enhanced_altitude</th>\n",
       "      <th>enhanced_speed</th>\n",
       "      <th>grade</th>\n",
       "      <th>heart_rate</th>\n",
       "      <th>position_lat</th>\n",
       "      <th>position_long</th>\n",
       "      <th>power</th>\n",
       "      <th>resistance</th>\n",
       "      <th>speed</th>\n",
       "      <th>temperature</th>\n",
       "      <th>time_from_course</th>\n",
       "      <th>timestamp</th>\n",
       "    </tr>\n",
       "  </thead>\n",
       "  <tbody>\n",
       "    <tr>\n",
       "      <th>4671</th>\n",
       "      <td>-5.4</td>\n",
       "      <td>0</td>\n",
       "      <td>None</td>\n",
       "      <td>None</td>\n",
       "      <td>None</td>\n",
       "      <td>-5.4</td>\n",
       "      <td>1.061</td>\n",
       "      <td>None</td>\n",
       "      <td>143</td>\n",
       "      <td>-138956810</td>\n",
       "      <td>1991928451</td>\n",
       "      <td>0</td>\n",
       "      <td>None</td>\n",
       "      <td>1.061</td>\n",
       "      <td>None</td>\n",
       "      <td>None</td>\n",
       "      <td>2021-10-05 19:23:09</td>\n",
       "    </tr>\n",
       "    <tr>\n",
       "      <th>4672</th>\n",
       "      <td>-5.4</td>\n",
       "      <td>0</td>\n",
       "      <td>None</td>\n",
       "      <td>None</td>\n",
       "      <td>None</td>\n",
       "      <td>-5.4</td>\n",
       "      <td>0.330</td>\n",
       "      <td>None</td>\n",
       "      <td>142</td>\n",
       "      <td>-138956881</td>\n",
       "      <td>1991928423</td>\n",
       "      <td>0</td>\n",
       "      <td>None</td>\n",
       "      <td>0.330</td>\n",
       "      <td>None</td>\n",
       "      <td>None</td>\n",
       "      <td>2021-10-05 19:23:10</td>\n",
       "    </tr>\n",
       "    <tr>\n",
       "      <th>4673</th>\n",
       "      <td>-5.4</td>\n",
       "      <td>0</td>\n",
       "      <td>None</td>\n",
       "      <td>None</td>\n",
       "      <td>None</td>\n",
       "      <td>-5.4</td>\n",
       "      <td>0.000</td>\n",
       "      <td>None</td>\n",
       "      <td>142</td>\n",
       "      <td>-138956889</td>\n",
       "      <td>1991928420</td>\n",
       "      <td>0</td>\n",
       "      <td>None</td>\n",
       "      <td>0.000</td>\n",
       "      <td>None</td>\n",
       "      <td>None</td>\n",
       "      <td>2021-10-05 19:23:11</td>\n",
       "    </tr>\n",
       "    <tr>\n",
       "      <th>4674</th>\n",
       "      <td>-5.4</td>\n",
       "      <td>0</td>\n",
       "      <td>None</td>\n",
       "      <td>None</td>\n",
       "      <td>None</td>\n",
       "      <td>-5.4</td>\n",
       "      <td>0.000</td>\n",
       "      <td>None</td>\n",
       "      <td>141</td>\n",
       "      <td>-138956888</td>\n",
       "      <td>1991928421</td>\n",
       "      <td>0</td>\n",
       "      <td>None</td>\n",
       "      <td>0.000</td>\n",
       "      <td>None</td>\n",
       "      <td>None</td>\n",
       "      <td>2021-10-05 19:23:12</td>\n",
       "    </tr>\n",
       "    <tr>\n",
       "      <th>4675</th>\n",
       "      <td>-5.4</td>\n",
       "      <td>0</td>\n",
       "      <td>None</td>\n",
       "      <td>None</td>\n",
       "      <td>None</td>\n",
       "      <td>-5.4</td>\n",
       "      <td>0.000</td>\n",
       "      <td>None</td>\n",
       "      <td>141</td>\n",
       "      <td>-138956888</td>\n",
       "      <td>1991928421</td>\n",
       "      <td>0</td>\n",
       "      <td>None</td>\n",
       "      <td>0.000</td>\n",
       "      <td>None</td>\n",
       "      <td>None</td>\n",
       "      <td>2021-10-05 19:23:13</td>\n",
       "    </tr>\n",
       "  </tbody>\n",
       "</table>\n",
       "</div>"
      ],
      "text/plain": [
       "      altitude  cadence compressed_speed_distance cycle_length distance  \\\n",
       "4671      -5.4        0                      None         None     None   \n",
       "4672      -5.4        0                      None         None     None   \n",
       "4673      -5.4        0                      None         None     None   \n",
       "4674      -5.4        0                      None         None     None   \n",
       "4675      -5.4        0                      None         None     None   \n",
       "\n",
       "      enhanced_altitude  enhanced_speed grade  heart_rate  position_lat  \\\n",
       "4671               -5.4           1.061  None         143    -138956810   \n",
       "4672               -5.4           0.330  None         142    -138956881   \n",
       "4673               -5.4           0.000  None         142    -138956889   \n",
       "4674               -5.4           0.000  None         141    -138956888   \n",
       "4675               -5.4           0.000  None         141    -138956888   \n",
       "\n",
       "      position_long  power resistance  speed temperature time_from_course  \\\n",
       "4671     1991928451      0       None  1.061        None             None   \n",
       "4672     1991928423      0       None  0.330        None             None   \n",
       "4673     1991928420      0       None  0.000        None             None   \n",
       "4674     1991928421      0       None  0.000        None             None   \n",
       "4675     1991928421      0       None  0.000        None             None   \n",
       "\n",
       "               timestamp  \n",
       "4671 2021-10-05 19:23:09  \n",
       "4672 2021-10-05 19:23:10  \n",
       "4673 2021-10-05 19:23:11  \n",
       "4674 2021-10-05 19:23:12  \n",
       "4675 2021-10-05 19:23:13  "
      ]
     },
     "execution_count": 107,
     "metadata": {},
     "output_type": "execute_result"
    }
   ],
   "source": [
    "df.tail()"
   ]
  },
  {
   "cell_type": "markdown",
   "id": "a00ea909",
   "metadata": {},
   "source": [
    "## Get date of workout from column 'timestamp' "
   ]
  },
  {
   "cell_type": "code",
   "execution_count": 108,
   "id": "4e0d3150",
   "metadata": {
    "scrolled": false
   },
   "outputs": [
    {
     "data": {
      "text/plain": [
       "array(['2021-10-05T19:23:13.000000000'], dtype='datetime64[ns]')"
      ]
     },
     "execution_count": 108,
     "metadata": {},
     "output_type": "execute_result"
    }
   ],
   "source": [
    "timestamp = df['timestamp'].tail(1).values\n",
    "timestamp"
   ]
  },
  {
   "cell_type": "code",
   "execution_count": 109,
   "id": "dc99bc7b",
   "metadata": {},
   "outputs": [
    {
     "data": {
      "text/plain": [
       "array(['2021-10-05'], dtype='<U28')"
      ]
     },
     "execution_count": 109,
     "metadata": {},
     "output_type": "execute_result"
    }
   ],
   "source": [
    "date = np.datetime_as_string(timestamp, unit='D')\n",
    "date"
   ]
  },
  {
   "cell_type": "code",
   "execution_count": 110,
   "id": "34efc2f6",
   "metadata": {},
   "outputs": [
    {
     "name": "stdout",
     "output_type": "stream",
     "text": [
      "['2021-10-05']\n"
     ]
    }
   ],
   "source": [
    "date_str = str(date)\n",
    "type(date_str)\n",
    "print(date_str)\n"
   ]
  },
  {
   "cell_type": "code",
   "execution_count": 111,
   "id": "c01f99af",
   "metadata": {},
   "outputs": [
    {
     "name": "stdout",
     "output_type": "stream",
     "text": [
      "2021-10-05\n"
     ]
    }
   ],
   "source": [
    "date_str = date_str.strip(\"[\")\n",
    "date_str = date_str.strip(\"]\")\n",
    "date_str = date_str.strip(\"'\")\n",
    "print(date_str)"
   ]
  },
  {
   "cell_type": "markdown",
   "id": "8fb899ed",
   "metadata": {},
   "source": [
    "##  Remove unnecessary columns"
   ]
  },
  {
   "cell_type": "code",
   "execution_count": 112,
   "id": "ee5ceef8",
   "metadata": {},
   "outputs": [
    {
     "data": {
      "text/plain": [
       "Index(['altitude', 'cadence', 'compressed_speed_distance', 'cycle_length',\n",
       "       'distance', 'enhanced_altitude', 'enhanced_speed', 'grade',\n",
       "       'heart_rate', 'position_lat', 'position_long', 'power', 'resistance',\n",
       "       'speed', 'temperature', 'time_from_course', 'timestamp'],\n",
       "      dtype='object')"
      ]
     },
     "execution_count": 112,
     "metadata": {},
     "output_type": "execute_result"
    }
   ],
   "source": [
    "df.columns"
   ]
  },
  {
   "cell_type": "markdown",
   "id": "a2484d4d",
   "metadata": {},
   "source": [
    "Keeping the following columns:\n",
    "* heart_rate\n",
    "* power\n",
    "* speed\n"
   ]
  },
  {
   "cell_type": "code",
   "execution_count": 113,
   "id": "b30c16d9",
   "metadata": {
    "scrolled": false
   },
   "outputs": [
    {
     "data": {
      "text/html": [
       "<div>\n",
       "<style scoped>\n",
       "    .dataframe tbody tr th:only-of-type {\n",
       "        vertical-align: middle;\n",
       "    }\n",
       "\n",
       "    .dataframe tbody tr th {\n",
       "        vertical-align: top;\n",
       "    }\n",
       "\n",
       "    .dataframe thead th {\n",
       "        text-align: right;\n",
       "    }\n",
       "</style>\n",
       "<table border=\"1\" class=\"dataframe\">\n",
       "  <thead>\n",
       "    <tr style=\"text-align: right;\">\n",
       "      <th></th>\n",
       "      <th>heart_rate</th>\n",
       "      <th>power</th>\n",
       "      <th>speed</th>\n",
       "    </tr>\n",
       "  </thead>\n",
       "  <tbody>\n",
       "    <tr>\n",
       "      <th>0</th>\n",
       "      <td>165</td>\n",
       "      <td>280</td>\n",
       "      <td>9.948</td>\n",
       "    </tr>\n",
       "    <tr>\n",
       "      <th>1</th>\n",
       "      <td>166</td>\n",
       "      <td>248</td>\n",
       "      <td>10.150</td>\n",
       "    </tr>\n",
       "    <tr>\n",
       "      <th>2</th>\n",
       "      <td>167</td>\n",
       "      <td>245</td>\n",
       "      <td>10.311</td>\n",
       "    </tr>\n",
       "    <tr>\n",
       "      <th>3</th>\n",
       "      <td>168</td>\n",
       "      <td>248</td>\n",
       "      <td>10.464</td>\n",
       "    </tr>\n",
       "    <tr>\n",
       "      <th>4</th>\n",
       "      <td>168</td>\n",
       "      <td>234</td>\n",
       "      <td>10.771</td>\n",
       "    </tr>\n",
       "    <tr>\n",
       "      <th>...</th>\n",
       "      <td>...</td>\n",
       "      <td>...</td>\n",
       "      <td>...</td>\n",
       "    </tr>\n",
       "    <tr>\n",
       "      <th>4671</th>\n",
       "      <td>143</td>\n",
       "      <td>0</td>\n",
       "      <td>1.061</td>\n",
       "    </tr>\n",
       "    <tr>\n",
       "      <th>4672</th>\n",
       "      <td>142</td>\n",
       "      <td>0</td>\n",
       "      <td>0.330</td>\n",
       "    </tr>\n",
       "    <tr>\n",
       "      <th>4673</th>\n",
       "      <td>142</td>\n",
       "      <td>0</td>\n",
       "      <td>0.000</td>\n",
       "    </tr>\n",
       "    <tr>\n",
       "      <th>4674</th>\n",
       "      <td>141</td>\n",
       "      <td>0</td>\n",
       "      <td>0.000</td>\n",
       "    </tr>\n",
       "    <tr>\n",
       "      <th>4675</th>\n",
       "      <td>141</td>\n",
       "      <td>0</td>\n",
       "      <td>0.000</td>\n",
       "    </tr>\n",
       "  </tbody>\n",
       "</table>\n",
       "<p>4676 rows × 3 columns</p>\n",
       "</div>"
      ],
      "text/plain": [
       "      heart_rate  power   speed\n",
       "0            165    280   9.948\n",
       "1            166    248  10.150\n",
       "2            167    245  10.311\n",
       "3            168    248  10.464\n",
       "4            168    234  10.771\n",
       "...          ...    ...     ...\n",
       "4671         143      0   1.061\n",
       "4672         142      0   0.330\n",
       "4673         142      0   0.000\n",
       "4674         141      0   0.000\n",
       "4675         141      0   0.000\n",
       "\n",
       "[4676 rows x 3 columns]"
      ]
     },
     "execution_count": 113,
     "metadata": {},
     "output_type": "execute_result"
    }
   ],
   "source": [
    "df_subset = pd.DataFrame(df, columns=['heart_rate', 'power', 'speed'])\n",
    "df_subset"
   ]
  },
  {
   "cell_type": "code",
   "execution_count": 114,
   "id": "55bcf0f7",
   "metadata": {},
   "outputs": [
    {
     "data": {
      "text/plain": [
       "False    4676\n",
       "Name: power, dtype: int64"
      ]
     },
     "execution_count": 114,
     "metadata": {},
     "output_type": "execute_result"
    }
   ],
   "source": [
    "df_subset['power'].isna().value_counts()"
   ]
  },
  {
   "cell_type": "code",
   "execution_count": 115,
   "id": "8310e656",
   "metadata": {},
   "outputs": [
    {
     "data": {
      "text/plain": [
       "4676"
      ]
     },
     "execution_count": 115,
     "metadata": {},
     "output_type": "execute_result"
    }
   ],
   "source": [
    "len(df_subset)"
   ]
  },
  {
   "cell_type": "markdown",
   "id": "56265e4a",
   "metadata": {},
   "source": [
    "##  Insert a column 'time_unit' "
   ]
  },
  {
   "cell_type": "markdown",
   "id": "8f6ba242",
   "metadata": {},
   "source": [
    "_**Note:  Zwift records workout data once every second.  Using .fit files with data recorded more or less frequently will result in an incorrect number of minutes on the x-axis of the graph.**_"
   ]
  },
  {
   "cell_type": "code",
   "execution_count": 116,
   "id": "cf2e5f79",
   "metadata": {
    "scrolled": true
   },
   "outputs": [],
   "source": [
    "df_subset.insert(loc=0, column='time_unit', value=np.arange(len(df_subset)))"
   ]
  },
  {
   "cell_type": "code",
   "execution_count": 117,
   "id": "9de8497f",
   "metadata": {},
   "outputs": [
    {
     "data": {
      "text/html": [
       "<div>\n",
       "<style scoped>\n",
       "    .dataframe tbody tr th:only-of-type {\n",
       "        vertical-align: middle;\n",
       "    }\n",
       "\n",
       "    .dataframe tbody tr th {\n",
       "        vertical-align: top;\n",
       "    }\n",
       "\n",
       "    .dataframe thead th {\n",
       "        text-align: right;\n",
       "    }\n",
       "</style>\n",
       "<table border=\"1\" class=\"dataframe\">\n",
       "  <thead>\n",
       "    <tr style=\"text-align: right;\">\n",
       "      <th></th>\n",
       "      <th>time_unit</th>\n",
       "      <th>heart_rate</th>\n",
       "      <th>power</th>\n",
       "      <th>speed</th>\n",
       "    </tr>\n",
       "  </thead>\n",
       "  <tbody>\n",
       "    <tr>\n",
       "      <th>0</th>\n",
       "      <td>0</td>\n",
       "      <td>165</td>\n",
       "      <td>280</td>\n",
       "      <td>9.948</td>\n",
       "    </tr>\n",
       "    <tr>\n",
       "      <th>1</th>\n",
       "      <td>1</td>\n",
       "      <td>166</td>\n",
       "      <td>248</td>\n",
       "      <td>10.150</td>\n",
       "    </tr>\n",
       "    <tr>\n",
       "      <th>2</th>\n",
       "      <td>2</td>\n",
       "      <td>167</td>\n",
       "      <td>245</td>\n",
       "      <td>10.311</td>\n",
       "    </tr>\n",
       "    <tr>\n",
       "      <th>3</th>\n",
       "      <td>3</td>\n",
       "      <td>168</td>\n",
       "      <td>248</td>\n",
       "      <td>10.464</td>\n",
       "    </tr>\n",
       "    <tr>\n",
       "      <th>4</th>\n",
       "      <td>4</td>\n",
       "      <td>168</td>\n",
       "      <td>234</td>\n",
       "      <td>10.771</td>\n",
       "    </tr>\n",
       "    <tr>\n",
       "      <th>...</th>\n",
       "      <td>...</td>\n",
       "      <td>...</td>\n",
       "      <td>...</td>\n",
       "      <td>...</td>\n",
       "    </tr>\n",
       "    <tr>\n",
       "      <th>4671</th>\n",
       "      <td>4671</td>\n",
       "      <td>143</td>\n",
       "      <td>0</td>\n",
       "      <td>1.061</td>\n",
       "    </tr>\n",
       "    <tr>\n",
       "      <th>4672</th>\n",
       "      <td>4672</td>\n",
       "      <td>142</td>\n",
       "      <td>0</td>\n",
       "      <td>0.330</td>\n",
       "    </tr>\n",
       "    <tr>\n",
       "      <th>4673</th>\n",
       "      <td>4673</td>\n",
       "      <td>142</td>\n",
       "      <td>0</td>\n",
       "      <td>0.000</td>\n",
       "    </tr>\n",
       "    <tr>\n",
       "      <th>4674</th>\n",
       "      <td>4674</td>\n",
       "      <td>141</td>\n",
       "      <td>0</td>\n",
       "      <td>0.000</td>\n",
       "    </tr>\n",
       "    <tr>\n",
       "      <th>4675</th>\n",
       "      <td>4675</td>\n",
       "      <td>141</td>\n",
       "      <td>0</td>\n",
       "      <td>0.000</td>\n",
       "    </tr>\n",
       "  </tbody>\n",
       "</table>\n",
       "<p>4676 rows × 4 columns</p>\n",
       "</div>"
      ],
      "text/plain": [
       "      time_unit  heart_rate  power   speed\n",
       "0             0         165    280   9.948\n",
       "1             1         166    248  10.150\n",
       "2             2         167    245  10.311\n",
       "3             3         168    248  10.464\n",
       "4             4         168    234  10.771\n",
       "...         ...         ...    ...     ...\n",
       "4671       4671         143      0   1.061\n",
       "4672       4672         142      0   0.330\n",
       "4673       4673         142      0   0.000\n",
       "4674       4674         141      0   0.000\n",
       "4675       4675         141      0   0.000\n",
       "\n",
       "[4676 rows x 4 columns]"
      ]
     },
     "execution_count": 117,
     "metadata": {},
     "output_type": "execute_result"
    }
   ],
   "source": [
    "df_subset"
   ]
  },
  {
   "cell_type": "code",
   "execution_count": 118,
   "id": "018accc3",
   "metadata": {},
   "outputs": [],
   "source": [
    "df_subset.rename(columns = {'power':'watts'}, inplace = True)"
   ]
  },
  {
   "cell_type": "code",
   "execution_count": 119,
   "id": "779373be",
   "metadata": {
    "scrolled": false
   },
   "outputs": [
    {
     "data": {
      "text/html": [
       "<div>\n",
       "<style scoped>\n",
       "    .dataframe tbody tr th:only-of-type {\n",
       "        vertical-align: middle;\n",
       "    }\n",
       "\n",
       "    .dataframe tbody tr th {\n",
       "        vertical-align: top;\n",
       "    }\n",
       "\n",
       "    .dataframe thead th {\n",
       "        text-align: right;\n",
       "    }\n",
       "</style>\n",
       "<table border=\"1\" class=\"dataframe\">\n",
       "  <thead>\n",
       "    <tr style=\"text-align: right;\">\n",
       "      <th></th>\n",
       "      <th>time_unit</th>\n",
       "      <th>heart_rate</th>\n",
       "      <th>watts</th>\n",
       "      <th>speed</th>\n",
       "    </tr>\n",
       "  </thead>\n",
       "  <tbody>\n",
       "    <tr>\n",
       "      <th>0</th>\n",
       "      <td>0</td>\n",
       "      <td>165</td>\n",
       "      <td>280</td>\n",
       "      <td>9.948</td>\n",
       "    </tr>\n",
       "    <tr>\n",
       "      <th>1</th>\n",
       "      <td>1</td>\n",
       "      <td>166</td>\n",
       "      <td>248</td>\n",
       "      <td>10.150</td>\n",
       "    </tr>\n",
       "    <tr>\n",
       "      <th>2</th>\n",
       "      <td>2</td>\n",
       "      <td>167</td>\n",
       "      <td>245</td>\n",
       "      <td>10.311</td>\n",
       "    </tr>\n",
       "    <tr>\n",
       "      <th>3</th>\n",
       "      <td>3</td>\n",
       "      <td>168</td>\n",
       "      <td>248</td>\n",
       "      <td>10.464</td>\n",
       "    </tr>\n",
       "    <tr>\n",
       "      <th>4</th>\n",
       "      <td>4</td>\n",
       "      <td>168</td>\n",
       "      <td>234</td>\n",
       "      <td>10.771</td>\n",
       "    </tr>\n",
       "    <tr>\n",
       "      <th>...</th>\n",
       "      <td>...</td>\n",
       "      <td>...</td>\n",
       "      <td>...</td>\n",
       "      <td>...</td>\n",
       "    </tr>\n",
       "    <tr>\n",
       "      <th>4671</th>\n",
       "      <td>4671</td>\n",
       "      <td>143</td>\n",
       "      <td>0</td>\n",
       "      <td>1.061</td>\n",
       "    </tr>\n",
       "    <tr>\n",
       "      <th>4672</th>\n",
       "      <td>4672</td>\n",
       "      <td>142</td>\n",
       "      <td>0</td>\n",
       "      <td>0.330</td>\n",
       "    </tr>\n",
       "    <tr>\n",
       "      <th>4673</th>\n",
       "      <td>4673</td>\n",
       "      <td>142</td>\n",
       "      <td>0</td>\n",
       "      <td>0.000</td>\n",
       "    </tr>\n",
       "    <tr>\n",
       "      <th>4674</th>\n",
       "      <td>4674</td>\n",
       "      <td>141</td>\n",
       "      <td>0</td>\n",
       "      <td>0.000</td>\n",
       "    </tr>\n",
       "    <tr>\n",
       "      <th>4675</th>\n",
       "      <td>4675</td>\n",
       "      <td>141</td>\n",
       "      <td>0</td>\n",
       "      <td>0.000</td>\n",
       "    </tr>\n",
       "  </tbody>\n",
       "</table>\n",
       "<p>4676 rows × 4 columns</p>\n",
       "</div>"
      ],
      "text/plain": [
       "      time_unit  heart_rate  watts   speed\n",
       "0             0         165    280   9.948\n",
       "1             1         166    248  10.150\n",
       "2             2         167    245  10.311\n",
       "3             3         168    248  10.464\n",
       "4             4         168    234  10.771\n",
       "...         ...         ...    ...     ...\n",
       "4671       4671         143      0   1.061\n",
       "4672       4672         142      0   0.330\n",
       "4673       4673         142      0   0.000\n",
       "4674       4674         141      0   0.000\n",
       "4675       4675         141      0   0.000\n",
       "\n",
       "[4676 rows x 4 columns]"
      ]
     },
     "execution_count": 119,
     "metadata": {},
     "output_type": "execute_result"
    }
   ],
   "source": [
    "df_subset"
   ]
  },
  {
   "cell_type": "code",
   "execution_count": 120,
   "id": "b94379da",
   "metadata": {},
   "outputs": [
    {
     "data": {
      "text/plain": [
       "294"
      ]
     },
     "execution_count": 120,
     "metadata": {},
     "output_type": "execute_result"
    }
   ],
   "source": [
    "df_subset['watts'].max()"
   ]
  },
  {
   "cell_type": "code",
   "execution_count": 121,
   "id": "e99e19a0",
   "metadata": {},
   "outputs": [
    {
     "data": {
      "text/html": [
       "<div>\n",
       "<style scoped>\n",
       "    .dataframe tbody tr th:only-of-type {\n",
       "        vertical-align: middle;\n",
       "    }\n",
       "\n",
       "    .dataframe tbody tr th {\n",
       "        vertical-align: top;\n",
       "    }\n",
       "\n",
       "    .dataframe thead th {\n",
       "        text-align: right;\n",
       "    }\n",
       "</style>\n",
       "<table border=\"1\" class=\"dataframe\">\n",
       "  <thead>\n",
       "    <tr style=\"text-align: right;\">\n",
       "      <th></th>\n",
       "      <th>time_unit</th>\n",
       "      <th>heart_rate</th>\n",
       "      <th>watts</th>\n",
       "      <th>speed</th>\n",
       "    </tr>\n",
       "  </thead>\n",
       "  <tbody>\n",
       "  </tbody>\n",
       "</table>\n",
       "</div>"
      ],
      "text/plain": [
       "Empty DataFrame\n",
       "Columns: [time_unit, heart_rate, watts, speed]\n",
       "Index: []"
      ]
     },
     "execution_count": 121,
     "metadata": {},
     "output_type": "execute_result"
    }
   ],
   "source": [
    "df_subset.loc[df_subset['watts'] == \"NaN\"]"
   ]
  },
  {
   "cell_type": "code",
   "execution_count": 122,
   "id": "2655ae47",
   "metadata": {},
   "outputs": [],
   "source": [
    "df_subset['watts'].fillna(0, inplace=True)"
   ]
  },
  {
   "cell_type": "markdown",
   "id": "c64d033c",
   "metadata": {},
   "source": [
    "##  Give user the opportunity to enter how often .fit file data is recorded, in seconds (default is once per second, as on Zwift)"
   ]
  },
  {
   "cell_type": "code",
   "execution_count": 123,
   "id": "9e903969",
   "metadata": {},
   "outputs": [
    {
     "name": "stdout",
     "output_type": "stream",
     "text": [
      "Was your .fit file recorded by Zwift, and/or did you device record the workout in 1-second increments?  \n",
      "Enter 'y' for yes or 'n' for no. \n"
     ]
    }
   ],
   "source": [
    "# Workout .fit file recorded by Zwift?\n",
    "\n",
    "zwift_or_not = input(\"Was your .fit file recorded by Zwift, and/or did you device record the workout in 1-second increments?  \\nEnter 'y' for yes or 'n' for no. \")"
   ]
  },
  {
   "cell_type": "code",
   "execution_count": 124,
   "id": "b464a6df",
   "metadata": {},
   "outputs": [
    {
     "data": {
      "text/plain": [
       "''"
      ]
     },
     "execution_count": 124,
     "metadata": {},
     "output_type": "execute_result"
    }
   ],
   "source": [
    "zwift_or_not"
   ]
  },
  {
   "cell_type": "code",
   "execution_count": 125,
   "id": "6f8beecd",
   "metadata": {
    "scrolled": true
   },
   "outputs": [
    {
     "name": "stdout",
     "output_type": "stream",
     "text": [
      "\n",
      "The default recording frequency has been set to 1 second.\n"
     ]
    }
   ],
   "source": [
    "if zwift_or_not=='y' or zwift_or_not=='':\n",
    "    rec_freq = 1\n",
    "    print(f\"\\nThe default recording frequency has been set to {rec_freq} second.\")\n",
    "\n",
    "    \n",
    "# If .fit file not recorded by Zwift, how frequently was data recorded, in seconds?\n",
    "\n",
    "if zwift_or_not=='n':\n",
    "    # default recording frequency to start with:\n",
    "    rec_freq = 1\n",
    "    \n",
    "    # set up try / except loop:\n",
    "    n = 0\n",
    "    while n < 3: \n",
    "        try:\n",
    "            rec_freq = int(input(\"Please enter the frequency that your workout data was recorded, in seconds.  \\nEntry must be in numbers >0 and <=60, e.g., '1' for once per second, '5' to represent data recorded once every 5 seconds, '10' to signify once every 10 seconds, etc.   \"))\n",
    "            print(f\"\\nThe recording frequency has been set to {rec_freq} second(s).\")\n",
    "            break\n",
    "        except ValueError:\n",
    "            n += 1\n",
    "            print()\n",
    "        if n == 3:\n",
    "            print(f\"\\nThe recording frequency has been set to {rec_freq} second(s).\")\n"
   ]
  },
  {
   "cell_type": "code",
   "execution_count": 126,
   "id": "8af0e146",
   "metadata": {},
   "outputs": [
    {
     "data": {
      "text/plain": [
       "1"
      ]
     },
     "execution_count": 126,
     "metadata": {},
     "output_type": "execute_result"
    }
   ],
   "source": [
    "rec_freq"
   ]
  },
  {
   "cell_type": "markdown",
   "id": "0e74af28",
   "metadata": {},
   "source": [
    "## Convert dataframe to NumPy array"
   ]
  },
  {
   "cell_type": "code",
   "execution_count": 127,
   "id": "4cf6172f",
   "metadata": {},
   "outputs": [],
   "source": [
    "workout_data = df_subset.to_records(index=False)"
   ]
  },
  {
   "cell_type": "code",
   "execution_count": 128,
   "id": "1013c70c",
   "metadata": {
    "scrolled": true
   },
   "outputs": [
    {
     "data": {
      "text/plain": [
       "rec.array([(   0, 165, 280,  9.948), (   1, 166, 248, 10.15 ),\n",
       "           (   2, 167, 245, 10.311), ..., (4673, 142,   0,  0.   ),\n",
       "           (4674, 141,   0,  0.   ), (4675, 141,   0,  0.   )],\n",
       "          dtype=[('time_unit', '<i8'), ('heart_rate', '<i8'), ('watts', '<i8'), ('speed', '<f8')])"
      ]
     },
     "execution_count": 128,
     "metadata": {},
     "output_type": "execute_result"
    }
   ],
   "source": [
    "workout_data"
   ]
  },
  {
   "cell_type": "markdown",
   "id": "756fa2ab",
   "metadata": {},
   "source": [
    "## Smooth power curve"
   ]
  },
  {
   "cell_type": "code",
   "execution_count": 129,
   "id": "d40746fc",
   "metadata": {},
   "outputs": [],
   "source": [
    "watts = workout_data['watts']"
   ]
  },
  {
   "cell_type": "code",
   "execution_count": 130,
   "id": "5096efac",
   "metadata": {},
   "outputs": [
    {
     "data": {
      "text/plain": [
       "array([280, 248, 245, ...,   0,   0,   0])"
      ]
     },
     "execution_count": 130,
     "metadata": {},
     "output_type": "execute_result"
    }
   ],
   "source": [
    "watts"
   ]
  },
  {
   "cell_type": "code",
   "execution_count": 131,
   "id": "1501760c",
   "metadata": {
    "scrolled": true
   },
   "outputs": [
    {
     "name": "stdout",
     "output_type": "stream",
     "text": [
      "4676\n"
     ]
    },
    {
     "data": {
      "text/plain": [
       "array([280.        , 268.64838868, 257.4518006 , ...,   0.        ,\n",
       "         0.        ,   0.        ])"
      ]
     },
     "execution_count": 131,
     "metadata": {},
     "output_type": "execute_result"
    }
   ],
   "source": [
    "watts_smoothed = smooth(watts, window_len=20)\n",
    "print(len(watts_smoothed))\n",
    "watts_smoothed"
   ]
  },
  {
   "cell_type": "markdown",
   "id": "beb72b24",
   "metadata": {},
   "source": [
    "##  Convert workout x-axis time values to minutes"
   ]
  },
  {
   "cell_type": "code",
   "execution_count": 132,
   "id": "d5e7078b",
   "metadata": {},
   "outputs": [
    {
     "data": {
      "text/plain": [
       "60.0"
      ]
     },
     "execution_count": 132,
     "metadata": {},
     "output_type": "execute_result"
    }
   ],
   "source": [
    "# converting recording data into minutes  \n",
    "# freq represents how many rows of data are contained in 1 minute of workout time\n",
    "# For example, if data is recorded every 5 seconds, then there will be 12 rows of data \n",
    "# per every one minute of workout time\n",
    "\n",
    "freq = 60 / rec_freq\n",
    "freq\n"
   ]
  },
  {
   "cell_type": "code",
   "execution_count": 133,
   "id": "9b40956c",
   "metadata": {
    "scrolled": true
   },
   "outputs": [
    {
     "name": "stdout",
     "output_type": "stream",
     "text": [
      "[0.00000000e+00 1.66666667e-02 3.33333333e-02 ... 7.78833333e+01\n",
      " 7.79000000e+01 7.79166667e+01]\n"
     ]
    }
   ],
   "source": [
    "minutes = workout_data['time_unit']/freq\n",
    "print(minutes)"
   ]
  },
  {
   "cell_type": "markdown",
   "id": "3e78411b",
   "metadata": {},
   "source": [
    "## Find maximum power value and time stamp"
   ]
  },
  {
   "cell_type": "code",
   "execution_count": 134,
   "id": "05e27aa6",
   "metadata": {},
   "outputs": [
    {
     "data": {
      "text/plain": [
       "294"
      ]
     },
     "execution_count": 134,
     "metadata": {},
     "output_type": "execute_result"
    }
   ],
   "source": [
    "max_watts = max(watts)\n",
    "max_watts"
   ]
  },
  {
   "cell_type": "code",
   "execution_count": 135,
   "id": "f682897e",
   "metadata": {},
   "outputs": [
    {
     "data": {
      "text/plain": [
       "308.7"
      ]
     },
     "execution_count": 135,
     "metadata": {},
     "output_type": "execute_result"
    }
   ],
   "source": [
    "y_top = max(watts)*1.05\n",
    "y_top"
   ]
  },
  {
   "cell_type": "code",
   "execution_count": 136,
   "id": "2818df89",
   "metadata": {},
   "outputs": [],
   "source": [
    "max_pwr_idx = np.argmax(workout_data['watts'])"
   ]
  },
  {
   "cell_type": "code",
   "execution_count": 137,
   "id": "1046ca27",
   "metadata": {
    "scrolled": true
   },
   "outputs": [
    {
     "data": {
      "text/plain": [
       "2134"
      ]
     },
     "execution_count": 137,
     "metadata": {},
     "output_type": "execute_result"
    }
   ],
   "source": [
    "max_pwr_idx"
   ]
  },
  {
   "cell_type": "code",
   "execution_count": 138,
   "id": "4140f03f",
   "metadata": {},
   "outputs": [
    {
     "data": {
      "text/plain": [
       "35.56666666666667"
      ]
     },
     "execution_count": 138,
     "metadata": {},
     "output_type": "execute_result"
    }
   ],
   "source": [
    "max_pwr_timestamp = minutes[max_pwr_idx]\n",
    "max_pwr_timestamp"
   ]
  },
  {
   "cell_type": "markdown",
   "id": "f0e75cdb",
   "metadata": {},
   "source": [
    "## Find maximum heart rate value and time stamp"
   ]
  },
  {
   "cell_type": "code",
   "execution_count": 139,
   "id": "f0cd0f99",
   "metadata": {},
   "outputs": [
    {
     "data": {
      "text/plain": [
       "array([165, 166, 167, ..., 142, 141, 141])"
      ]
     },
     "execution_count": 139,
     "metadata": {},
     "output_type": "execute_result"
    }
   ],
   "source": [
    "hr = workout_data['heart_rate']\n",
    "hr"
   ]
  },
  {
   "cell_type": "code",
   "execution_count": 140,
   "id": "e515cdcc",
   "metadata": {},
   "outputs": [
    {
     "data": {
      "text/plain": [
       "175"
      ]
     },
     "execution_count": 140,
     "metadata": {},
     "output_type": "execute_result"
    }
   ],
   "source": [
    "max_hr = max(hr)\n",
    "max_hr"
   ]
  },
  {
   "cell_type": "code",
   "execution_count": 141,
   "id": "5e8ab5a8",
   "metadata": {},
   "outputs": [
    {
     "data": {
      "text/plain": [
       "110"
      ]
     },
     "execution_count": 141,
     "metadata": {},
     "output_type": "execute_result"
    }
   ],
   "source": [
    "max_hr_idx = np.argmax(workout_data['heart_rate'])\n",
    "max_hr_idx"
   ]
  },
  {
   "cell_type": "code",
   "execution_count": 142,
   "id": "af8787af",
   "metadata": {},
   "outputs": [
    {
     "data": {
      "text/plain": [
       "1.8333333333333333"
      ]
     },
     "execution_count": 142,
     "metadata": {},
     "output_type": "execute_result"
    }
   ],
   "source": [
    "max_hr_timestamp = minutes[max_hr_idx]\n",
    "max_hr_timestamp"
   ]
  },
  {
   "cell_type": "markdown",
   "id": "a46d574f",
   "metadata": {},
   "source": [
    "## Plot data"
   ]
  },
  {
   "cell_type": "code",
   "execution_count": 144,
   "id": "5632baca",
   "metadata": {
    "scrolled": false
   },
   "outputs": [
    {
     "data": {
      "image/png": "[encoded data removed]",
      "text/plain": [
       "<Figure size 1296x576 with 2 Axes>"
      ]
     },
     "metadata": {
      "needs_background": "light"
     },
     "output_type": "display_data"
    }
   ],
   "source": [
    "if ftp != None:\n",
    "    figsize = (18, 8)    \n",
    "    img, ax1 = plt.subplots(figsize=figsize)\n",
    "    ax1.set_facecolor(color='#252525')\n",
    "    ax1.set_xlabel(\"Time in Minutes\", fontsize='large')\n",
    "    ax1.set_ylabel(\"Watts\", fontsize='large')\n",
    "    ax1.tick_params(labelsize='large')\n",
    "\n",
    "    # This expands the top of the graph to 20% beyond max watts\n",
    "    ax1.set_ylim(top=max(watts)*1.20)\n",
    "\n",
    "    # logic for color under the graph based on % of FTP (thanks to Jonas Häggqvist for this code)\n",
    "    ax1.grid(which='major', axis='y', alpha=0.1, linewidth=1)\n",
    "    plt.fill_between(minutes, watts_smoothed, where=watts_smoothed > 0.00*ftp, color='#646464')\n",
    "    plt.fill_between(minutes, watts_smoothed, where=watts_smoothed > 0.60*ftp, color='#328bff')\n",
    "    plt.fill_between(minutes, watts_smoothed, where=watts_smoothed > 0.75*ftp, color='#59bf59')\n",
    "    plt.fill_between(minutes, watts_smoothed, where=watts_smoothed > 0.90*ftp, color='#ffcc3f')\n",
    "    plt.fill_between(minutes, watts_smoothed, where=watts_smoothed > 1.05*ftp, color='#ff663a')\n",
    "    plt.fill_between(minutes, watts_smoothed, where=watts_smoothed > 1.18*ftp, color='#ff340c')\n",
    "\n",
    "    # Setting workout date annotation (thanks to Phil Daws for the code that helped me get started)\n",
    "    # Note:  xy for the purposes of workout date label is set using 'data' for coordinates \n",
    "    xmin, xmax = ax1.get_xlim()\n",
    "    ymin, ymax = ax1.get_ylim()\n",
    "    xy = [xmax-(xmax*0.05), ymax-(ymax*0.05)]\n",
    "    \n",
    "    # Adding the workout date to the graph\n",
    "    workout_date = Annotation(f'Workout date: {date_str}', xy=[xmax//2, ymax-(ymax*0.08)], \n",
    "                              ha='center', color='white', fontweight='bold', fontsize='large')\n",
    "    ax1.add_artist(workout_date)\n",
    "    \n",
    "    # Plot smoothed power, line color, and thickness\n",
    "    plt.plot(minutes, watts_smoothed, color='white', linewidth=1.0)\n",
    "    \n",
    "    # Annotate max power \n",
    "#     max_power = Annotation(f'Max Power: {max_watts}', , \n",
    "#                               ha='center', color='white', fontweight='bold', fontsize='large')\n",
    "#     ax1.add_artist(max_power)\n",
    "    \n",
    "    # Instantiate second y axis for heart rate graph\n",
    "    ax2 = ax1.twinx()\n",
    "    ax2.set_ylabel(\"Heart Rate\", fontsize='large')    \n",
    "    ax2.set_ylim(top=max(hr)*1.30)\n",
    "    \n",
    "    # Plot heart rate\n",
    "    ax2.plot(minutes, hr, color='red', linewidth=0.75)\n",
    "    \n",
    "    # Annotate max heart rate\n",
    "    # max_hr_annt = Annotation(f'Max Heart Rate: {max_hr}', , \n",
    "#                               ha='center', color='white', fontweight='bold', fontsize='large')\n",
    "#     ax2.add_artist(max_hr_annt)\n",
    "    \n",
    "    plt.show()\n",
    "\n",
    "else:\n",
    "    print(f\"\\nThe graph cannot be drawn; no valid FTP was provided.\")\n",
    "    print(f\"If you wish to try again, please have your FTP value ready and then reload this page.\")\n"
   ]
  },
  {
   "cell_type": "code",
   "execution_count": null,
   "id": "29aa3ef0",
   "metadata": {},
   "outputs": [],
   "source": []
  }
 ],
 "metadata": {
  "kernelspec": {
   "display_name": "Python 3 (ipykernel)",
   "language": "python",
   "name": "python3"
  },
  "language_info": {
   "codemirror_mode": {
    "name": "ipython",
    "version": 3
   },
   "file_extension": ".py",
   "mimetype": "text/x-python",
   "name": "python",
   "nbconvert_exporter": "python",
   "pygments_lexer": "ipython3",
   "version": "3.9.5"
  },
  "toc": {
   "base_numbering": 1,
   "nav_menu": {},
   "number_sections": true,
   "sideBar": true,
   "skip_h1_title": true,
   "title_cell": "Table of Contents",
   "title_sidebar": "Contents",
   "toc_cell": false,
   "toc_position": {
    "height": "calc(100% - 180px)",
    "left": "10px",
    "top": "150px",
    "width": "165px"
   },
   "toc_section_display": true,
   "toc_window_display": true
  }
 },
 "nbformat": 4,
 "nbformat_minor": 5
}
