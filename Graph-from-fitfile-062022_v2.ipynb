{
 "cells": [
  {
   "cell_type": "markdown",
   "id": "80909fc8",
   "metadata": {},
   "source": [
    "# Recreating Zwift ride powerplot"
   ]
  },
  {
   "cell_type": "markdown",
   "id": "b9b1655d",
   "metadata": {},
   "source": [
    "## Import .fit file and convert to pandas dataframe"
   ]
  },
  {
   "cell_type": "code",
   "execution_count": 1,
   "id": "ccc516cb",
   "metadata": {},
   "outputs": [],
   "source": [
    "import os\n",
    "import datetime\n",
    "from fitparse import FitFile    # https://github.com/dtcooper/python-fitparse\n",
    "import pandas as pd\n",
    "import numpy as np\n",
    "import streamlit as st\n",
    "import matplotlib.pyplot as plt\n",
    "from tqdm import tqdm\n",
    "from smooth import smooth\n",
    "from matplotlib.offsetbox import (TextArea, DrawingArea, OffsetImage,\n",
    "                                  AnnotationBbox, AnchoredText, AnchoredOffsetbox)\n",
    "from matplotlib.text import Annotation\n"
   ]
  },
  {
   "cell_type": "markdown",
   "id": "ef9f129e",
   "metadata": {},
   "source": [
    "## Title of Streamlit app"
   ]
  },
  {
   "cell_type": "code",
   "execution_count": 2,
   "id": "14d8a2e4",
   "metadata": {},
   "outputs": [
    {
     "name": "stderr",
     "output_type": "stream",
     "text": [
      "2022-06-22 22:00:14.390 \n",
      "  \u001b[33m\u001b[1mWarning:\u001b[0m to view this Streamlit app on a browser, run it with the following\n",
      "  command:\n",
      "\n",
      "    streamlit run /Users/ginadurante/miniforge3/envs/py39/lib/python3.9/site-packages/ipykernel_launcher.py [ARGUMENTS]\n"
     ]
    },
    {
     "data": {
      "text/plain": [
       "DeltaGenerator(_root_container=0, _provided_cursor=None, _parent=None, _block_type=None, _form_data=None)"
      ]
     },
     "execution_count": 2,
     "metadata": {},
     "output_type": "execute_result"
    }
   ],
   "source": [
    "st.title('Workout Graph in Zwift Style')"
   ]
  },
  {
   "cell_type": "markdown",
   "id": "ea163459",
   "metadata": {},
   "source": [
    "##  Obtain FTP value from user to determine workout zones in graph"
   ]
  },
  {
   "cell_type": "code",
   "execution_count": 3,
   "id": "2e8ac9dc",
   "metadata": {
    "scrolled": true
   },
   "outputs": [
    {
     "name": "stdout",
     "output_type": "stream",
     "text": [
      "Enter FTP in watts (whole numbers only):  230\n",
      "\n",
      "Your FTP has been recorded as 230 watts.\n"
     ]
    }
   ],
   "source": [
    "# set up try / except loop:\n",
    "n = 0\n",
    "while n < 3: \n",
    "    try:\n",
    "        ftp = int(input(\"Enter FTP in watts (whole numbers only):  \"))\n",
    "        print(f\"\\nYour FTP has been recorded as {ftp} watts.\")\n",
    "        break\n",
    "    except ValueError:\n",
    "        n += 1\n",
    "        print(\"\\nYour FTP value cannot contain letters, be left blank, or be entered as a decimal value. \\n\")\n"
   ]
  },
  {
   "cell_type": "markdown",
   "id": "1a7cc0b0",
   "metadata": {},
   "source": [
    "## Have user enter file name / upload file"
   ]
  },
  {
   "cell_type": "markdown",
   "id": "1dba4956",
   "metadata": {},
   "source": [
    "The code for importing .fit files and converting to a pandas dataframe is from http://johannesjacob.com/analyze-your-cycling-data-python/.\n",
    "To install the python packages, type 'pip install pandas numpy fitparse matplotlib tqdm' on the command line.\n"
   ]
  },
  {
   "cell_type": "code",
   "execution_count": 5,
   "id": "71a85da9",
   "metadata": {},
   "outputs": [
    {
     "name": "stdout",
     "output_type": "stream",
     "text": [
      "Type filename, including .fit extension:  2022-06-14-030655-ELEMNT_ROAM_7FE2-14-0.fit\n"
     ]
    }
   ],
   "source": [
    "filename = input(\"Type filename, including .fit extension:  \")\n",
    "# 2021-10-05-10-54-32.fit\n",
    "\n",
    "fitfile = FitFile(filename)"
   ]
  },
  {
   "cell_type": "markdown",
   "id": "c35f2ad9",
   "metadata": {},
   "source": [
    "#### From Johannes Jacob's blog post (http://johannesjacob.com/2019/03/13/analyze-your-cycling-data-python/):  \n",
    "_\"Now we are ready to import the workout file and transform the data into a \n",
    "pandas dataframe. Unfortunately we have to use an ugly hack with this \"while\" \n",
    "loop to avoid timing issues. Then we are looping through the file, append \n",
    "the records to a list and convert the list to a pandas dataframe.\"_"
   ]
  },
  {
   "cell_type": "code",
   "execution_count": 6,
   "id": "6d97a83e",
   "metadata": {},
   "outputs": [],
   "source": [
    "def parse_fitfile(uploaded_file):\n",
    "    fitfile = FitFile(uploaded_file)\n",
    "    while True:\n",
    "        try:\n",
    "            fitfile.messages\n",
    "            break\n",
    "        except KeyError:\n",
    "            continue\n",
    "    workout = []\n",
    "    for record in fitfile.get_messages('record'):\n",
    "        r = {}\n",
    "        for record_data in record:\n",
    "            r[record_data.name] = record_data.value\n",
    "        workout.append(r)\n",
    "    df = pd.DataFrame(workout)\n",
    "    \n",
    "    return df"
   ]
  },
  {
   "cell_type": "code",
   "execution_count": 7,
   "id": "73477ec7",
   "metadata": {},
   "outputs": [],
   "source": [
    "df = parse_fitfile(filename)"
   ]
  },
  {
   "cell_type": "code",
   "execution_count": 8,
   "id": "0793d869",
   "metadata": {
    "scrolled": true
   },
   "outputs": [
    {
     "data": {
      "text/html": [
       "<div>\n",
       "<style scoped>\n",
       "    .dataframe tbody tr th:only-of-type {\n",
       "        vertical-align: middle;\n",
       "    }\n",
       "\n",
       "    .dataframe tbody tr th {\n",
       "        vertical-align: top;\n",
       "    }\n",
       "\n",
       "    .dataframe thead th {\n",
       "        text-align: right;\n",
       "    }\n",
       "</style>\n",
       "<table border=\"1\" class=\"dataframe\">\n",
       "  <thead>\n",
       "    <tr style=\"text-align: right;\">\n",
       "      <th></th>\n",
       "      <th>cadence</th>\n",
       "      <th>calories</th>\n",
       "      <th>heart_rate</th>\n",
       "      <th>power</th>\n",
       "      <th>timestamp</th>\n",
       "      <th>battery_soc</th>\n",
       "      <th>left_right_balance</th>\n",
       "      <th>temperature</th>\n",
       "    </tr>\n",
       "  </thead>\n",
       "  <tbody>\n",
       "    <tr>\n",
       "      <th>0</th>\n",
       "      <td>38</td>\n",
       "      <td>0</td>\n",
       "      <td>80</td>\n",
       "      <td>0</td>\n",
       "      <td>2022-06-14 03:06:55</td>\n",
       "      <td>NaN</td>\n",
       "      <td>NaN</td>\n",
       "      <td>NaN</td>\n",
       "    </tr>\n",
       "    <tr>\n",
       "      <th>1</th>\n",
       "      <td>33</td>\n",
       "      <td>0</td>\n",
       "      <td>80</td>\n",
       "      <td>1</td>\n",
       "      <td>2022-06-14 03:06:56</td>\n",
       "      <td>100.0</td>\n",
       "      <td>NaN</td>\n",
       "      <td>NaN</td>\n",
       "    </tr>\n",
       "    <tr>\n",
       "      <th>2</th>\n",
       "      <td>36</td>\n",
       "      <td>0</td>\n",
       "      <td>81</td>\n",
       "      <td>6</td>\n",
       "      <td>2022-06-14 03:06:57</td>\n",
       "      <td>NaN</td>\n",
       "      <td>0.0</td>\n",
       "      <td>NaN</td>\n",
       "    </tr>\n",
       "    <tr>\n",
       "      <th>3</th>\n",
       "      <td>41</td>\n",
       "      <td>0</td>\n",
       "      <td>81</td>\n",
       "      <td>13</td>\n",
       "      <td>2022-06-14 03:06:58</td>\n",
       "      <td>NaN</td>\n",
       "      <td>8.0</td>\n",
       "      <td>NaN</td>\n",
       "    </tr>\n",
       "    <tr>\n",
       "      <th>4</th>\n",
       "      <td>42</td>\n",
       "      <td>0</td>\n",
       "      <td>82</td>\n",
       "      <td>22</td>\n",
       "      <td>2022-06-14 03:06:59</td>\n",
       "      <td>NaN</td>\n",
       "      <td>15.0</td>\n",
       "      <td>25.0</td>\n",
       "    </tr>\n",
       "    <tr>\n",
       "      <th>...</th>\n",
       "      <td>...</td>\n",
       "      <td>...</td>\n",
       "      <td>...</td>\n",
       "      <td>...</td>\n",
       "      <td>...</td>\n",
       "      <td>...</td>\n",
       "      <td>...</td>\n",
       "      <td>...</td>\n",
       "    </tr>\n",
       "    <tr>\n",
       "      <th>3699</th>\n",
       "      <td>0</td>\n",
       "      <td>504</td>\n",
       "      <td>111</td>\n",
       "      <td>0</td>\n",
       "      <td>2022-06-14 04:08:34</td>\n",
       "      <td>NaN</td>\n",
       "      <td>NaN</td>\n",
       "      <td>24.0</td>\n",
       "    </tr>\n",
       "    <tr>\n",
       "      <th>3700</th>\n",
       "      <td>0</td>\n",
       "      <td>504</td>\n",
       "      <td>111</td>\n",
       "      <td>0</td>\n",
       "      <td>2022-06-14 04:08:35</td>\n",
       "      <td>NaN</td>\n",
       "      <td>NaN</td>\n",
       "      <td>24.0</td>\n",
       "    </tr>\n",
       "    <tr>\n",
       "      <th>3701</th>\n",
       "      <td>0</td>\n",
       "      <td>504</td>\n",
       "      <td>110</td>\n",
       "      <td>0</td>\n",
       "      <td>2022-06-14 04:08:36</td>\n",
       "      <td>NaN</td>\n",
       "      <td>NaN</td>\n",
       "      <td>24.0</td>\n",
       "    </tr>\n",
       "    <tr>\n",
       "      <th>3702</th>\n",
       "      <td>0</td>\n",
       "      <td>504</td>\n",
       "      <td>109</td>\n",
       "      <td>0</td>\n",
       "      <td>2022-06-14 04:08:37</td>\n",
       "      <td>NaN</td>\n",
       "      <td>NaN</td>\n",
       "      <td>24.0</td>\n",
       "    </tr>\n",
       "    <tr>\n",
       "      <th>3703</th>\n",
       "      <td>0</td>\n",
       "      <td>504</td>\n",
       "      <td>107</td>\n",
       "      <td>0</td>\n",
       "      <td>2022-06-14 04:08:38</td>\n",
       "      <td>NaN</td>\n",
       "      <td>NaN</td>\n",
       "      <td>NaN</td>\n",
       "    </tr>\n",
       "  </tbody>\n",
       "</table>\n",
       "<p>3704 rows × 8 columns</p>\n",
       "</div>"
      ],
      "text/plain": [
       "      cadence  calories  heart_rate  power           timestamp  battery_soc  \\\n",
       "0          38         0          80      0 2022-06-14 03:06:55          NaN   \n",
       "1          33         0          80      1 2022-06-14 03:06:56        100.0   \n",
       "2          36         0          81      6 2022-06-14 03:06:57          NaN   \n",
       "3          41         0          81     13 2022-06-14 03:06:58          NaN   \n",
       "4          42         0          82     22 2022-06-14 03:06:59          NaN   \n",
       "...       ...       ...         ...    ...                 ...          ...   \n",
       "3699        0       504         111      0 2022-06-14 04:08:34          NaN   \n",
       "3700        0       504         111      0 2022-06-14 04:08:35          NaN   \n",
       "3701        0       504         110      0 2022-06-14 04:08:36          NaN   \n",
       "3702        0       504         109      0 2022-06-14 04:08:37          NaN   \n",
       "3703        0       504         107      0 2022-06-14 04:08:38          NaN   \n",
       "\n",
       "      left_right_balance  temperature  \n",
       "0                    NaN          NaN  \n",
       "1                    NaN          NaN  \n",
       "2                    0.0          NaN  \n",
       "3                    8.0          NaN  \n",
       "4                   15.0         25.0  \n",
       "...                  ...          ...  \n",
       "3699                 NaN         24.0  \n",
       "3700                 NaN         24.0  \n",
       "3701                 NaN         24.0  \n",
       "3702                 NaN         24.0  \n",
       "3703                 NaN          NaN  \n",
       "\n",
       "[3704 rows x 8 columns]"
      ]
     },
     "execution_count": 8,
     "metadata": {},
     "output_type": "execute_result"
    }
   ],
   "source": [
    "df"
   ]
  },
  {
   "cell_type": "markdown",
   "id": "8fb899ed",
   "metadata": {},
   "source": [
    "##  Remove unnecessary columns and remove null values"
   ]
  },
  {
   "cell_type": "code",
   "execution_count": 13,
   "id": "fa1b30bf",
   "metadata": {},
   "outputs": [],
   "source": [
    "def df_clean_trim(df):\n",
    "    #Drop unnecessary columns\n",
    "    df_cleaned = df[['heart_rate', 'power', 'timestamp']].copy()\n",
    "    # Insert a column 'data_points' to enable selection of max hr and watts by index\n",
    "    df_cleaned.insert(loc=0, column='data_points', value=np.arange(len(df)))\n",
    "    df_cleaned.rename(columns = {'power':'watts'}, inplace = True)\n",
    "    df_cleaned['watts'].fillna(0, inplace=True)\n",
    "    df_cleaned['heart_rate'].fillna(0, inplace=True)\n",
    "\n",
    "    return df_cleaned"
   ]
  },
  {
   "cell_type": "code",
   "execution_count": 14,
   "id": "ee5ceef8",
   "metadata": {},
   "outputs": [
    {
     "data": {
      "text/html": [
       "<div>\n",
       "<style scoped>\n",
       "    .dataframe tbody tr th:only-of-type {\n",
       "        vertical-align: middle;\n",
       "    }\n",
       "\n",
       "    .dataframe tbody tr th {\n",
       "        vertical-align: top;\n",
       "    }\n",
       "\n",
       "    .dataframe thead th {\n",
       "        text-align: right;\n",
       "    }\n",
       "</style>\n",
       "<table border=\"1\" class=\"dataframe\">\n",
       "  <thead>\n",
       "    <tr style=\"text-align: right;\">\n",
       "      <th></th>\n",
       "      <th>data_points</th>\n",
       "      <th>heart_rate</th>\n",
       "      <th>watts</th>\n",
       "      <th>timestamp</th>\n",
       "    </tr>\n",
       "  </thead>\n",
       "  <tbody>\n",
       "    <tr>\n",
       "      <th>0</th>\n",
       "      <td>0</td>\n",
       "      <td>80</td>\n",
       "      <td>0</td>\n",
       "      <td>2022-06-14 03:06:55</td>\n",
       "    </tr>\n",
       "    <tr>\n",
       "      <th>1</th>\n",
       "      <td>1</td>\n",
       "      <td>80</td>\n",
       "      <td>1</td>\n",
       "      <td>2022-06-14 03:06:56</td>\n",
       "    </tr>\n",
       "    <tr>\n",
       "      <th>2</th>\n",
       "      <td>2</td>\n",
       "      <td>81</td>\n",
       "      <td>6</td>\n",
       "      <td>2022-06-14 03:06:57</td>\n",
       "    </tr>\n",
       "    <tr>\n",
       "      <th>3</th>\n",
       "      <td>3</td>\n",
       "      <td>81</td>\n",
       "      <td>13</td>\n",
       "      <td>2022-06-14 03:06:58</td>\n",
       "    </tr>\n",
       "    <tr>\n",
       "      <th>4</th>\n",
       "      <td>4</td>\n",
       "      <td>82</td>\n",
       "      <td>22</td>\n",
       "      <td>2022-06-14 03:06:59</td>\n",
       "    </tr>\n",
       "    <tr>\n",
       "      <th>...</th>\n",
       "      <td>...</td>\n",
       "      <td>...</td>\n",
       "      <td>...</td>\n",
       "      <td>...</td>\n",
       "    </tr>\n",
       "    <tr>\n",
       "      <th>3699</th>\n",
       "      <td>3699</td>\n",
       "      <td>111</td>\n",
       "      <td>0</td>\n",
       "      <td>2022-06-14 04:08:34</td>\n",
       "    </tr>\n",
       "    <tr>\n",
       "      <th>3700</th>\n",
       "      <td>3700</td>\n",
       "      <td>111</td>\n",
       "      <td>0</td>\n",
       "      <td>2022-06-14 04:08:35</td>\n",
       "    </tr>\n",
       "    <tr>\n",
       "      <th>3701</th>\n",
       "      <td>3701</td>\n",
       "      <td>110</td>\n",
       "      <td>0</td>\n",
       "      <td>2022-06-14 04:08:36</td>\n",
       "    </tr>\n",
       "    <tr>\n",
       "      <th>3702</th>\n",
       "      <td>3702</td>\n",
       "      <td>109</td>\n",
       "      <td>0</td>\n",
       "      <td>2022-06-14 04:08:37</td>\n",
       "    </tr>\n",
       "    <tr>\n",
       "      <th>3703</th>\n",
       "      <td>3703</td>\n",
       "      <td>107</td>\n",
       "      <td>0</td>\n",
       "      <td>2022-06-14 04:08:38</td>\n",
       "    </tr>\n",
       "  </tbody>\n",
       "</table>\n",
       "<p>3704 rows × 4 columns</p>\n",
       "</div>"
      ],
      "text/plain": [
       "      data_points  heart_rate  watts           timestamp\n",
       "0               0          80      0 2022-06-14 03:06:55\n",
       "1               1          80      1 2022-06-14 03:06:56\n",
       "2               2          81      6 2022-06-14 03:06:57\n",
       "3               3          81     13 2022-06-14 03:06:58\n",
       "4               4          82     22 2022-06-14 03:06:59\n",
       "...           ...         ...    ...                 ...\n",
       "3699         3699         111      0 2022-06-14 04:08:34\n",
       "3700         3700         111      0 2022-06-14 04:08:35\n",
       "3701         3701         110      0 2022-06-14 04:08:36\n",
       "3702         3702         109      0 2022-06-14 04:08:37\n",
       "3703         3703         107      0 2022-06-14 04:08:38\n",
       "\n",
       "[3704 rows x 4 columns]"
      ]
     },
     "execution_count": 14,
     "metadata": {},
     "output_type": "execute_result"
    }
   ],
   "source": [
    "df_cleaned = df_clean_trim(df)\n",
    "df_cleaned"
   ]
  },
  {
   "cell_type": "markdown",
   "id": "a00ea909",
   "metadata": {},
   "source": [
    "## Get date of workout and length of workout in seconds/minutes "
   ]
  },
  {
   "cell_type": "code",
   "execution_count": 15,
   "id": "1b18dc1c",
   "metadata": {},
   "outputs": [],
   "source": [
    "def workout_date_time_freq(df):\n",
    "    # Get date\n",
    "    df1 = df.copy()\n",
    "    timestamp = df1['timestamp'][:1]\n",
    "    date = np.datetime_as_string(timestamp, unit='D')\n",
    "    date_str = str(date)\n",
    "    date_str = date_str.strip(\"[\")\n",
    "    date_str = date_str.strip(\"]\")\n",
    "    date_str = date_str.strip(\"'\")\n",
    "    \n",
    "    # Get workout length in minutes\n",
    "    num_datapoints = int(len(df1['timestamp']))\n",
    "    workout_timelength = df1['timestamp'][num_datapoints-1] - df1['timestamp'][0]\n",
    "    workout_seconds = int(workout_timelength.total_seconds())\n",
    "    workout_minutes = workout_seconds/60\n",
    "\n",
    "    # Compute frequency of data recording from number of seconds in workout divided by the number of data points\n",
    "    rec_freq = round(workout_seconds/num_datapoints)\n",
    "    freq = 60 / rec_freq\n",
    "\n",
    "    return date_str, num_datapoints, workout_minutes, rec_freq, freq\n"
   ]
  },
  {
   "cell_type": "code",
   "execution_count": 16,
   "id": "a409ab29",
   "metadata": {},
   "outputs": [],
   "source": [
    "date_str, num_datapoints, workout_minutes, rec_freq, freq = workout_date_time_freq(df_cleaned)"
   ]
  },
  {
   "cell_type": "code",
   "execution_count": 17,
   "id": "41f55263",
   "metadata": {},
   "outputs": [
    {
     "data": {
      "text/plain": [
       "('2022-06-14', 3704, 61.71666666666667, 1, 60.0)"
      ]
     },
     "execution_count": 17,
     "metadata": {},
     "output_type": "execute_result"
    }
   ],
   "source": [
    "date_str, num_datapoints, workout_minutes, rec_freq, freq"
   ]
  },
  {
   "cell_type": "code",
   "execution_count": 18,
   "id": "133f08b6",
   "metadata": {},
   "outputs": [
    {
     "data": {
      "text/html": [
       "<div>\n",
       "<style scoped>\n",
       "    .dataframe tbody tr th:only-of-type {\n",
       "        vertical-align: middle;\n",
       "    }\n",
       "\n",
       "    .dataframe tbody tr th {\n",
       "        vertical-align: top;\n",
       "    }\n",
       "\n",
       "    .dataframe thead th {\n",
       "        text-align: right;\n",
       "    }\n",
       "</style>\n",
       "<table border=\"1\" class=\"dataframe\">\n",
       "  <thead>\n",
       "    <tr style=\"text-align: right;\">\n",
       "      <th></th>\n",
       "      <th>data_points</th>\n",
       "      <th>heart_rate</th>\n",
       "      <th>watts</th>\n",
       "      <th>timestamp</th>\n",
       "    </tr>\n",
       "  </thead>\n",
       "  <tbody>\n",
       "    <tr>\n",
       "      <th>0</th>\n",
       "      <td>0</td>\n",
       "      <td>80</td>\n",
       "      <td>0</td>\n",
       "      <td>2022-06-14 03:06:55</td>\n",
       "    </tr>\n",
       "    <tr>\n",
       "      <th>1</th>\n",
       "      <td>1</td>\n",
       "      <td>80</td>\n",
       "      <td>1</td>\n",
       "      <td>2022-06-14 03:06:56</td>\n",
       "    </tr>\n",
       "    <tr>\n",
       "      <th>2</th>\n",
       "      <td>2</td>\n",
       "      <td>81</td>\n",
       "      <td>6</td>\n",
       "      <td>2022-06-14 03:06:57</td>\n",
       "    </tr>\n",
       "    <tr>\n",
       "      <th>3</th>\n",
       "      <td>3</td>\n",
       "      <td>81</td>\n",
       "      <td>13</td>\n",
       "      <td>2022-06-14 03:06:58</td>\n",
       "    </tr>\n",
       "    <tr>\n",
       "      <th>4</th>\n",
       "      <td>4</td>\n",
       "      <td>82</td>\n",
       "      <td>22</td>\n",
       "      <td>2022-06-14 03:06:59</td>\n",
       "    </tr>\n",
       "    <tr>\n",
       "      <th>...</th>\n",
       "      <td>...</td>\n",
       "      <td>...</td>\n",
       "      <td>...</td>\n",
       "      <td>...</td>\n",
       "    </tr>\n",
       "    <tr>\n",
       "      <th>3699</th>\n",
       "      <td>3699</td>\n",
       "      <td>111</td>\n",
       "      <td>0</td>\n",
       "      <td>2022-06-14 04:08:34</td>\n",
       "    </tr>\n",
       "    <tr>\n",
       "      <th>3700</th>\n",
       "      <td>3700</td>\n",
       "      <td>111</td>\n",
       "      <td>0</td>\n",
       "      <td>2022-06-14 04:08:35</td>\n",
       "    </tr>\n",
       "    <tr>\n",
       "      <th>3701</th>\n",
       "      <td>3701</td>\n",
       "      <td>110</td>\n",
       "      <td>0</td>\n",
       "      <td>2022-06-14 04:08:36</td>\n",
       "    </tr>\n",
       "    <tr>\n",
       "      <th>3702</th>\n",
       "      <td>3702</td>\n",
       "      <td>109</td>\n",
       "      <td>0</td>\n",
       "      <td>2022-06-14 04:08:37</td>\n",
       "    </tr>\n",
       "    <tr>\n",
       "      <th>3703</th>\n",
       "      <td>3703</td>\n",
       "      <td>107</td>\n",
       "      <td>0</td>\n",
       "      <td>2022-06-14 04:08:38</td>\n",
       "    </tr>\n",
       "  </tbody>\n",
       "</table>\n",
       "<p>3704 rows × 4 columns</p>\n",
       "</div>"
      ],
      "text/plain": [
       "      data_points  heart_rate  watts           timestamp\n",
       "0               0          80      0 2022-06-14 03:06:55\n",
       "1               1          80      1 2022-06-14 03:06:56\n",
       "2               2          81      6 2022-06-14 03:06:57\n",
       "3               3          81     13 2022-06-14 03:06:58\n",
       "4               4          82     22 2022-06-14 03:06:59\n",
       "...           ...         ...    ...                 ...\n",
       "3699         3699         111      0 2022-06-14 04:08:34\n",
       "3700         3700         111      0 2022-06-14 04:08:35\n",
       "3701         3701         110      0 2022-06-14 04:08:36\n",
       "3702         3702         109      0 2022-06-14 04:08:37\n",
       "3703         3703         107      0 2022-06-14 04:08:38\n",
       "\n",
       "[3704 rows x 4 columns]"
      ]
     },
     "execution_count": 18,
     "metadata": {},
     "output_type": "execute_result"
    }
   ],
   "source": [
    "df_cleaned"
   ]
  },
  {
   "cell_type": "markdown",
   "id": "0e74af28",
   "metadata": {},
   "source": [
    "## Convert dataframe to NumPy array"
   ]
  },
  {
   "cell_type": "code",
   "execution_count": 19,
   "id": "449e7c17",
   "metadata": {},
   "outputs": [],
   "source": [
    "def convert_to_arr(df_cleaned):\n",
    "    workout_data = df_cleaned.to_records(index=False)\n",
    "    watts = workout_data['watts']\n",
    "    max_watts = max(watts)\n",
    "\n",
    "    # Find maximum power value and time stamp\n",
    "    minutes = workout_data['data_points']/freq\n",
    "    max_watts_idx = np.argmax(workout_data['watts'])\n",
    "    max_watts_timestamp = minutes[max_watts_idx]\n",
    "\n",
    "    # Find maximum heart rate value and time stamp\n",
    "    hr = workout_data['heart_rate']\n",
    "    max_hr = max(hr)\n",
    "    max_hr_idx = np.argmax(workout_data['heart_rate'])\n",
    "    max_hr_timestamp = minutes[max_hr_idx]\n",
    "\n",
    "    return watts, max_watts, minutes, max_pwr_timestamp, hr, max_hr, max_hr_timestamp\n"
   ]
  },
  {
   "cell_type": "code",
   "execution_count": 20,
   "id": "4cf6172f",
   "metadata": {},
   "outputs": [],
   "source": [
    "workout_data = df_cleaned.to_records(index=False)"
   ]
  },
  {
   "cell_type": "code",
   "execution_count": 21,
   "id": "1013c70c",
   "metadata": {
    "scrolled": true
   },
   "outputs": [
    {
     "data": {
      "text/plain": [
       "rec.array([(   0,  80, 0, '2022-06-14T03:06:55.000000000'),\n",
       "           (   1,  80, 1, '2022-06-14T03:06:56.000000000'),\n",
       "           (   2,  81, 6, '2022-06-14T03:06:57.000000000'), ...,\n",
       "           (3701, 110, 0, '2022-06-14T04:08:36.000000000'),\n",
       "           (3702, 109, 0, '2022-06-14T04:08:37.000000000'),\n",
       "           (3703, 107, 0, '2022-06-14T04:08:38.000000000')],\n",
       "          dtype=[('data_points', '<i8'), ('heart_rate', '<i8'), ('watts', '<i8'), ('timestamp', '<M8[ns]')])"
      ]
     },
     "execution_count": 21,
     "metadata": {},
     "output_type": "execute_result"
    }
   ],
   "source": [
    "workout_data"
   ]
  },
  {
   "cell_type": "code",
   "execution_count": 22,
   "id": "d40746fc",
   "metadata": {},
   "outputs": [],
   "source": [
    "watts = workout_data['watts']"
   ]
  },
  {
   "cell_type": "code",
   "execution_count": 23,
   "id": "5096efac",
   "metadata": {},
   "outputs": [
    {
     "data": {
      "text/plain": [
       "array([0, 1, 6, ..., 0, 0, 0])"
      ]
     },
     "execution_count": 23,
     "metadata": {},
     "output_type": "execute_result"
    }
   ],
   "source": [
    "watts"
   ]
  },
  {
   "cell_type": "code",
   "execution_count": 24,
   "id": "ba8263b4",
   "metadata": {
    "scrolled": true
   },
   "outputs": [
    {
     "data": {
      "text/plain": [
       "3704"
      ]
     },
     "execution_count": 24,
     "metadata": {},
     "output_type": "execute_result"
    }
   ],
   "source": [
    "len(watts)"
   ]
  },
  {
   "cell_type": "code",
   "execution_count": 25,
   "id": "97ad7456",
   "metadata": {},
   "outputs": [
    {
     "data": {
      "text/plain": [
       "1013"
      ]
     },
     "execution_count": 25,
     "metadata": {},
     "output_type": "execute_result"
    }
   ],
   "source": [
    "max_watts = int(max(watts))\n",
    "max_watts"
   ]
  },
  {
   "cell_type": "code",
   "execution_count": 26,
   "id": "f5512a72",
   "metadata": {},
   "outputs": [
    {
     "data": {
      "text/plain": [
       "2152"
      ]
     },
     "execution_count": 26,
     "metadata": {},
     "output_type": "execute_result"
    }
   ],
   "source": [
    "np.argmax(watts)"
   ]
  },
  {
   "cell_type": "markdown",
   "id": "756fa2ab",
   "metadata": {},
   "source": [
    "## Smooth power curve"
   ]
  },
  {
   "cell_type": "code",
   "execution_count": 27,
   "id": "1501760c",
   "metadata": {
    "scrolled": true
   },
   "outputs": [
    {
     "name": "stdout",
     "output_type": "stream",
     "text": [
      "3704\n"
     ]
    }
   ],
   "source": [
    "# using helper function 'smooth.py'\n",
    "\n",
    "watts_smoothed = smooth(watts, window_len=10)\n",
    "print(len(watts_smoothed))"
   ]
  },
  {
   "cell_type": "code",
   "execution_count": 28,
   "id": "26ada510",
   "metadata": {},
   "outputs": [
    {
     "data": {
      "text/plain": [
       "array([-1.66533454e-16,  2.73324482e+00,  6.39715427e+00, ...,\n",
       "        0.00000000e+00,  0.00000000e+00,  0.00000000e+00])"
      ]
     },
     "execution_count": 28,
     "metadata": {},
     "output_type": "execute_result"
    }
   ],
   "source": [
    "watts_smoothed"
   ]
  },
  {
   "cell_type": "code",
   "execution_count": 29,
   "id": "e16ee041",
   "metadata": {},
   "outputs": [
    {
     "data": {
      "text/plain": [
       "954.6323851805947"
      ]
     },
     "execution_count": 29,
     "metadata": {},
     "output_type": "execute_result"
    }
   ],
   "source": [
    "max(watts_smoothed)"
   ]
  },
  {
   "cell_type": "code",
   "execution_count": 30,
   "id": "15d0e412",
   "metadata": {},
   "outputs": [
    {
     "data": {
      "text/plain": [
       "149.19228355446307"
      ]
     },
     "execution_count": 30,
     "metadata": {},
     "output_type": "execute_result"
    }
   ],
   "source": [
    "watts_smoothed[2134]"
   ]
  },
  {
   "cell_type": "markdown",
   "id": "beb72b24",
   "metadata": {},
   "source": [
    "##  Convert workout x-axis time values to minutes"
   ]
  },
  {
   "cell_type": "code",
   "execution_count": 31,
   "id": "d5e7078b",
   "metadata": {},
   "outputs": [
    {
     "data": {
      "text/plain": [
       "60.0"
      ]
     },
     "execution_count": 31,
     "metadata": {},
     "output_type": "execute_result"
    }
   ],
   "source": [
    "# converting recording data into minutes  \n",
    "# freq represents how many rows of data are contained in 1 minute of workout time\n",
    "# For example, if data is recorded every 5 seconds, then there will be 12 rows of data \n",
    "# per every one minute of workout time\n",
    "\n",
    "freq = 60 / rec_freq\n",
    "freq\n"
   ]
  },
  {
   "cell_type": "code",
   "execution_count": 32,
   "id": "9b40956c",
   "metadata": {
    "scrolled": true
   },
   "outputs": [
    {
     "name": "stdout",
     "output_type": "stream",
     "text": [
      "[0.00000000e+00 1.66666667e-02 3.33333333e-02 ... 6.16833333e+01\n",
      " 6.17000000e+01 6.17166667e+01]\n"
     ]
    }
   ],
   "source": [
    "minutes = workout_data['data_points']/freq\n",
    "print(minutes)"
   ]
  },
  {
   "cell_type": "markdown",
   "id": "3e78411b",
   "metadata": {},
   "source": [
    "## Find maximum power value and time stamp"
   ]
  },
  {
   "cell_type": "code",
   "execution_count": 33,
   "id": "2818df89",
   "metadata": {},
   "outputs": [],
   "source": [
    "max_pwr_idx = np.argmax(workout_data['watts'])"
   ]
  },
  {
   "cell_type": "code",
   "execution_count": 34,
   "id": "1046ca27",
   "metadata": {
    "scrolled": true
   },
   "outputs": [
    {
     "data": {
      "text/plain": [
       "2152"
      ]
     },
     "execution_count": 34,
     "metadata": {},
     "output_type": "execute_result"
    }
   ],
   "source": [
    "max_pwr_idx"
   ]
  },
  {
   "cell_type": "code",
   "execution_count": 35,
   "id": "4140f03f",
   "metadata": {},
   "outputs": [
    {
     "data": {
      "text/plain": [
       "35.867"
      ]
     },
     "execution_count": 35,
     "metadata": {},
     "output_type": "execute_result"
    }
   ],
   "source": [
    "max_pwr_timestamp = round(minutes[max_pwr_idx], ndigits=3)\n",
    "max_pwr_timestamp"
   ]
  },
  {
   "cell_type": "code",
   "execution_count": 36,
   "id": "a835b8c2",
   "metadata": {},
   "outputs": [
    {
     "data": {
      "text/plain": [
       "(2152, 153, 1013, '2022-06-14T03:42:47.000000000')"
      ]
     },
     "execution_count": 36,
     "metadata": {},
     "output_type": "execute_result"
    }
   ],
   "source": [
    "workout_data[max_pwr_idx]"
   ]
  },
  {
   "cell_type": "markdown",
   "id": "f0e75cdb",
   "metadata": {},
   "source": [
    "## Find maximum heart rate value and time stamp"
   ]
  },
  {
   "cell_type": "code",
   "execution_count": 37,
   "id": "f0cd0f99",
   "metadata": {},
   "outputs": [
    {
     "data": {
      "text/plain": [
       "array([ 80,  80,  81, ..., 110, 109, 107])"
      ]
     },
     "execution_count": 37,
     "metadata": {},
     "output_type": "execute_result"
    }
   ],
   "source": [
    "hr = workout_data['heart_rate']\n",
    "hr"
   ]
  },
  {
   "cell_type": "code",
   "execution_count": 38,
   "id": "e515cdcc",
   "metadata": {},
   "outputs": [
    {
     "data": {
      "text/plain": [
       "195"
      ]
     },
     "execution_count": 38,
     "metadata": {},
     "output_type": "execute_result"
    }
   ],
   "source": [
    "max_hr = int(max(hr))\n",
    "max_hr"
   ]
  },
  {
   "cell_type": "code",
   "execution_count": 39,
   "id": "5e8ab5a8",
   "metadata": {},
   "outputs": [
    {
     "data": {
      "text/plain": [
       "2902"
      ]
     },
     "execution_count": 39,
     "metadata": {},
     "output_type": "execute_result"
    }
   ],
   "source": [
    "max_hr_idx = np.argmax(workout_data['heart_rate'])\n",
    "max_hr_idx"
   ]
  },
  {
   "cell_type": "code",
   "execution_count": 40,
   "id": "af8787af",
   "metadata": {},
   "outputs": [
    {
     "data": {
      "text/plain": [
       "48.36666666666667"
      ]
     },
     "execution_count": 40,
     "metadata": {},
     "output_type": "execute_result"
    }
   ],
   "source": [
    "max_hr_timestamp = minutes[max_hr_idx]\n",
    "max_hr_timestamp"
   ]
  },
  {
   "cell_type": "markdown",
   "id": "a46d574f",
   "metadata": {},
   "source": [
    "## Plot data"
   ]
  },
  {
   "cell_type": "code",
   "execution_count": 41,
   "id": "5632baca",
   "metadata": {
    "scrolled": false
   },
   "outputs": [
    {
     "data": {
      "image/png": "[encoded data removed]",
      "text/plain": [
       "<Figure size 2016x864 with 2 Axes>"
      ]
     },
     "metadata": {
      "needs_background": "light"
     },
     "output_type": "display_data"
    }
   ],
   "source": [
    "if ftp != None:\n",
    "    figsize = (28, 12)    \n",
    "    img, ax1 = plt.subplots(figsize=figsize)\n",
    "    ax1.set_facecolor(color='#252525')\n",
    "    ax1.set_xlabel(\"Minutes\", fontsize='xx-large')\n",
    "    ax1.set_ylabel(\"Watts\", fontsize='xx-large')\n",
    "    ax1.tick_params(labelsize='xx-large')\n",
    "\n",
    "    # This expands the top of the graph to 80% beyond max watts\n",
    "    ax1.set_ylim(top=max(watts)*1.80)\n",
    "\n",
    "    # logic for color under the graph based on % of FTP (thanks to Jonas Häggqvist for this code)\n",
    "    ax1.grid(which='major', axis='y', alpha=0.1, linewidth=1)\n",
    "    plt.fill_between(minutes, watts_smoothed, where=watts_smoothed > 0.00*ftp, color='#646464')\n",
    "    plt.fill_between(minutes, watts_smoothed, where=watts_smoothed > 0.60*ftp, color='#328bff')\n",
    "    plt.fill_between(minutes, watts_smoothed, where=watts_smoothed > 0.75*ftp, color='#59bf59')\n",
    "    plt.fill_between(minutes, watts_smoothed, where=watts_smoothed > 0.90*ftp, color='#ffcc3f')\n",
    "    plt.fill_between(minutes, watts_smoothed, where=watts_smoothed > 1.05*ftp, color='#ff663a')\n",
    "    plt.fill_between(minutes, watts_smoothed, where=watts_smoothed > 1.18*ftp, color='#ff340c')\n",
    "\n",
    "    # Setting workout date annotation (thanks to Phil Daws for the code that helped me get started)\n",
    "    # Note:  xy for the purposes of workout date label is set using 'data' for coordinates \n",
    "    xmin, xmax = ax1.get_xlim()\n",
    "    ymin, ymax = ax1.get_ylim()\n",
    "    xy = [xmax-(xmax*0.05), ymax-(ymax*0.05)]\n",
    "    \n",
    "    # Adding the workout date to the graph\n",
    "    workout_date = Annotation(f'Workout date: {date_str}', xy=[xmax//2, ymax-(ymax*0.08)], \n",
    "                              ha='center', color='white', fontweight='bold', fontsize='xx-large')\n",
    "    ax1.add_artist(workout_date)\n",
    "    \n",
    "    # Plot smoothed power, line color, and thickness\n",
    "    plt.plot(minutes, watts_smoothed, color='white', linewidth=1.25)\n",
    "    \n",
    "    # Annotate max power \n",
    "    max_power = Annotation(f'{max_watts}w', xy=(max_pwr_timestamp, max_watts), xytext=(0, 15), \n",
    "                           textcoords=\"offset pixels\", ha='center', color='white', fontweight='bold', \n",
    "                           fontsize='xx-large', arrowprops=dict(arrowstyle='wedge', color='yellow'))\n",
    "    ax1.add_artist(max_power)\n",
    "    \n",
    "    plt.vlines(x=max_pwr_timestamp, ymin=0, ymax=max_watts, color='white', linewidth=1.5)\n",
    "    \n",
    "    \n",
    "    # Instantiate second y axis for heart rate graph\n",
    "    ax2 = ax1.twinx()\n",
    "    ax2.set_ylabel(\"Heart Rate\", fontsize='xx-large')    \n",
    "    ax2.set_ylim(top=max(hr)*1.20)\n",
    "    ax2.tick_params(labelsize='xx-large')\n",
    "    \n",
    "    # Plot heart rate\n",
    "    ax2.plot(minutes, hr, color='red', linewidth=1.2)\n",
    "    \n",
    "    # Annotate max heart rate\n",
    "    max_hr_annt = Annotation(f'{max_hr}bpm', xy=(max_hr_timestamp, max_hr), xytext=(0, 15), \n",
    "                           textcoords=\"offset pixels\", ha='center', color='white', fontweight='bold', \n",
    "                           fontsize='xx-large', arrowprops=dict(arrowstyle='wedge', color='red'))\n",
    "    ax2.add_artist(max_hr_annt)\n",
    "    \n",
    "    plt.show()\n",
    "\n",
    "else:\n",
    "    print(f\"\\nThe graph cannot be drawn; no valid FTP was provided.\")\n",
    "    print(f\"If you wish to try again, please have your FTP value ready and then reload this page.\")\n"
   ]
  },
  {
   "cell_type": "code",
   "execution_count": null,
   "id": "e88bcdaf",
   "metadata": {},
   "outputs": [],
   "source": []
  }
 ],
 "metadata": {
  "kernelspec": {
   "display_name": "Python 3 (ipykernel)",
   "language": "python",
   "name": "python3"
  },
  "language_info": {
   "codemirror_mode": {
    "name": "ipython",
    "version": 3
   },
   "file_extension": ".py",
   "mimetype": "text/x-python",
   "name": "python",
   "nbconvert_exporter": "python",
   "pygments_lexer": "ipython3",
   "version": "3.9.5"
  },
  "toc": {
   "base_numbering": 1,
   "nav_menu": {},
   "number_sections": true,
   "sideBar": true,
   "skip_h1_title": true,
   "title_cell": "Table of Contents",
   "title_sidebar": "Contents",
   "toc_cell": false,
   "toc_position": {
    "height": "calc(100% - 180px)",
    "left": "10px",
    "top": "150px",
    "width": "165px"
   },
   "toc_section_display": true,
   "toc_window_display": true
  }
 },
 "nbformat": 4,
 "nbformat_minor": 5
}
