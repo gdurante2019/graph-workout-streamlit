{
 "cells": [
  {
   "cell_type": "markdown",
   "id": "80909fc8",
   "metadata": {},
   "source": [
    "# Recreating Zwift ride powerplot"
   ]
  },
  {
   "cell_type": "markdown",
   "id": "b9b1655d",
   "metadata": {},
   "source": [
    "## Step 1:  Import .fit file and convert to pandas dataframe\n",
    "\n",
    "The code for importing .fit files and converting to a pandas dataframe is from http://johannesjacob.com/analyze-your-cycling-data-python/.\n",
    "To install the python packages, type 'pip install pandas numpy fitparse matplotlib tqdm' on the command line.\n"
   ]
  },
  {
   "cell_type": "code",
   "execution_count": 1,
   "id": "ccc516cb",
   "metadata": {},
   "outputs": [],
   "source": [
    "import os\n",
    "import datetime\n",
    "from fitparse import FitFile\n",
    "import pandas as pd\n",
    "import numpy as np\n",
    "import matplotlib.pyplot as plt\n",
    "from tqdm import tqdm\n"
   ]
  },
  {
   "cell_type": "code",
   "execution_count": 2,
   "id": "71a85da9",
   "metadata": {},
   "outputs": [
    {
     "name": "stdout",
     "output_type": "stream",
     "text": [
      "Type filename, including .fit extension:  2021-10-05-10-54-32.fit\n"
     ]
    }
   ],
   "source": [
    "filename = input(\"Type filename, including .fit extension:  \")\n",
    "# 2021-10-05-10-54-32.fit\n",
    "\n",
    "fitfile = FitFile(filename)"
   ]
  },
  {
   "cell_type": "markdown",
   "id": "c35f2ad9",
   "metadata": {},
   "source": [
    "From the blog post:  \n",
    "_\"Now we are ready to import the workout file and transform the data into a \n",
    "pandas dataframe. Unfortunately we have to use an ugly hack with this \"while\" \n",
    "loop to avoid timing issues. Then we are looping through the file, append \n",
    "the records to a list and convert the list to a pandas dataframe.\"_"
   ]
  },
  {
   "cell_type": "code",
   "execution_count": 3,
   "id": "4f1ba20d",
   "metadata": {},
   "outputs": [],
   "source": [
    "while True:\n",
    "    try:\n",
    "        fitfile.messages\n",
    "        break\n",
    "    except KeyError:\n",
    "        continue\n",
    "workout = []\n",
    "for record in fitfile.get_messages('record'):\n",
    "    r = {}\n",
    "    for record_data in record:\n",
    "        r[record_data.name] = record_data.value\n",
    "    workout.append(r)\n",
    "df = pd.DataFrame(workout)"
   ]
  },
  {
   "cell_type": "code",
   "execution_count": 4,
   "id": "0793d869",
   "metadata": {
    "scrolled": false
   },
   "outputs": [
    {
     "data": {
      "text/html": [
       "<div>\n",
       "<style scoped>\n",
       "    .dataframe tbody tr th:only-of-type {\n",
       "        vertical-align: middle;\n",
       "    }\n",
       "\n",
       "    .dataframe tbody tr th {\n",
       "        vertical-align: top;\n",
       "    }\n",
       "\n",
       "    .dataframe thead th {\n",
       "        text-align: right;\n",
       "    }\n",
       "</style>\n",
       "<table border=\"1\" class=\"dataframe\">\n",
       "  <thead>\n",
       "    <tr style=\"text-align: right;\">\n",
       "      <th></th>\n",
       "      <th>altitude</th>\n",
       "      <th>cadence</th>\n",
       "      <th>compressed_speed_distance</th>\n",
       "      <th>cycle_length</th>\n",
       "      <th>distance</th>\n",
       "      <th>enhanced_altitude</th>\n",
       "      <th>enhanced_speed</th>\n",
       "      <th>grade</th>\n",
       "      <th>heart_rate</th>\n",
       "      <th>position_lat</th>\n",
       "      <th>position_long</th>\n",
       "      <th>power</th>\n",
       "      <th>resistance</th>\n",
       "      <th>speed</th>\n",
       "      <th>temperature</th>\n",
       "      <th>time_from_course</th>\n",
       "      <th>timestamp</th>\n",
       "    </tr>\n",
       "  </thead>\n",
       "  <tbody>\n",
       "    <tr>\n",
       "      <th>0</th>\n",
       "      <td>5.0</td>\n",
       "      <td>108</td>\n",
       "      <td>None</td>\n",
       "      <td>None</td>\n",
       "      <td>None</td>\n",
       "      <td>5.0</td>\n",
       "      <td>9.948</td>\n",
       "      <td>None</td>\n",
       "      <td>165</td>\n",
       "      <td>-138819701</td>\n",
       "      <td>1991832102</td>\n",
       "      <td>280</td>\n",
       "      <td>None</td>\n",
       "      <td>9.948</td>\n",
       "      <td>None</td>\n",
       "      <td>None</td>\n",
       "      <td>2021-10-05 18:05:18</td>\n",
       "    </tr>\n",
       "    <tr>\n",
       "      <th>1</th>\n",
       "      <td>5.0</td>\n",
       "      <td>109</td>\n",
       "      <td>None</td>\n",
       "      <td>None</td>\n",
       "      <td>None</td>\n",
       "      <td>5.0</td>\n",
       "      <td>10.150</td>\n",
       "      <td>None</td>\n",
       "      <td>166</td>\n",
       "      <td>-138820063</td>\n",
       "      <td>1991831076</td>\n",
       "      <td>248</td>\n",
       "      <td>None</td>\n",
       "      <td>10.150</td>\n",
       "      <td>None</td>\n",
       "      <td>None</td>\n",
       "      <td>2021-10-05 18:05:19</td>\n",
       "    </tr>\n",
       "    <tr>\n",
       "      <th>2</th>\n",
       "      <td>5.0</td>\n",
       "      <td>110</td>\n",
       "      <td>None</td>\n",
       "      <td>None</td>\n",
       "      <td>None</td>\n",
       "      <td>5.0</td>\n",
       "      <td>10.311</td>\n",
       "      <td>None</td>\n",
       "      <td>167</td>\n",
       "      <td>-138820372</td>\n",
       "      <td>1991830018</td>\n",
       "      <td>245</td>\n",
       "      <td>None</td>\n",
       "      <td>10.311</td>\n",
       "      <td>None</td>\n",
       "      <td>None</td>\n",
       "      <td>2021-10-05 18:05:20</td>\n",
       "    </tr>\n",
       "    <tr>\n",
       "      <th>3</th>\n",
       "      <td>5.0</td>\n",
       "      <td>108</td>\n",
       "      <td>None</td>\n",
       "      <td>None</td>\n",
       "      <td>None</td>\n",
       "      <td>5.0</td>\n",
       "      <td>10.464</td>\n",
       "      <td>None</td>\n",
       "      <td>168</td>\n",
       "      <td>-138820865</td>\n",
       "      <td>1991828979</td>\n",
       "      <td>248</td>\n",
       "      <td>None</td>\n",
       "      <td>10.464</td>\n",
       "      <td>None</td>\n",
       "      <td>None</td>\n",
       "      <td>2021-10-05 18:05:21</td>\n",
       "    </tr>\n",
       "    <tr>\n",
       "      <th>4</th>\n",
       "      <td>4.8</td>\n",
       "      <td>107</td>\n",
       "      <td>None</td>\n",
       "      <td>None</td>\n",
       "      <td>None</td>\n",
       "      <td>4.8</td>\n",
       "      <td>10.771</td>\n",
       "      <td>None</td>\n",
       "      <td>168</td>\n",
       "      <td>-138821057</td>\n",
       "      <td>1991827881</td>\n",
       "      <td>234</td>\n",
       "      <td>None</td>\n",
       "      <td>10.771</td>\n",
       "      <td>None</td>\n",
       "      <td>None</td>\n",
       "      <td>2021-10-05 18:05:22</td>\n",
       "    </tr>\n",
       "  </tbody>\n",
       "</table>\n",
       "</div>"
      ],
      "text/plain": [
       "   altitude  cadence compressed_speed_distance cycle_length distance  \\\n",
       "0       5.0      108                      None         None     None   \n",
       "1       5.0      109                      None         None     None   \n",
       "2       5.0      110                      None         None     None   \n",
       "3       5.0      108                      None         None     None   \n",
       "4       4.8      107                      None         None     None   \n",
       "\n",
       "   enhanced_altitude  enhanced_speed grade  heart_rate  position_lat  \\\n",
       "0                5.0           9.948  None         165    -138819701   \n",
       "1                5.0          10.150  None         166    -138820063   \n",
       "2                5.0          10.311  None         167    -138820372   \n",
       "3                5.0          10.464  None         168    -138820865   \n",
       "4                4.8          10.771  None         168    -138821057   \n",
       "\n",
       "   position_long  power resistance   speed temperature time_from_course  \\\n",
       "0     1991832102    280       None   9.948        None             None   \n",
       "1     1991831076    248       None  10.150        None             None   \n",
       "2     1991830018    245       None  10.311        None             None   \n",
       "3     1991828979    248       None  10.464        None             None   \n",
       "4     1991827881    234       None  10.771        None             None   \n",
       "\n",
       "            timestamp  \n",
       "0 2021-10-05 18:05:18  \n",
       "1 2021-10-05 18:05:19  \n",
       "2 2021-10-05 18:05:20  \n",
       "3 2021-10-05 18:05:21  \n",
       "4 2021-10-05 18:05:22  "
      ]
     },
     "execution_count": 4,
     "metadata": {},
     "output_type": "execute_result"
    }
   ],
   "source": [
    "df.head()"
   ]
  },
  {
   "cell_type": "code",
   "execution_count": 5,
   "id": "4b113805",
   "metadata": {
    "scrolled": false
   },
   "outputs": [
    {
     "data": {
      "text/html": [
       "<div>\n",
       "<style scoped>\n",
       "    .dataframe tbody tr th:only-of-type {\n",
       "        vertical-align: middle;\n",
       "    }\n",
       "\n",
       "    .dataframe tbody tr th {\n",
       "        vertical-align: top;\n",
       "    }\n",
       "\n",
       "    .dataframe thead th {\n",
       "        text-align: right;\n",
       "    }\n",
       "</style>\n",
       "<table border=\"1\" class=\"dataframe\">\n",
       "  <thead>\n",
       "    <tr style=\"text-align: right;\">\n",
       "      <th></th>\n",
       "      <th>altitude</th>\n",
       "      <th>cadence</th>\n",
       "      <th>compressed_speed_distance</th>\n",
       "      <th>cycle_length</th>\n",
       "      <th>distance</th>\n",
       "      <th>enhanced_altitude</th>\n",
       "      <th>enhanced_speed</th>\n",
       "      <th>grade</th>\n",
       "      <th>heart_rate</th>\n",
       "      <th>position_lat</th>\n",
       "      <th>position_long</th>\n",
       "      <th>power</th>\n",
       "      <th>resistance</th>\n",
       "      <th>speed</th>\n",
       "      <th>temperature</th>\n",
       "      <th>time_from_course</th>\n",
       "      <th>timestamp</th>\n",
       "    </tr>\n",
       "  </thead>\n",
       "  <tbody>\n",
       "    <tr>\n",
       "      <th>4675</th>\n",
       "      <td>-5.4</td>\n",
       "      <td>0</td>\n",
       "      <td>None</td>\n",
       "      <td>None</td>\n",
       "      <td>None</td>\n",
       "      <td>-5.4</td>\n",
       "      <td>0.0</td>\n",
       "      <td>None</td>\n",
       "      <td>141</td>\n",
       "      <td>-138956888</td>\n",
       "      <td>1991928421</td>\n",
       "      <td>0</td>\n",
       "      <td>None</td>\n",
       "      <td>0.0</td>\n",
       "      <td>None</td>\n",
       "      <td>None</td>\n",
       "      <td>2021-10-05 19:23:13</td>\n",
       "    </tr>\n",
       "  </tbody>\n",
       "</table>\n",
       "</div>"
      ],
      "text/plain": [
       "      altitude  cadence compressed_speed_distance cycle_length distance  \\\n",
       "4675      -5.4        0                      None         None     None   \n",
       "\n",
       "      enhanced_altitude  enhanced_speed grade  heart_rate  position_lat  \\\n",
       "4675               -5.4             0.0  None         141    -138956888   \n",
       "\n",
       "      position_long  power resistance  speed temperature time_from_course  \\\n",
       "4675     1991928421      0       None    0.0        None             None   \n",
       "\n",
       "               timestamp  \n",
       "4675 2021-10-05 19:23:13  "
      ]
     },
     "execution_count": 5,
     "metadata": {},
     "output_type": "execute_result"
    }
   ],
   "source": [
    "df.tail(1)"
   ]
  },
  {
   "cell_type": "markdown",
   "id": "a00ea909",
   "metadata": {},
   "source": [
    "## Step 2:  Get date of workout from column 'timestamp' "
   ]
  },
  {
   "cell_type": "code",
   "execution_count": 6,
   "id": "4e0d3150",
   "metadata": {
    "scrolled": false
   },
   "outputs": [
    {
     "data": {
      "text/plain": [
       "array(['2021-10-05T19:23:13.000000000'], dtype='datetime64[ns]')"
      ]
     },
     "execution_count": 6,
     "metadata": {},
     "output_type": "execute_result"
    }
   ],
   "source": [
    "timestamp = df['timestamp'].tail(1).values\n",
    "timestamp"
   ]
  },
  {
   "cell_type": "code",
   "execution_count": 7,
   "id": "dc99bc7b",
   "metadata": {},
   "outputs": [
    {
     "data": {
      "text/plain": [
       "array(['2021-10-05'], dtype='<U28')"
      ]
     },
     "execution_count": 7,
     "metadata": {},
     "output_type": "execute_result"
    }
   ],
   "source": [
    "date = np.datetime_as_string(timestamp, unit='D')\n",
    "date"
   ]
  },
  {
   "cell_type": "code",
   "execution_count": 8,
   "id": "34efc2f6",
   "metadata": {},
   "outputs": [
    {
     "name": "stdout",
     "output_type": "stream",
     "text": [
      "['2021-10-05']\n"
     ]
    }
   ],
   "source": [
    "date_str = str(date)\n",
    "type(date_str)\n",
    "print(date_str)\n"
   ]
  },
  {
   "cell_type": "code",
   "execution_count": 9,
   "id": "c01f99af",
   "metadata": {},
   "outputs": [
    {
     "name": "stdout",
     "output_type": "stream",
     "text": [
      "2021-10-05\n"
     ]
    }
   ],
   "source": [
    "date_str = date_str.strip(\"[\")\n",
    "date_str = date_str.strip(\"]\")\n",
    "date_str = date_str.strip(\"'\")\n",
    "print(date_str)"
   ]
  },
  {
   "cell_type": "markdown",
   "id": "8fb899ed",
   "metadata": {},
   "source": [
    "## Step 3:  Remove unnecessary columns"
   ]
  },
  {
   "cell_type": "code",
   "execution_count": 10,
   "id": "ee5ceef8",
   "metadata": {},
   "outputs": [
    {
     "data": {
      "text/plain": [
       "Index(['altitude', 'cadence', 'compressed_speed_distance', 'cycle_length',\n",
       "       'distance', 'enhanced_altitude', 'enhanced_speed', 'grade',\n",
       "       'heart_rate', 'position_lat', 'position_long', 'power', 'resistance',\n",
       "       'speed', 'temperature', 'time_from_course', 'timestamp'],\n",
       "      dtype='object')"
      ]
     },
     "execution_count": 10,
     "metadata": {},
     "output_type": "execute_result"
    }
   ],
   "source": [
    "df.columns"
   ]
  },
  {
   "cell_type": "markdown",
   "id": "a2484d4d",
   "metadata": {},
   "source": [
    "I'd like to keep the following columns only:\n",
    "* cadence\n",
    "* heart_rate\n",
    "* power\n",
    "* speed\n"
   ]
  },
  {
   "cell_type": "code",
   "execution_count": 11,
   "id": "b30c16d9",
   "metadata": {
    "scrolled": true
   },
   "outputs": [
    {
     "data": {
      "text/html": [
       "<div>\n",
       "<style scoped>\n",
       "    .dataframe tbody tr th:only-of-type {\n",
       "        vertical-align: middle;\n",
       "    }\n",
       "\n",
       "    .dataframe tbody tr th {\n",
       "        vertical-align: top;\n",
       "    }\n",
       "\n",
       "    .dataframe thead th {\n",
       "        text-align: right;\n",
       "    }\n",
       "</style>\n",
       "<table border=\"1\" class=\"dataframe\">\n",
       "  <thead>\n",
       "    <tr style=\"text-align: right;\">\n",
       "      <th></th>\n",
       "      <th>cadence</th>\n",
       "      <th>heart_rate</th>\n",
       "      <th>power</th>\n",
       "      <th>speed</th>\n",
       "    </tr>\n",
       "  </thead>\n",
       "  <tbody>\n",
       "    <tr>\n",
       "      <th>0</th>\n",
       "      <td>108</td>\n",
       "      <td>165</td>\n",
       "      <td>280</td>\n",
       "      <td>9.948</td>\n",
       "    </tr>\n",
       "    <tr>\n",
       "      <th>1</th>\n",
       "      <td>109</td>\n",
       "      <td>166</td>\n",
       "      <td>248</td>\n",
       "      <td>10.150</td>\n",
       "    </tr>\n",
       "    <tr>\n",
       "      <th>2</th>\n",
       "      <td>110</td>\n",
       "      <td>167</td>\n",
       "      <td>245</td>\n",
       "      <td>10.311</td>\n",
       "    </tr>\n",
       "    <tr>\n",
       "      <th>3</th>\n",
       "      <td>108</td>\n",
       "      <td>168</td>\n",
       "      <td>248</td>\n",
       "      <td>10.464</td>\n",
       "    </tr>\n",
       "    <tr>\n",
       "      <th>4</th>\n",
       "      <td>107</td>\n",
       "      <td>168</td>\n",
       "      <td>234</td>\n",
       "      <td>10.771</td>\n",
       "    </tr>\n",
       "    <tr>\n",
       "      <th>...</th>\n",
       "      <td>...</td>\n",
       "      <td>...</td>\n",
       "      <td>...</td>\n",
       "      <td>...</td>\n",
       "    </tr>\n",
       "    <tr>\n",
       "      <th>4671</th>\n",
       "      <td>0</td>\n",
       "      <td>143</td>\n",
       "      <td>0</td>\n",
       "      <td>1.061</td>\n",
       "    </tr>\n",
       "    <tr>\n",
       "      <th>4672</th>\n",
       "      <td>0</td>\n",
       "      <td>142</td>\n",
       "      <td>0</td>\n",
       "      <td>0.330</td>\n",
       "    </tr>\n",
       "    <tr>\n",
       "      <th>4673</th>\n",
       "      <td>0</td>\n",
       "      <td>142</td>\n",
       "      <td>0</td>\n",
       "      <td>0.000</td>\n",
       "    </tr>\n",
       "    <tr>\n",
       "      <th>4674</th>\n",
       "      <td>0</td>\n",
       "      <td>141</td>\n",
       "      <td>0</td>\n",
       "      <td>0.000</td>\n",
       "    </tr>\n",
       "    <tr>\n",
       "      <th>4675</th>\n",
       "      <td>0</td>\n",
       "      <td>141</td>\n",
       "      <td>0</td>\n",
       "      <td>0.000</td>\n",
       "    </tr>\n",
       "  </tbody>\n",
       "</table>\n",
       "<p>4676 rows × 4 columns</p>\n",
       "</div>"
      ],
      "text/plain": [
       "      cadence  heart_rate  power   speed\n",
       "0         108         165    280   9.948\n",
       "1         109         166    248  10.150\n",
       "2         110         167    245  10.311\n",
       "3         108         168    248  10.464\n",
       "4         107         168    234  10.771\n",
       "...       ...         ...    ...     ...\n",
       "4671        0         143      0   1.061\n",
       "4672        0         142      0   0.330\n",
       "4673        0         142      0   0.000\n",
       "4674        0         141      0   0.000\n",
       "4675        0         141      0   0.000\n",
       "\n",
       "[4676 rows x 4 columns]"
      ]
     },
     "execution_count": 11,
     "metadata": {},
     "output_type": "execute_result"
    }
   ],
   "source": [
    "df_subset = pd.DataFrame(df, columns=['cadence', 'heart_rate', 'power', 'speed'])\n",
    "df_subset"
   ]
  },
  {
   "cell_type": "markdown",
   "id": "56265e4a",
   "metadata": {},
   "source": [
    "## Step 4:  Insert a column 'time_unit' "
   ]
  },
  {
   "cell_type": "markdown",
   "id": "8f6ba242",
   "metadata": {},
   "source": [
    "_**Note:  Zwift records workout data once every second.  Using .fit files with data recorded more or less frequently will result in an incorrect number of minutes on the x-axis of the graph.**_"
   ]
  },
  {
   "cell_type": "code",
   "execution_count": 12,
   "id": "cf2e5f79",
   "metadata": {
    "scrolled": true
   },
   "outputs": [],
   "source": [
    "df_subset.insert(loc=0, column='time_unit', value=np.arange(len(df_subset)))"
   ]
  },
  {
   "cell_type": "code",
   "execution_count": 13,
   "id": "9de8497f",
   "metadata": {},
   "outputs": [
    {
     "data": {
      "text/html": [
       "<div>\n",
       "<style scoped>\n",
       "    .dataframe tbody tr th:only-of-type {\n",
       "        vertical-align: middle;\n",
       "    }\n",
       "\n",
       "    .dataframe tbody tr th {\n",
       "        vertical-align: top;\n",
       "    }\n",
       "\n",
       "    .dataframe thead th {\n",
       "        text-align: right;\n",
       "    }\n",
       "</style>\n",
       "<table border=\"1\" class=\"dataframe\">\n",
       "  <thead>\n",
       "    <tr style=\"text-align: right;\">\n",
       "      <th></th>\n",
       "      <th>time_unit</th>\n",
       "      <th>cadence</th>\n",
       "      <th>heart_rate</th>\n",
       "      <th>power</th>\n",
       "      <th>speed</th>\n",
       "    </tr>\n",
       "  </thead>\n",
       "  <tbody>\n",
       "    <tr>\n",
       "      <th>0</th>\n",
       "      <td>0</td>\n",
       "      <td>108</td>\n",
       "      <td>165</td>\n",
       "      <td>280</td>\n",
       "      <td>9.948</td>\n",
       "    </tr>\n",
       "    <tr>\n",
       "      <th>1</th>\n",
       "      <td>1</td>\n",
       "      <td>109</td>\n",
       "      <td>166</td>\n",
       "      <td>248</td>\n",
       "      <td>10.150</td>\n",
       "    </tr>\n",
       "    <tr>\n",
       "      <th>2</th>\n",
       "      <td>2</td>\n",
       "      <td>110</td>\n",
       "      <td>167</td>\n",
       "      <td>245</td>\n",
       "      <td>10.311</td>\n",
       "    </tr>\n",
       "    <tr>\n",
       "      <th>3</th>\n",
       "      <td>3</td>\n",
       "      <td>108</td>\n",
       "      <td>168</td>\n",
       "      <td>248</td>\n",
       "      <td>10.464</td>\n",
       "    </tr>\n",
       "    <tr>\n",
       "      <th>4</th>\n",
       "      <td>4</td>\n",
       "      <td>107</td>\n",
       "      <td>168</td>\n",
       "      <td>234</td>\n",
       "      <td>10.771</td>\n",
       "    </tr>\n",
       "    <tr>\n",
       "      <th>...</th>\n",
       "      <td>...</td>\n",
       "      <td>...</td>\n",
       "      <td>...</td>\n",
       "      <td>...</td>\n",
       "      <td>...</td>\n",
       "    </tr>\n",
       "    <tr>\n",
       "      <th>4671</th>\n",
       "      <td>4671</td>\n",
       "      <td>0</td>\n",
       "      <td>143</td>\n",
       "      <td>0</td>\n",
       "      <td>1.061</td>\n",
       "    </tr>\n",
       "    <tr>\n",
       "      <th>4672</th>\n",
       "      <td>4672</td>\n",
       "      <td>0</td>\n",
       "      <td>142</td>\n",
       "      <td>0</td>\n",
       "      <td>0.330</td>\n",
       "    </tr>\n",
       "    <tr>\n",
       "      <th>4673</th>\n",
       "      <td>4673</td>\n",
       "      <td>0</td>\n",
       "      <td>142</td>\n",
       "      <td>0</td>\n",
       "      <td>0.000</td>\n",
       "    </tr>\n",
       "    <tr>\n",
       "      <th>4674</th>\n",
       "      <td>4674</td>\n",
       "      <td>0</td>\n",
       "      <td>141</td>\n",
       "      <td>0</td>\n",
       "      <td>0.000</td>\n",
       "    </tr>\n",
       "    <tr>\n",
       "      <th>4675</th>\n",
       "      <td>4675</td>\n",
       "      <td>0</td>\n",
       "      <td>141</td>\n",
       "      <td>0</td>\n",
       "      <td>0.000</td>\n",
       "    </tr>\n",
       "  </tbody>\n",
       "</table>\n",
       "<p>4676 rows × 5 columns</p>\n",
       "</div>"
      ],
      "text/plain": [
       "      time_unit  cadence  heart_rate  power   speed\n",
       "0             0      108         165    280   9.948\n",
       "1             1      109         166    248  10.150\n",
       "2             2      110         167    245  10.311\n",
       "3             3      108         168    248  10.464\n",
       "4             4      107         168    234  10.771\n",
       "...         ...      ...         ...    ...     ...\n",
       "4671       4671        0         143      0   1.061\n",
       "4672       4672        0         142      0   0.330\n",
       "4673       4673        0         142      0   0.000\n",
       "4674       4674        0         141      0   0.000\n",
       "4675       4675        0         141      0   0.000\n",
       "\n",
       "[4676 rows x 5 columns]"
      ]
     },
     "execution_count": 13,
     "metadata": {},
     "output_type": "execute_result"
    }
   ],
   "source": [
    "df_subset"
   ]
  },
  {
   "cell_type": "code",
   "execution_count": 14,
   "id": "018accc3",
   "metadata": {},
   "outputs": [],
   "source": [
    "df_subset.rename(columns = {'power':'watts'}, inplace = True)"
   ]
  },
  {
   "cell_type": "code",
   "execution_count": 15,
   "id": "779373be",
   "metadata": {},
   "outputs": [
    {
     "data": {
      "text/html": [
       "<div>\n",
       "<style scoped>\n",
       "    .dataframe tbody tr th:only-of-type {\n",
       "        vertical-align: middle;\n",
       "    }\n",
       "\n",
       "    .dataframe tbody tr th {\n",
       "        vertical-align: top;\n",
       "    }\n",
       "\n",
       "    .dataframe thead th {\n",
       "        text-align: right;\n",
       "    }\n",
       "</style>\n",
       "<table border=\"1\" class=\"dataframe\">\n",
       "  <thead>\n",
       "    <tr style=\"text-align: right;\">\n",
       "      <th></th>\n",
       "      <th>time_unit</th>\n",
       "      <th>cadence</th>\n",
       "      <th>heart_rate</th>\n",
       "      <th>watts</th>\n",
       "      <th>speed</th>\n",
       "    </tr>\n",
       "  </thead>\n",
       "  <tbody>\n",
       "    <tr>\n",
       "      <th>0</th>\n",
       "      <td>0</td>\n",
       "      <td>108</td>\n",
       "      <td>165</td>\n",
       "      <td>280</td>\n",
       "      <td>9.948</td>\n",
       "    </tr>\n",
       "    <tr>\n",
       "      <th>1</th>\n",
       "      <td>1</td>\n",
       "      <td>109</td>\n",
       "      <td>166</td>\n",
       "      <td>248</td>\n",
       "      <td>10.150</td>\n",
       "    </tr>\n",
       "    <tr>\n",
       "      <th>2</th>\n",
       "      <td>2</td>\n",
       "      <td>110</td>\n",
       "      <td>167</td>\n",
       "      <td>245</td>\n",
       "      <td>10.311</td>\n",
       "    </tr>\n",
       "    <tr>\n",
       "      <th>3</th>\n",
       "      <td>3</td>\n",
       "      <td>108</td>\n",
       "      <td>168</td>\n",
       "      <td>248</td>\n",
       "      <td>10.464</td>\n",
       "    </tr>\n",
       "    <tr>\n",
       "      <th>4</th>\n",
       "      <td>4</td>\n",
       "      <td>107</td>\n",
       "      <td>168</td>\n",
       "      <td>234</td>\n",
       "      <td>10.771</td>\n",
       "    </tr>\n",
       "    <tr>\n",
       "      <th>...</th>\n",
       "      <td>...</td>\n",
       "      <td>...</td>\n",
       "      <td>...</td>\n",
       "      <td>...</td>\n",
       "      <td>...</td>\n",
       "    </tr>\n",
       "    <tr>\n",
       "      <th>4671</th>\n",
       "      <td>4671</td>\n",
       "      <td>0</td>\n",
       "      <td>143</td>\n",
       "      <td>0</td>\n",
       "      <td>1.061</td>\n",
       "    </tr>\n",
       "    <tr>\n",
       "      <th>4672</th>\n",
       "      <td>4672</td>\n",
       "      <td>0</td>\n",
       "      <td>142</td>\n",
       "      <td>0</td>\n",
       "      <td>0.330</td>\n",
       "    </tr>\n",
       "    <tr>\n",
       "      <th>4673</th>\n",
       "      <td>4673</td>\n",
       "      <td>0</td>\n",
       "      <td>142</td>\n",
       "      <td>0</td>\n",
       "      <td>0.000</td>\n",
       "    </tr>\n",
       "    <tr>\n",
       "      <th>4674</th>\n",
       "      <td>4674</td>\n",
       "      <td>0</td>\n",
       "      <td>141</td>\n",
       "      <td>0</td>\n",
       "      <td>0.000</td>\n",
       "    </tr>\n",
       "    <tr>\n",
       "      <th>4675</th>\n",
       "      <td>4675</td>\n",
       "      <td>0</td>\n",
       "      <td>141</td>\n",
       "      <td>0</td>\n",
       "      <td>0.000</td>\n",
       "    </tr>\n",
       "  </tbody>\n",
       "</table>\n",
       "<p>4676 rows × 5 columns</p>\n",
       "</div>"
      ],
      "text/plain": [
       "      time_unit  cadence  heart_rate  watts   speed\n",
       "0             0      108         165    280   9.948\n",
       "1             1      109         166    248  10.150\n",
       "2             2      110         167    245  10.311\n",
       "3             3      108         168    248  10.464\n",
       "4             4      107         168    234  10.771\n",
       "...         ...      ...         ...    ...     ...\n",
       "4671       4671        0         143      0   1.061\n",
       "4672       4672        0         142      0   0.330\n",
       "4673       4673        0         142      0   0.000\n",
       "4674       4674        0         141      0   0.000\n",
       "4675       4675        0         141      0   0.000\n",
       "\n",
       "[4676 rows x 5 columns]"
      ]
     },
     "execution_count": 15,
     "metadata": {},
     "output_type": "execute_result"
    }
   ],
   "source": [
    "df_subset"
   ]
  },
  {
   "cell_type": "code",
   "execution_count": 16,
   "id": "9f95e12c",
   "metadata": {},
   "outputs": [],
   "source": [
    "import numpy as np\n",
    "import matplotlib.pyplot as plt\n",
    "from smooth import smooth"
   ]
  },
  {
   "cell_type": "code",
   "execution_count": 17,
   "id": "b8ac9129",
   "metadata": {},
   "outputs": [
    {
     "name": "stdout",
     "output_type": "stream",
     "text": [
      "Enter FTP in watts (numbers only):  118\n"
     ]
    }
   ],
   "source": [
    "# Enter FTP\n",
    "\n",
    "ftp = int(input(\"Enter FTP in watts (numbers only):  \"))"
   ]
  },
  {
   "cell_type": "code",
   "execution_count": 18,
   "id": "4cf6172f",
   "metadata": {},
   "outputs": [],
   "source": [
    "# convert df to numpy array\n",
    "\n",
    "workout_data = df_subset.to_records(index=False)"
   ]
  },
  {
   "cell_type": "code",
   "execution_count": 19,
   "id": "1013c70c",
   "metadata": {},
   "outputs": [
    {
     "data": {
      "text/plain": [
       "rec.array([(   0, 108, 165, 280,  9.948), (   1, 109, 166, 248, 10.15 ),\n",
       "           (   2, 110, 167, 245, 10.311), ...,\n",
       "           (4673,   0, 142,   0,  0.   ), (4674,   0, 141,   0,  0.   ),\n",
       "           (4675,   0, 141,   0,  0.   )],\n",
       "          dtype=[('time_unit', '<i8'), ('cadence', '<i8'), ('heart_rate', '<i8'), ('watts', '<i8'), ('speed', '<f8')])"
      ]
     },
     "execution_count": 19,
     "metadata": {},
     "output_type": "execute_result"
    }
   ],
   "source": [
    "workout_data"
   ]
  },
  {
   "cell_type": "code",
   "execution_count": 20,
   "id": "d40746fc",
   "metadata": {},
   "outputs": [],
   "source": [
    "watts = workout_data['watts']\n",
    "time = workout_data['time_unit']"
   ]
  },
  {
   "cell_type": "code",
   "execution_count": 21,
   "id": "d92d2c78",
   "metadata": {},
   "outputs": [
    {
     "data": {
      "text/plain": [
       "array([280, 248, 245, ...,   0,   0,   0])"
      ]
     },
     "execution_count": 21,
     "metadata": {},
     "output_type": "execute_result"
    }
   ],
   "source": [
    "watts"
   ]
  },
  {
   "cell_type": "code",
   "execution_count": 22,
   "id": "2800a400",
   "metadata": {},
   "outputs": [
    {
     "data": {
      "text/plain": [
       "294"
      ]
     },
     "execution_count": 22,
     "metadata": {},
     "output_type": "execute_result"
    }
   ],
   "source": [
    "max_watts = max(watts)\n",
    "max_watts"
   ]
  },
  {
   "cell_type": "code",
   "execution_count": 23,
   "id": "7a0e7d66",
   "metadata": {},
   "outputs": [
    {
     "data": {
      "text/plain": [
       "352.8"
      ]
     },
     "execution_count": 23,
     "metadata": {},
     "output_type": "execute_result"
    }
   ],
   "source": [
    "y_top = max(watts)*1.20\n",
    "y_top"
   ]
  },
  {
   "cell_type": "code",
   "execution_count": 24,
   "id": "f609c265",
   "metadata": {},
   "outputs": [
    {
     "data": {
      "text/plain": [
       "4676"
      ]
     },
     "execution_count": 24,
     "metadata": {},
     "output_type": "execute_result"
    }
   ],
   "source": [
    "len(time)"
   ]
  },
  {
   "cell_type": "code",
   "execution_count": 25,
   "id": "1501760c",
   "metadata": {
    "scrolled": true
   },
   "outputs": [
    {
     "name": "stdout",
     "output_type": "stream",
     "text": [
      "4676\n"
     ]
    },
    {
     "data": {
      "text/plain": [
       "array([2.74581852e+02, 2.63853559e+02, 2.53436234e+02, ...,\n",
       "       2.45651647e-01, 4.11729599e-02, 0.00000000e+00])"
      ]
     },
     "execution_count": 25,
     "metadata": {},
     "output_type": "execute_result"
    }
   ],
   "source": [
    "watts_smoothed = smooth(watts, window_len=25)\n",
    "print(len(watts_smoothed))\n",
    "watts_smoothed"
   ]
  },
  {
   "cell_type": "markdown",
   "id": "e0beefac",
   "metadata": {},
   "source": [
    "## Step 6:  Give user the opportunity to enter how often .fit file data is recorded, in seconds (default is once per second, as on Zwift)"
   ]
  },
  {
   "cell_type": "code",
   "execution_count": 26,
   "id": "cfb4a120",
   "metadata": {},
   "outputs": [
    {
     "name": "stdout",
     "output_type": "stream",
     "text": [
      "Was your .fit file recorded by Zwift, and/or did you device record the workout in 1-second increments?  \n",
      "Enter 'y' for yes or 'n' for no. y\n"
     ]
    }
   ],
   "source": [
    "# Workout .fit file recorded by Zwift?\n",
    "\n",
    "zwift_or_not = input(\"Was your .fit file recorded by Zwift, and/or did you device record the workout in 1-second increments?  \\nEnter 'y' for yes or 'n' for no. \")"
   ]
  },
  {
   "cell_type": "code",
   "execution_count": 27,
   "id": "ec826078",
   "metadata": {},
   "outputs": [
    {
     "data": {
      "text/plain": [
       "'y'"
      ]
     },
     "execution_count": 27,
     "metadata": {},
     "output_type": "execute_result"
    }
   ],
   "source": [
    "zwift_or_not"
   ]
  },
  {
   "cell_type": "code",
   "execution_count": 28,
   "id": "54de191a",
   "metadata": {
    "scrolled": true
   },
   "outputs": [
    {
     "name": "stdout",
     "output_type": "stream",
     "text": [
      "\n",
      "The default recording frequency has been set to 1 second.\n"
     ]
    }
   ],
   "source": [
    "# If .fit file not recorded by Zwift, how frequently was data recorded, in seconds?\n",
    "\n",
    "if zwift_or_not=='y':\n",
    "    rec_freq = 1\n",
    "    print(f\"\\nThe default recording frequency has been set to {rec_freq} second.\")\n",
    "\n",
    "if zwift_or_not=='n':\n",
    "    \n",
    "    # default recording frequency to start with:\n",
    "    rec_freq = 1\n",
    "    \n",
    "    # set up try / except /finally loop:\n",
    "    n = 0\n",
    "    while n < 3: \n",
    "        try:\n",
    "            rec_freq = int(input(\"How frequently was your workout data recorded, in seconds?  \\nEntry must be in numbers >0 and <=60, e.g., '1' for once per second, '5' to represent data recorded once every 5 seconds, '10' to signify once every 10 seconds, etc.   \"))\n",
    "            print(f\"\\nThe recording frequency has been set to {rec_freq} second(s).\")\n",
    "            break\n",
    "        except ValueError:\n",
    "            n += 1\n",
    "            print()\n",
    "        if n == 3:\n",
    "            print(f\"\\nThe recording frequency has been set to {rec_freq} second(s).\")\n"
   ]
  },
  {
   "cell_type": "code",
   "execution_count": 29,
   "id": "0bdd0ce3",
   "metadata": {},
   "outputs": [
    {
     "data": {
      "text/plain": [
       "1"
      ]
     },
     "execution_count": 29,
     "metadata": {},
     "output_type": "execute_result"
    }
   ],
   "source": [
    "rec_freq"
   ]
  },
  {
   "cell_type": "code",
   "execution_count": 30,
   "id": "d5e7078b",
   "metadata": {},
   "outputs": [
    {
     "data": {
      "text/plain": [
       "60.0"
      ]
     },
     "execution_count": 30,
     "metadata": {},
     "output_type": "execute_result"
    }
   ],
   "source": [
    "# converting recording data into minutes  \n",
    "# freq represents how many rows of data are contained in 1 minute of workout time\n",
    "# For example, if data is recorded every 5 seconds, then there will be 12 rows of data \n",
    "# per every one minute of workout time\n",
    "\n",
    "freq = 60 / rec_freq\n",
    "freq\n"
   ]
  },
  {
   "cell_type": "code",
   "execution_count": 31,
   "id": "9b40956c",
   "metadata": {},
   "outputs": [
    {
     "name": "stdout",
     "output_type": "stream",
     "text": [
      "[0.00000000e+00 1.66666667e-02 3.33333333e-02 ... 7.78833333e+01\n",
      " 7.79000000e+01 7.79166667e+01]\n"
     ]
    }
   ],
   "source": [
    "minutes = workout_data['time_unit']/freq\n",
    "print(minutes)"
   ]
  },
  {
   "cell_type": "code",
   "execution_count": 32,
   "id": "eeea4b02",
   "metadata": {},
   "outputs": [],
   "source": [
    "import matplotlib.image as mpimg\n",
    "\n",
    "img = mpimg.imread('my_memoji.png')\n"
   ]
  },
  {
   "cell_type": "code",
   "execution_count": 33,
   "id": "98f162df",
   "metadata": {},
   "outputs": [
    {
     "data": {
      "image/png": "[encoded data removed]",
      "text/plain": [
       "<Figure size 432x288 with 1 Axes>"
      ]
     },
     "metadata": {
      "needs_background": "light"
     },
     "output_type": "display_data"
    }
   ],
   "source": [
    "imgplot = plt.imshow(img)"
   ]
  },
  {
   "cell_type": "code",
   "execution_count": 34,
   "id": "08c817c2",
   "metadata": {},
   "outputs": [
    {
     "name": "stdout",
     "output_type": "stream",
     "text": [
      "2021-10-05\n"
     ]
    }
   ],
   "source": [
    "print(date_str)"
   ]
  },
  {
   "cell_type": "code",
   "execution_count": 55,
   "id": "1cc4c874",
   "metadata": {},
   "outputs": [
    {
     "name": "stdout",
     "output_type": "stream",
     "text": [
      "Your name? Gina Durante\n"
     ]
    },
    {
     "data": {
      "text/plain": [
       "'Gina Durante'"
      ]
     },
     "execution_count": 55,
     "metadata": {},
     "output_type": "execute_result"
    }
   ],
   "source": [
    "name = input(\"Your name? \")\n",
    "name"
   ]
  },
  {
   "cell_type": "code",
   "execution_count": 56,
   "id": "5632baca",
   "metadata": {},
   "outputs": [
    {
     "data": {
      "image/png": "[encoded data removed]",
      "text/plain": [
       "<Figure size 1296x576 with 1 Axes>"
      ]
     },
     "metadata": {
      "needs_background": "light"
     },
     "output_type": "display_data"
    }
   ],
   "source": [
    "from matplotlib.offsetbox import (TextArea, DrawingArea, OffsetImage,\n",
    "                                  AnnotationBbox)\n",
    "\n",
    "from matplotlib.text import Annotation\n",
    "\n",
    "img, ax = plt.subplots(figsize=(18, 8))\n",
    "ax.set_facecolor(color='#252525')\n",
    "ax.set_xlabel(\"Time in Minutes\", fontsize='large')\n",
    "ax.set_ylabel(\"Watts\", fontsize='large')\n",
    "\n",
    "# This expands the top of the graph to 20% beyond max watts\n",
    "ax.set_ylim(top=y_top)\n",
    "\n",
    "# logic for color under the graph based on % of FTP (thanks to Jonas Häggqvist for this code)\n",
    "ax.grid(which='major', axis='y', alpha=0.1, linewidth=1)\n",
    "plt.fill_between(minutes, watts_smoothed, where=watts_smoothed > 0.00*ftp, color='#646464')\n",
    "plt.fill_between(minutes, watts_smoothed, where=watts_smoothed > 0.60*ftp, color='#328bff')\n",
    "plt.fill_between(minutes, watts_smoothed, where=watts_smoothed > 0.75*ftp, color='#59bf59')\n",
    "plt.fill_between(minutes, watts_smoothed, where=watts_smoothed > 0.90*ftp, color='#ffcc3f')\n",
    "plt.fill_between(minutes, watts_smoothed, where=watts_smoothed > 1.05*ftp, color='#ff663a')\n",
    "plt.fill_between(minutes, watts_smoothed, where=watts_smoothed > 1.18*ftp, color='#ff340c')\n",
    "\n",
    "# Setting the image and location (thanks to Phil Daws for the code that helped me get started)\n",
    "img = plt.imread(\"my_memoji.png\", format=None)\n",
    "imagebox = OffsetImage(img, zoom=0.2)\n",
    "imagebox.image.axes = ax\n",
    "\n",
    "xmin, xmax = ax.get_xlim()\n",
    "ymin, ymax = ax.get_ylim()\n",
    "\n",
    "xy = [xmax-(xmax*0.08), ymax-(ymax*0.15)]\n",
    "\n",
    "ab = AnnotationBbox(imagebox, xy,frameon=True)\n",
    "ax.add_artist(ab)\n",
    "\n",
    "# Adding name under image\n",
    "img_name = Annotation(name, xy=[xmax-(xmax*0.125), ymax-(ymax*0.3)], color='white', \n",
    "                  fontweight='bold', fontsize='medium', fontstyle='italic')\n",
    "ax.add_artist(img_name)\n",
    "\n",
    "# Adding the workout date to the graph\n",
    "workout_date = Annotation(f'Workout date: {date_str}', xy=[xmax-50, ymax-20], color='white', \n",
    "                          fontweight='bold', fontsize='large')\n",
    "ax.add_artist(workout_date)\n",
    "\n",
    "# Setting plot line color and thickness\n",
    "plt.plot(minutes, watts_smoothed, color='white', linewidth=1.0)\n",
    "\n",
    "plt.show()"
   ]
  },
  {
   "cell_type": "code",
   "execution_count": null,
   "id": "bd8d7a32",
   "metadata": {},
   "outputs": [],
   "source": []
  },
  {
   "cell_type": "code",
   "execution_count": null,
   "id": "4c1a545a",
   "metadata": {},
   "outputs": [],
   "source": []
  },
  {
   "cell_type": "code",
   "execution_count": null,
   "id": "336795d2",
   "metadata": {},
   "outputs": [],
   "source": []
  }
 ],
 "metadata": {
  "kernelspec": {
   "display_name": "Python 3 (ipykernel)",
   "language": "python",
   "name": "python3"
  },
  "language_info": {
   "codemirror_mode": {
    "name": "ipython",
    "version": 3
   },
   "file_extension": ".py",
   "mimetype": "text/x-python",
   "name": "python",
   "nbconvert_exporter": "python",
   "pygments_lexer": "ipython3",
   "version": "3.9.5"
  },
  "toc": {
   "base_numbering": 1,
   "nav_menu": {},
   "number_sections": false,
   "sideBar": false,
   "skip_h1_title": true,
   "title_cell": "Table of Contents",
   "title_sidebar": "Contents",
   "toc_cell": false,
   "toc_position": {
    "height": "calc(100% - 180px)",
    "left": "10px",
    "top": "150px",
    "width": "165px"
   },
   "toc_section_display": false,
   "toc_window_display": false
  }
 },
 "nbformat": 4,
 "nbformat_minor": 5
}
